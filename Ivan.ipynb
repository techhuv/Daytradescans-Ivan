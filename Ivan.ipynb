{
 "cells": [
  {
   "cell_type": "code",
   "execution_count": 18,
   "metadata": {},
   "outputs": [],
   "source": [
    "import webbrowser\n",
    "from bs4 import BeautifulSoup, NavigableString, Tag\n",
    "from selenium.webdriver.chrome.options import Options\n",
    "from selenium import webdriver\n",
    "import  os\n",
    "import pandas as pd\n",
    "import json\n",
    "import bs4\n",
    "from selenium.webdriver.common.by import By\n",
    "from selenium.webdriver.support.ui import WebDriverWait\n",
    "from selenium.webdriver.support import expected_conditions as EC\n",
    "from urllib3 import request\n",
    "from webdriver_manager.chrome import ChromeDriverManager\n",
    "from selenium.webdriver.support.select import Select\n",
    "import datetime\n",
    "import plotly.graph_objects as go\n",
    "import plotly.express as px\n",
    "from plotly.subplots import make_subplots\n",
    "\n",
    "\n",
    "################ JUST MAKE CHANGES HERE ########################\n",
    "startDate = '2021/06/01'  # <- FORMAT (YYYY/MM/DD)\n",
    "endDate = '2021/06/30'\n",
    "symbol = 'VTI'\n",
    "################################################################\n",
    "\n",
    "############### RESULTING FILE FORMAT ###########################\n",
    "\n",
    "#           '<SYMBOL>_<DD>_<MM>_<YYYY>.CSV'\n",
    "\n",
    "#################################################################\n",
    "\n",
    "cols = ['Date (DD/MM/YYYY)','Broker','Buy Value ($)','Sell Value ($)','Net Value ($)','Total Value ($)','Buy Volume','Sell Volume','Net Volume','Total Volume','Buy Trade Count','Sell Trade Count','Total Trade Count','Buy Price','Sell Price','Rank']\n",
    "graph1_df = pd.DataFrame(columns=cols)\n",
    "graph2_df = pd.DataFrame(columns=cols)\n",
    "file_name = ''\n",
    "\n",
    "def workdays(d, end, excluded=(6, 7)):\n",
    "    days = []\n",
    "    while d.date() <= end.date():\n",
    "        if d.isoweekday() not in excluded:\n",
    "            days.append(d.strftime('%Y/%m/%d'))\n",
    "        d += datetime.timedelta(days=1)\n",
    "    return days\n",
    "\n",
    "def main():\n",
    "\n",
    "    global startDate\n",
    "    global endDate\n",
    "    global symbol\n",
    "    global graph1_df\n",
    "    global graph2_df\n",
    "    global file_name\n",
    "    cols = ['Date (DD/MM/YYYY)','Broker','Buy Value ($)','Sell Value ($)','Net Value ($)','Total Value ($)','Buy Volume','Sell Volume','Net Volume','Total Volume','Buy Trade Count','Sell Trade Count','Total Trade Count','Buy Price','Sell Price','Rank']\n",
    "    \n",
    "\n",
    "    prefs = {\"profile.default_content_setting_values.notifications\" : 2}  #block notifications\n",
    "    chrome_options = Options()\n",
    "    chrome_options.add_experimental_option(\"prefs\",prefs)\n",
    "    chrome_options.add_argument(\"--no-sandbox\")\n",
    "    # chrome_options.add_argument(\"--headless\")     \n",
    "    #chrome_options.add_argument(\"--disable-setuid-sandbox\")\n",
    "    chrome_options.add_argument(\"--disable-dev-shm-usage\")\n",
    "    #chrome_options.add_argument('--disable-features=VizDisplayCompositor')\n",
    "    driver = webdriver.Chrome(ChromeDriverManager().install(),options=chrome_options)\n",
    "\n",
    "    driver.get(\"https://scanner.daytradescans.com/signin\")\n",
    "    driver.implicitly_wait(20)\n",
    "    driver.maximize_window()\n",
    "\n",
    "    user_name='//*[@id=\"user_email\"]'\n",
    "    password='//*[@id=\"user_password\"]'\n",
    "    submit_button='//*[@id=\"new_user\"]/div[2]/div/input'\n",
    "    fundamentals='//*[@id=\"navbarDropdown\"]'\n",
    "    broker_data = '//*[@id=\"navbarSupportedContent\"]/ul/li[1]/div/a[2]'\n",
    "    capture = '//*[@id=\"capture-broker-data\"]/span'\n",
    "    dl = '//*[@id=\"canvas-link\"]'\n",
    "\n",
    "    #on_login_page\n",
    "    driver.find_element_by_xpath(user_name).send_keys('ivan.cortez.paulo@gmail.com')  #login_id\n",
    "    driver.find_element_by_xpath(password).send_keys(\"qwertyuiop2021\")    #password\n",
    "    driver.find_element_by_xpath(submit_button).click()\n",
    "    driver.implicitly_wait(30)\n",
    "\n",
    "    print(\"logged in\")\n",
    "\n",
    "    driver.find_element_by_xpath(fundamentals).click()\n",
    "    driver.find_element_by_xpath(broker_data).click()\n",
    "\n",
    "    print(\"in broker data\")\n",
    "    \n",
    "\n",
    "    startDate = datetime.datetime.strptime(startDate, \"%Y/%m/%d\")\n",
    "    endDate = datetime.datetime.strptime(endDate, \"%Y/%m/%d\")\n",
    "    \n",
    "    # driver.find_element_by_xpath(text_box).send_keys(input_for_search)\n",
    "    # driver.find_element_by_xpath(from_date).send_keys(from_date_in)\n",
    "    # driver.find_element_by_xpath(to_date).send_keys(to_date_in)\n",
    "    # driver.find_element_by_xpath(search_button).click()\n",
    "\n",
    "    import time\n",
    "    \n",
    "    dates = workdays(startDate,endDate)\n",
    "\n",
    "    filedate1 = datetime.datetime.strptime(dates[0],'%Y/%m/%d').strftime('%d/%m/%Y').replace('/','_')\n",
    "    filedate2 = datetime.datetime.strptime(dates[-1],'%Y/%m/%d').strftime('%d/%m/%Y').replace('/','_')\n",
    "\n",
    "    for date in dates:\n",
    "\n",
    "        new_url = f'https://scanner.daytradescans.com/brokers?code_autocomplete_label={symbol}&code=&name_autocomplete_label=&name=&from={date}&to={date}&commit=Search&minimum_share_price=&maximum_share_price=&minimum_market_cap=&maximum_market_cap=&minimum_eps=&maximum_eps=&minimum_soi=&maximum_soi='\n",
    "        driver.get(new_url)\n",
    "        driver.implicitly_wait(10)\n",
    "\n",
    "        driver.find_element_by_xpath(capture).click()\n",
    "        driver.find_element_by_xpath(dl).click()\n",
    "        \n",
    "        driver.back()\n",
    "        html=driver.page_source\n",
    "        soup = BeautifulSoup(html,features=\"lxml\")\n",
    "        soup_data = soup.get_text()\n",
    "        a = json.loads(soup_data)\n",
    "\n",
    "        if bool(a):\n",
    "            df = pd.DataFrame(a)\n",
    "            df.drop(['id'],axis=1, inplace = True)\n",
    "            # import pdb; pdb.set_trace()\n",
    "            df['buy_volume'] = df['buy_volume'].map(float)\n",
    "            df['sell_volume'] = df['sell_volume'].map(float)\n",
    "\n",
    "            df['total_volume'] = abs(df['buy_volume']) + abs(df['sell_volume'])\n",
    "            tsum = df.tail(1)['total_volume']\n",
    "            df['Rank'] = df['total_volume']\n",
    "            df.Rank = df.Rank.div(float(tsum)) * 100\n",
    "            df.Rank = df.Rank.round(2)\n",
    "\n",
    "            td = datetime.datetime.strptime(date,'%Y/%m/%d').strftime('%d/%m/%Y')\n",
    "            df.rename(columns={'name':'Broker','buy_value':'Buy Value ($)','sell_value':'Sell Value ($)','net_value':'Net Value ($)','total_value':'Total Value ($)','buy_volume':'Buy Volume','sell_volume':'Sell Volume','net_volume':'Net Volume','total_volume':'Total Volume','buy_trade_count':'Buy Trade Count','sell_trade_count':'Sell Trade Count','total_trade_count':'Total Trade Count','buy_price':'Buy Price','sell_price':'Sell Price'},inplace=True)\n",
    "            df['Date (DD/MM/YYYY)'] = td\n",
    "\n",
    "            df = df[cols]\n",
    "\n",
    "            file_name = f'{symbol}_{filedate1}_to_{filedate2}.csv'\n",
    "            if not(os.path.exists(file_name) and os.path.getsize(file_name) > 0):\n",
    "                df.to_csv(file_name, mode = 'a',index=False)\n",
    "            else:\n",
    "                df.to_csv(file_name, mode = 'a', header = False, index=False)\n",
    "#             import pdb; pdb.set_trace()\n",
    "            graph1_df = graph1_df.append(df.tail(1))\n",
    "        \n",
    "    time.sleep(10)\n",
    "    driver.close()\n"
   ]
  },
  {
   "cell_type": "code",
   "execution_count": 19,
   "metadata": {},
   "outputs": [],
   "source": [
    "file_name = 'VTI_01_06_2021_to_30_06_2021.csv'"
   ]
  },
  {
   "cell_type": "code",
   "execution_count": 45,
   "metadata": {},
   "outputs": [
    {
     "data": {
      "application/vnd.plotly.v1+json": {
       "config": {
        "plotlyServerURL": "https://plot.ly"
       },
       "data": [
        {
         "close": [
          1.186330013,
          1.291451236,
          1.3,
          1.3,
          1.3,
          1.28938274,
          1.271066028,
          1.299700727,
          1.3,
          1.300002333,
          1.225,
          1.218830134,
          113.34085490000001,
          109.0036741,
          107.72230449999999,
          107.17232109999999,
          110.0052322,
          110.10683759999999,
          110.7427294,
          116.44076880000001,
          121.18325290000001
         ],
         "high": [
          1.186330013,
          1.291451236,
          1.3,
          1.3,
          1.3,
          1.28938274,
          1.271066028,
          1.299700727,
          1.3,
          1.300002333,
          1.225,
          1.218830134,
          113.34085490000001,
          109.0036741,
          107.72230449999999,
          107.17232109999999,
          110.0052322,
          110.10683759999999,
          110.7427294,
          116.44076880000001,
          121.18325290000001
         ],
         "low": [
          1.186330013,
          1.291451236,
          1.3,
          1.3,
          1.3,
          1.28938274,
          1.271066028,
          1.299700727,
          1.3,
          1.300002333,
          1.225,
          1.218830134,
          113.34085490000001,
          109.0036741,
          107.72230449999999,
          107.17232109999999,
          110.0052322,
          110.10683759999999,
          110.7427294,
          116.44076880000001,
          121.18325290000001
         ],
         "open": [
          1.186330013,
          1.291451236,
          1.3,
          1.3,
          1.3,
          1.28938274,
          1.271066028,
          1.299700727,
          1.3,
          1.300002333,
          1.225,
          1.218830134,
          113.34085490000001,
          109.0036741,
          107.72230449999999,
          107.17232109999999,
          110.0052322,
          110.10683759999999,
          110.7427294,
          116.44076880000001,
          121.18325290000001
         ],
         "type": "candlestick",
         "x": [
          "1/6/2021",
          "2/6/2021",
          "3/6/2021",
          "4/6/2021",
          "7/6/2021",
          "8/6/2021",
          "9/6/2021",
          "10/6/2021",
          "11/6/2021",
          "15/06/2021",
          "16/06/2021",
          "17/06/2021",
          "18/06/2021",
          "21/06/2021",
          "22/06/2021",
          "23/06/2021",
          "24/06/2021",
          "25/06/2021",
          "28/06/2021",
          "29/06/2021",
          "30/06/2021"
         ],
         "xaxis": "x",
         "yaxis": "y"
        },
        {
         "showlegend": false,
         "type": "bar",
         "x": [
          "1/6/2021",
          "2/6/2021",
          "3/6/2021",
          "4/6/2021",
          "7/6/2021",
          "8/6/2021",
          "9/6/2021",
          "10/6/2021",
          "11/6/2021",
          "15/06/2021",
          "16/06/2021",
          "17/06/2021",
          "18/06/2021",
          "21/06/2021",
          "22/06/2021",
          "23/06/2021",
          "24/06/2021",
          "25/06/2021",
          "28/06/2021",
          "29/06/2021",
          "30/06/2021"
         ],
         "xaxis": "x2",
         "y": [
          810842,
          35924012,
          4443230,
          3191450,
          1906820,
          3421316,
          3772002,
          935600,
          1424412,
          6942880,
          400000,
          3186382,
          48616,
          61240,
          40530,
          85538,
          2382158,
          8424,
          73378,
          50210,
          86618
         ],
         "yaxis": "y2"
        }
       ],
       "layout": {
        "annotations": [
         {
          "font": {
           "size": 16
          },
          "showarrow": false,
          "text": "High-Low",
          "x": 0.5,
          "xanchor": "center",
          "xref": "paper",
          "y": 1,
          "yanchor": "bottom",
          "yref": "paper"
         },
         {
          "font": {
           "size": 16
          },
          "showarrow": false,
          "text": "Volume",
          "x": 0.5,
          "xanchor": "center",
          "xref": "paper",
          "y": 0.21555555555555558,
          "yanchor": "bottom",
          "yref": "paper"
         }
        ],
        "template": {
         "data": {
          "bar": [
           {
            "error_x": {
             "color": "#2a3f5f"
            },
            "error_y": {
             "color": "#2a3f5f"
            },
            "marker": {
             "line": {
              "color": "#E5ECF6",
              "width": 0.5
             }
            },
            "type": "bar"
           }
          ],
          "barpolar": [
           {
            "marker": {
             "line": {
              "color": "#E5ECF6",
              "width": 0.5
             }
            },
            "type": "barpolar"
           }
          ],
          "carpet": [
           {
            "aaxis": {
             "endlinecolor": "#2a3f5f",
             "gridcolor": "white",
             "linecolor": "white",
             "minorgridcolor": "white",
             "startlinecolor": "#2a3f5f"
            },
            "baxis": {
             "endlinecolor": "#2a3f5f",
             "gridcolor": "white",
             "linecolor": "white",
             "minorgridcolor": "white",
             "startlinecolor": "#2a3f5f"
            },
            "type": "carpet"
           }
          ],
          "choropleth": [
           {
            "colorbar": {
             "outlinewidth": 0,
             "ticks": ""
            },
            "type": "choropleth"
           }
          ],
          "contour": [
           {
            "colorbar": {
             "outlinewidth": 0,
             "ticks": ""
            },
            "colorscale": [
             [
              0,
              "#0d0887"
             ],
             [
              0.1111111111111111,
              "#46039f"
             ],
             [
              0.2222222222222222,
              "#7201a8"
             ],
             [
              0.3333333333333333,
              "#9c179e"
             ],
             [
              0.4444444444444444,
              "#bd3786"
             ],
             [
              0.5555555555555556,
              "#d8576b"
             ],
             [
              0.6666666666666666,
              "#ed7953"
             ],
             [
              0.7777777777777778,
              "#fb9f3a"
             ],
             [
              0.8888888888888888,
              "#fdca26"
             ],
             [
              1,
              "#f0f921"
             ]
            ],
            "type": "contour"
           }
          ],
          "contourcarpet": [
           {
            "colorbar": {
             "outlinewidth": 0,
             "ticks": ""
            },
            "type": "contourcarpet"
           }
          ],
          "heatmap": [
           {
            "colorbar": {
             "outlinewidth": 0,
             "ticks": ""
            },
            "colorscale": [
             [
              0,
              "#0d0887"
             ],
             [
              0.1111111111111111,
              "#46039f"
             ],
             [
              0.2222222222222222,
              "#7201a8"
             ],
             [
              0.3333333333333333,
              "#9c179e"
             ],
             [
              0.4444444444444444,
              "#bd3786"
             ],
             [
              0.5555555555555556,
              "#d8576b"
             ],
             [
              0.6666666666666666,
              "#ed7953"
             ],
             [
              0.7777777777777778,
              "#fb9f3a"
             ],
             [
              0.8888888888888888,
              "#fdca26"
             ],
             [
              1,
              "#f0f921"
             ]
            ],
            "type": "heatmap"
           }
          ],
          "heatmapgl": [
           {
            "colorbar": {
             "outlinewidth": 0,
             "ticks": ""
            },
            "colorscale": [
             [
              0,
              "#0d0887"
             ],
             [
              0.1111111111111111,
              "#46039f"
             ],
             [
              0.2222222222222222,
              "#7201a8"
             ],
             [
              0.3333333333333333,
              "#9c179e"
             ],
             [
              0.4444444444444444,
              "#bd3786"
             ],
             [
              0.5555555555555556,
              "#d8576b"
             ],
             [
              0.6666666666666666,
              "#ed7953"
             ],
             [
              0.7777777777777778,
              "#fb9f3a"
             ],
             [
              0.8888888888888888,
              "#fdca26"
             ],
             [
              1,
              "#f0f921"
             ]
            ],
            "type": "heatmapgl"
           }
          ],
          "histogram": [
           {
            "marker": {
             "colorbar": {
              "outlinewidth": 0,
              "ticks": ""
             }
            },
            "type": "histogram"
           }
          ],
          "histogram2d": [
           {
            "colorbar": {
             "outlinewidth": 0,
             "ticks": ""
            },
            "colorscale": [
             [
              0,
              "#0d0887"
             ],
             [
              0.1111111111111111,
              "#46039f"
             ],
             [
              0.2222222222222222,
              "#7201a8"
             ],
             [
              0.3333333333333333,
              "#9c179e"
             ],
             [
              0.4444444444444444,
              "#bd3786"
             ],
             [
              0.5555555555555556,
              "#d8576b"
             ],
             [
              0.6666666666666666,
              "#ed7953"
             ],
             [
              0.7777777777777778,
              "#fb9f3a"
             ],
             [
              0.8888888888888888,
              "#fdca26"
             ],
             [
              1,
              "#f0f921"
             ]
            ],
            "type": "histogram2d"
           }
          ],
          "histogram2dcontour": [
           {
            "colorbar": {
             "outlinewidth": 0,
             "ticks": ""
            },
            "colorscale": [
             [
              0,
              "#0d0887"
             ],
             [
              0.1111111111111111,
              "#46039f"
             ],
             [
              0.2222222222222222,
              "#7201a8"
             ],
             [
              0.3333333333333333,
              "#9c179e"
             ],
             [
              0.4444444444444444,
              "#bd3786"
             ],
             [
              0.5555555555555556,
              "#d8576b"
             ],
             [
              0.6666666666666666,
              "#ed7953"
             ],
             [
              0.7777777777777778,
              "#fb9f3a"
             ],
             [
              0.8888888888888888,
              "#fdca26"
             ],
             [
              1,
              "#f0f921"
             ]
            ],
            "type": "histogram2dcontour"
           }
          ],
          "mesh3d": [
           {
            "colorbar": {
             "outlinewidth": 0,
             "ticks": ""
            },
            "type": "mesh3d"
           }
          ],
          "parcoords": [
           {
            "line": {
             "colorbar": {
              "outlinewidth": 0,
              "ticks": ""
             }
            },
            "type": "parcoords"
           }
          ],
          "pie": [
           {
            "automargin": true,
            "type": "pie"
           }
          ],
          "scatter": [
           {
            "marker": {
             "colorbar": {
              "outlinewidth": 0,
              "ticks": ""
             }
            },
            "type": "scatter"
           }
          ],
          "scatter3d": [
           {
            "line": {
             "colorbar": {
              "outlinewidth": 0,
              "ticks": ""
             }
            },
            "marker": {
             "colorbar": {
              "outlinewidth": 0,
              "ticks": ""
             }
            },
            "type": "scatter3d"
           }
          ],
          "scattercarpet": [
           {
            "marker": {
             "colorbar": {
              "outlinewidth": 0,
              "ticks": ""
             }
            },
            "type": "scattercarpet"
           }
          ],
          "scattergeo": [
           {
            "marker": {
             "colorbar": {
              "outlinewidth": 0,
              "ticks": ""
             }
            },
            "type": "scattergeo"
           }
          ],
          "scattergl": [
           {
            "marker": {
             "colorbar": {
              "outlinewidth": 0,
              "ticks": ""
             }
            },
            "type": "scattergl"
           }
          ],
          "scattermapbox": [
           {
            "marker": {
             "colorbar": {
              "outlinewidth": 0,
              "ticks": ""
             }
            },
            "type": "scattermapbox"
           }
          ],
          "scatterpolar": [
           {
            "marker": {
             "colorbar": {
              "outlinewidth": 0,
              "ticks": ""
             }
            },
            "type": "scatterpolar"
           }
          ],
          "scatterpolargl": [
           {
            "marker": {
             "colorbar": {
              "outlinewidth": 0,
              "ticks": ""
             }
            },
            "type": "scatterpolargl"
           }
          ],
          "scatterternary": [
           {
            "marker": {
             "colorbar": {
              "outlinewidth": 0,
              "ticks": ""
             }
            },
            "type": "scatterternary"
           }
          ],
          "surface": [
           {
            "colorbar": {
             "outlinewidth": 0,
             "ticks": ""
            },
            "colorscale": [
             [
              0,
              "#0d0887"
             ],
             [
              0.1111111111111111,
              "#46039f"
             ],
             [
              0.2222222222222222,
              "#7201a8"
             ],
             [
              0.3333333333333333,
              "#9c179e"
             ],
             [
              0.4444444444444444,
              "#bd3786"
             ],
             [
              0.5555555555555556,
              "#d8576b"
             ],
             [
              0.6666666666666666,
              "#ed7953"
             ],
             [
              0.7777777777777778,
              "#fb9f3a"
             ],
             [
              0.8888888888888888,
              "#fdca26"
             ],
             [
              1,
              "#f0f921"
             ]
            ],
            "type": "surface"
           }
          ],
          "table": [
           {
            "cells": {
             "fill": {
              "color": "#EBF0F8"
             },
             "line": {
              "color": "white"
             }
            },
            "header": {
             "fill": {
              "color": "#C8D4E3"
             },
             "line": {
              "color": "white"
             }
            },
            "type": "table"
           }
          ]
         },
         "layout": {
          "annotationdefaults": {
           "arrowcolor": "#2a3f5f",
           "arrowhead": 0,
           "arrowwidth": 1
          },
          "autotypenumbers": "strict",
          "coloraxis": {
           "colorbar": {
            "outlinewidth": 0,
            "ticks": ""
           }
          },
          "colorscale": {
           "diverging": [
            [
             0,
             "#8e0152"
            ],
            [
             0.1,
             "#c51b7d"
            ],
            [
             0.2,
             "#de77ae"
            ],
            [
             0.3,
             "#f1b6da"
            ],
            [
             0.4,
             "#fde0ef"
            ],
            [
             0.5,
             "#f7f7f7"
            ],
            [
             0.6,
             "#e6f5d0"
            ],
            [
             0.7,
             "#b8e186"
            ],
            [
             0.8,
             "#7fbc41"
            ],
            [
             0.9,
             "#4d9221"
            ],
            [
             1,
             "#276419"
            ]
           ],
           "sequential": [
            [
             0,
             "#0d0887"
            ],
            [
             0.1111111111111111,
             "#46039f"
            ],
            [
             0.2222222222222222,
             "#7201a8"
            ],
            [
             0.3333333333333333,
             "#9c179e"
            ],
            [
             0.4444444444444444,
             "#bd3786"
            ],
            [
             0.5555555555555556,
             "#d8576b"
            ],
            [
             0.6666666666666666,
             "#ed7953"
            ],
            [
             0.7777777777777778,
             "#fb9f3a"
            ],
            [
             0.8888888888888888,
             "#fdca26"
            ],
            [
             1,
             "#f0f921"
            ]
           ],
           "sequentialminus": [
            [
             0,
             "#0d0887"
            ],
            [
             0.1111111111111111,
             "#46039f"
            ],
            [
             0.2222222222222222,
             "#7201a8"
            ],
            [
             0.3333333333333333,
             "#9c179e"
            ],
            [
             0.4444444444444444,
             "#bd3786"
            ],
            [
             0.5555555555555556,
             "#d8576b"
            ],
            [
             0.6666666666666666,
             "#ed7953"
            ],
            [
             0.7777777777777778,
             "#fb9f3a"
            ],
            [
             0.8888888888888888,
             "#fdca26"
            ],
            [
             1,
             "#f0f921"
            ]
           ]
          },
          "colorway": [
           "#636efa",
           "#EF553B",
           "#00cc96",
           "#ab63fa",
           "#FFA15A",
           "#19d3f3",
           "#FF6692",
           "#B6E880",
           "#FF97FF",
           "#FECB52"
          ],
          "font": {
           "color": "#2a3f5f"
          },
          "geo": {
           "bgcolor": "white",
           "lakecolor": "white",
           "landcolor": "#E5ECF6",
           "showlakes": true,
           "showland": true,
           "subunitcolor": "white"
          },
          "hoverlabel": {
           "align": "left"
          },
          "hovermode": "closest",
          "mapbox": {
           "style": "light"
          },
          "paper_bgcolor": "white",
          "plot_bgcolor": "#E5ECF6",
          "polar": {
           "angularaxis": {
            "gridcolor": "white",
            "linecolor": "white",
            "ticks": ""
           },
           "bgcolor": "#E5ECF6",
           "radialaxis": {
            "gridcolor": "white",
            "linecolor": "white",
            "ticks": ""
           }
          },
          "scene": {
           "xaxis": {
            "backgroundcolor": "#E5ECF6",
            "gridcolor": "white",
            "gridwidth": 2,
            "linecolor": "white",
            "showbackground": true,
            "ticks": "",
            "zerolinecolor": "white"
           },
           "yaxis": {
            "backgroundcolor": "#E5ECF6",
            "gridcolor": "white",
            "gridwidth": 2,
            "linecolor": "white",
            "showbackground": true,
            "ticks": "",
            "zerolinecolor": "white"
           },
           "zaxis": {
            "backgroundcolor": "#E5ECF6",
            "gridcolor": "white",
            "gridwidth": 2,
            "linecolor": "white",
            "showbackground": true,
            "ticks": "",
            "zerolinecolor": "white"
           }
          },
          "shapedefaults": {
           "line": {
            "color": "#2a3f5f"
           }
          },
          "ternary": {
           "aaxis": {
            "gridcolor": "white",
            "linecolor": "white",
            "ticks": ""
           },
           "baxis": {
            "gridcolor": "white",
            "linecolor": "white",
            "ticks": ""
           },
           "bgcolor": "#E5ECF6",
           "caxis": {
            "gridcolor": "white",
            "linecolor": "white",
            "ticks": ""
           }
          },
          "title": {
           "x": 0.05
          },
          "xaxis": {
           "automargin": true,
           "gridcolor": "white",
           "linecolor": "white",
           "ticks": "",
           "title": {
            "standoff": 15
           },
           "zerolinecolor": "white",
           "zerolinewidth": 2
          },
          "yaxis": {
           "automargin": true,
           "gridcolor": "white",
           "linecolor": "white",
           "ticks": "",
           "title": {
            "standoff": 15
           },
           "zerolinecolor": "white",
           "zerolinewidth": 2
          }
         }
        },
        "xaxis": {
         "anchor": "y",
         "domain": [
          0,
          1
         ],
         "matches": "x2",
         "rangeslider": {
          "visible": false
         },
         "showticklabels": false
        },
        "xaxis2": {
         "anchor": "y2",
         "domain": [
          0,
          1
         ]
        },
        "yaxis": {
         "anchor": "x",
         "domain": [
          0.24555555555555558,
          1
         ]
        },
        "yaxis2": {
         "anchor": "x2",
         "domain": [
          0,
          0.21555555555555558
         ]
        }
       }
      },
      "text/html": [
       "<div>                            <div id=\"8d9a76ee-4daf-40dc-8b16-2e048597b3ef\" class=\"plotly-graph-div\" style=\"height:525px; width:100%;\"></div>            <script type=\"text/javascript\">                require([\"plotly\"], function(Plotly) {                    window.PLOTLYENV=window.PLOTLYENV || {};                                    if (document.getElementById(\"8d9a76ee-4daf-40dc-8b16-2e048597b3ef\")) {                    Plotly.newPlot(                        \"8d9a76ee-4daf-40dc-8b16-2e048597b3ef\",                        [{\"close\": [1.186330013, 1.291451236, 1.3, 1.3, 1.3, 1.28938274, 1.271066028, 1.299700727, 1.3, 1.300002333, 1.225, 1.218830134, 113.34085490000001, 109.0036741, 107.72230449999999, 107.17232109999999, 110.0052322, 110.10683759999999, 110.7427294, 116.44076880000001, 121.18325290000001], \"high\": [1.186330013, 1.291451236, 1.3, 1.3, 1.3, 1.28938274, 1.271066028, 1.299700727, 1.3, 1.300002333, 1.225, 1.218830134, 113.34085490000001, 109.0036741, 107.72230449999999, 107.17232109999999, 110.0052322, 110.10683759999999, 110.7427294, 116.44076880000001, 121.18325290000001], \"low\": [1.186330013, 1.291451236, 1.3, 1.3, 1.3, 1.28938274, 1.271066028, 1.299700727, 1.3, 1.300002333, 1.225, 1.218830134, 113.34085490000001, 109.0036741, 107.72230449999999, 107.17232109999999, 110.0052322, 110.10683759999999, 110.7427294, 116.44076880000001, 121.18325290000001], \"open\": [1.186330013, 1.291451236, 1.3, 1.3, 1.3, 1.28938274, 1.271066028, 1.299700727, 1.3, 1.300002333, 1.225, 1.218830134, 113.34085490000001, 109.0036741, 107.72230449999999, 107.17232109999999, 110.0052322, 110.10683759999999, 110.7427294, 116.44076880000001, 121.18325290000001], \"type\": \"candlestick\", \"x\": [\"1/6/2021\", \"2/6/2021\", \"3/6/2021\", \"4/6/2021\", \"7/6/2021\", \"8/6/2021\", \"9/6/2021\", \"10/6/2021\", \"11/6/2021\", \"15/06/2021\", \"16/06/2021\", \"17/06/2021\", \"18/06/2021\", \"21/06/2021\", \"22/06/2021\", \"23/06/2021\", \"24/06/2021\", \"25/06/2021\", \"28/06/2021\", \"29/06/2021\", \"30/06/2021\"], \"xaxis\": \"x\", \"yaxis\": \"y\"}, {\"showlegend\": false, \"type\": \"bar\", \"x\": [\"1/6/2021\", \"2/6/2021\", \"3/6/2021\", \"4/6/2021\", \"7/6/2021\", \"8/6/2021\", \"9/6/2021\", \"10/6/2021\", \"11/6/2021\", \"15/06/2021\", \"16/06/2021\", \"17/06/2021\", \"18/06/2021\", \"21/06/2021\", \"22/06/2021\", \"23/06/2021\", \"24/06/2021\", \"25/06/2021\", \"28/06/2021\", \"29/06/2021\", \"30/06/2021\"], \"xaxis\": \"x2\", \"y\": [810842, 35924012, 4443230, 3191450, 1906820, 3421316, 3772002, 935600, 1424412, 6942880, 400000, 3186382, 48616, 61240, 40530, 85538, 2382158, 8424, 73378, 50210, 86618], \"yaxis\": \"y2\"}],                        {\"annotations\": [{\"font\": {\"size\": 16}, \"showarrow\": false, \"text\": \"High-Low\", \"x\": 0.5, \"xanchor\": \"center\", \"xref\": \"paper\", \"y\": 1.0, \"yanchor\": \"bottom\", \"yref\": \"paper\"}, {\"font\": {\"size\": 16}, \"showarrow\": false, \"text\": \"Volume\", \"x\": 0.5, \"xanchor\": \"center\", \"xref\": \"paper\", \"y\": 0.21555555555555558, \"yanchor\": \"bottom\", \"yref\": \"paper\"}], \"template\": {\"data\": {\"bar\": [{\"error_x\": {\"color\": \"#2a3f5f\"}, \"error_y\": {\"color\": \"#2a3f5f\"}, \"marker\": {\"line\": {\"color\": \"#E5ECF6\", \"width\": 0.5}}, \"type\": \"bar\"}], \"barpolar\": [{\"marker\": {\"line\": {\"color\": \"#E5ECF6\", \"width\": 0.5}}, \"type\": \"barpolar\"}], \"carpet\": [{\"aaxis\": {\"endlinecolor\": \"#2a3f5f\", \"gridcolor\": \"white\", \"linecolor\": \"white\", \"minorgridcolor\": \"white\", \"startlinecolor\": \"#2a3f5f\"}, \"baxis\": {\"endlinecolor\": \"#2a3f5f\", \"gridcolor\": \"white\", \"linecolor\": \"white\", \"minorgridcolor\": \"white\", \"startlinecolor\": \"#2a3f5f\"}, \"type\": \"carpet\"}], \"choropleth\": [{\"colorbar\": {\"outlinewidth\": 0, \"ticks\": \"\"}, \"type\": \"choropleth\"}], \"contour\": [{\"colorbar\": {\"outlinewidth\": 0, \"ticks\": \"\"}, \"colorscale\": [[0.0, \"#0d0887\"], [0.1111111111111111, \"#46039f\"], [0.2222222222222222, \"#7201a8\"], [0.3333333333333333, \"#9c179e\"], [0.4444444444444444, \"#bd3786\"], [0.5555555555555556, \"#d8576b\"], [0.6666666666666666, \"#ed7953\"], [0.7777777777777778, \"#fb9f3a\"], [0.8888888888888888, \"#fdca26\"], [1.0, \"#f0f921\"]], \"type\": \"contour\"}], \"contourcarpet\": [{\"colorbar\": {\"outlinewidth\": 0, \"ticks\": \"\"}, \"type\": \"contourcarpet\"}], \"heatmap\": [{\"colorbar\": {\"outlinewidth\": 0, \"ticks\": \"\"}, \"colorscale\": [[0.0, \"#0d0887\"], [0.1111111111111111, \"#46039f\"], [0.2222222222222222, \"#7201a8\"], [0.3333333333333333, \"#9c179e\"], [0.4444444444444444, \"#bd3786\"], [0.5555555555555556, \"#d8576b\"], [0.6666666666666666, \"#ed7953\"], [0.7777777777777778, \"#fb9f3a\"], [0.8888888888888888, \"#fdca26\"], [1.0, \"#f0f921\"]], \"type\": \"heatmap\"}], \"heatmapgl\": [{\"colorbar\": {\"outlinewidth\": 0, \"ticks\": \"\"}, \"colorscale\": [[0.0, \"#0d0887\"], [0.1111111111111111, \"#46039f\"], [0.2222222222222222, \"#7201a8\"], [0.3333333333333333, \"#9c179e\"], [0.4444444444444444, \"#bd3786\"], [0.5555555555555556, \"#d8576b\"], [0.6666666666666666, \"#ed7953\"], [0.7777777777777778, \"#fb9f3a\"], [0.8888888888888888, \"#fdca26\"], [1.0, \"#f0f921\"]], \"type\": \"heatmapgl\"}], \"histogram\": [{\"marker\": {\"colorbar\": {\"outlinewidth\": 0, \"ticks\": \"\"}}, \"type\": \"histogram\"}], \"histogram2d\": [{\"colorbar\": {\"outlinewidth\": 0, \"ticks\": \"\"}, \"colorscale\": [[0.0, \"#0d0887\"], [0.1111111111111111, \"#46039f\"], [0.2222222222222222, \"#7201a8\"], [0.3333333333333333, \"#9c179e\"], [0.4444444444444444, \"#bd3786\"], [0.5555555555555556, \"#d8576b\"], [0.6666666666666666, \"#ed7953\"], [0.7777777777777778, \"#fb9f3a\"], [0.8888888888888888, \"#fdca26\"], [1.0, \"#f0f921\"]], \"type\": \"histogram2d\"}], \"histogram2dcontour\": [{\"colorbar\": {\"outlinewidth\": 0, \"ticks\": \"\"}, \"colorscale\": [[0.0, \"#0d0887\"], [0.1111111111111111, \"#46039f\"], [0.2222222222222222, \"#7201a8\"], [0.3333333333333333, \"#9c179e\"], [0.4444444444444444, \"#bd3786\"], [0.5555555555555556, \"#d8576b\"], [0.6666666666666666, \"#ed7953\"], [0.7777777777777778, \"#fb9f3a\"], [0.8888888888888888, \"#fdca26\"], [1.0, \"#f0f921\"]], \"type\": \"histogram2dcontour\"}], \"mesh3d\": [{\"colorbar\": {\"outlinewidth\": 0, \"ticks\": \"\"}, \"type\": \"mesh3d\"}], \"parcoords\": [{\"line\": {\"colorbar\": {\"outlinewidth\": 0, \"ticks\": \"\"}}, \"type\": \"parcoords\"}], \"pie\": [{\"automargin\": true, \"type\": \"pie\"}], \"scatter\": [{\"marker\": {\"colorbar\": {\"outlinewidth\": 0, \"ticks\": \"\"}}, \"type\": \"scatter\"}], \"scatter3d\": [{\"line\": {\"colorbar\": {\"outlinewidth\": 0, \"ticks\": \"\"}}, \"marker\": {\"colorbar\": {\"outlinewidth\": 0, \"ticks\": \"\"}}, \"type\": \"scatter3d\"}], \"scattercarpet\": [{\"marker\": {\"colorbar\": {\"outlinewidth\": 0, \"ticks\": \"\"}}, \"type\": \"scattercarpet\"}], \"scattergeo\": [{\"marker\": {\"colorbar\": {\"outlinewidth\": 0, \"ticks\": \"\"}}, \"type\": \"scattergeo\"}], \"scattergl\": [{\"marker\": {\"colorbar\": {\"outlinewidth\": 0, \"ticks\": \"\"}}, \"type\": \"scattergl\"}], \"scattermapbox\": [{\"marker\": {\"colorbar\": {\"outlinewidth\": 0, \"ticks\": \"\"}}, \"type\": \"scattermapbox\"}], \"scatterpolar\": [{\"marker\": {\"colorbar\": {\"outlinewidth\": 0, \"ticks\": \"\"}}, \"type\": \"scatterpolar\"}], \"scatterpolargl\": [{\"marker\": {\"colorbar\": {\"outlinewidth\": 0, \"ticks\": \"\"}}, \"type\": \"scatterpolargl\"}], \"scatterternary\": [{\"marker\": {\"colorbar\": {\"outlinewidth\": 0, \"ticks\": \"\"}}, \"type\": \"scatterternary\"}], \"surface\": [{\"colorbar\": {\"outlinewidth\": 0, \"ticks\": \"\"}, \"colorscale\": [[0.0, \"#0d0887\"], [0.1111111111111111, \"#46039f\"], [0.2222222222222222, \"#7201a8\"], [0.3333333333333333, \"#9c179e\"], [0.4444444444444444, \"#bd3786\"], [0.5555555555555556, \"#d8576b\"], [0.6666666666666666, \"#ed7953\"], [0.7777777777777778, \"#fb9f3a\"], [0.8888888888888888, \"#fdca26\"], [1.0, \"#f0f921\"]], \"type\": \"surface\"}], \"table\": [{\"cells\": {\"fill\": {\"color\": \"#EBF0F8\"}, \"line\": {\"color\": \"white\"}}, \"header\": {\"fill\": {\"color\": \"#C8D4E3\"}, \"line\": {\"color\": \"white\"}}, \"type\": \"table\"}]}, \"layout\": {\"annotationdefaults\": {\"arrowcolor\": \"#2a3f5f\", \"arrowhead\": 0, \"arrowwidth\": 1}, \"autotypenumbers\": \"strict\", \"coloraxis\": {\"colorbar\": {\"outlinewidth\": 0, \"ticks\": \"\"}}, \"colorscale\": {\"diverging\": [[0, \"#8e0152\"], [0.1, \"#c51b7d\"], [0.2, \"#de77ae\"], [0.3, \"#f1b6da\"], [0.4, \"#fde0ef\"], [0.5, \"#f7f7f7\"], [0.6, \"#e6f5d0\"], [0.7, \"#b8e186\"], [0.8, \"#7fbc41\"], [0.9, \"#4d9221\"], [1, \"#276419\"]], \"sequential\": [[0.0, \"#0d0887\"], [0.1111111111111111, \"#46039f\"], [0.2222222222222222, \"#7201a8\"], [0.3333333333333333, \"#9c179e\"], [0.4444444444444444, \"#bd3786\"], [0.5555555555555556, \"#d8576b\"], [0.6666666666666666, \"#ed7953\"], [0.7777777777777778, \"#fb9f3a\"], [0.8888888888888888, \"#fdca26\"], [1.0, \"#f0f921\"]], \"sequentialminus\": [[0.0, \"#0d0887\"], [0.1111111111111111, \"#46039f\"], [0.2222222222222222, \"#7201a8\"], [0.3333333333333333, \"#9c179e\"], [0.4444444444444444, \"#bd3786\"], [0.5555555555555556, \"#d8576b\"], [0.6666666666666666, \"#ed7953\"], [0.7777777777777778, \"#fb9f3a\"], [0.8888888888888888, \"#fdca26\"], [1.0, \"#f0f921\"]]}, \"colorway\": [\"#636efa\", \"#EF553B\", \"#00cc96\", \"#ab63fa\", \"#FFA15A\", \"#19d3f3\", \"#FF6692\", \"#B6E880\", \"#FF97FF\", \"#FECB52\"], \"font\": {\"color\": \"#2a3f5f\"}, \"geo\": {\"bgcolor\": \"white\", \"lakecolor\": \"white\", \"landcolor\": \"#E5ECF6\", \"showlakes\": true, \"showland\": true, \"subunitcolor\": \"white\"}, \"hoverlabel\": {\"align\": \"left\"}, \"hovermode\": \"closest\", \"mapbox\": {\"style\": \"light\"}, \"paper_bgcolor\": \"white\", \"plot_bgcolor\": \"#E5ECF6\", \"polar\": {\"angularaxis\": {\"gridcolor\": \"white\", \"linecolor\": \"white\", \"ticks\": \"\"}, \"bgcolor\": \"#E5ECF6\", \"radialaxis\": {\"gridcolor\": \"white\", \"linecolor\": \"white\", \"ticks\": \"\"}}, \"scene\": {\"xaxis\": {\"backgroundcolor\": \"#E5ECF6\", \"gridcolor\": \"white\", \"gridwidth\": 2, \"linecolor\": \"white\", \"showbackground\": true, \"ticks\": \"\", \"zerolinecolor\": \"white\"}, \"yaxis\": {\"backgroundcolor\": \"#E5ECF6\", \"gridcolor\": \"white\", \"gridwidth\": 2, \"linecolor\": \"white\", \"showbackground\": true, \"ticks\": \"\", \"zerolinecolor\": \"white\"}, \"zaxis\": {\"backgroundcolor\": \"#E5ECF6\", \"gridcolor\": \"white\", \"gridwidth\": 2, \"linecolor\": \"white\", \"showbackground\": true, \"ticks\": \"\", \"zerolinecolor\": \"white\"}}, \"shapedefaults\": {\"line\": {\"color\": \"#2a3f5f\"}}, \"ternary\": {\"aaxis\": {\"gridcolor\": \"white\", \"linecolor\": \"white\", \"ticks\": \"\"}, \"baxis\": {\"gridcolor\": \"white\", \"linecolor\": \"white\", \"ticks\": \"\"}, \"bgcolor\": \"#E5ECF6\", \"caxis\": {\"gridcolor\": \"white\", \"linecolor\": \"white\", \"ticks\": \"\"}}, \"title\": {\"x\": 0.05}, \"xaxis\": {\"automargin\": true, \"gridcolor\": \"white\", \"linecolor\": \"white\", \"ticks\": \"\", \"title\": {\"standoff\": 15}, \"zerolinecolor\": \"white\", \"zerolinewidth\": 2}, \"yaxis\": {\"automargin\": true, \"gridcolor\": \"white\", \"linecolor\": \"white\", \"ticks\": \"\", \"title\": {\"standoff\": 15}, \"zerolinecolor\": \"white\", \"zerolinewidth\": 2}}}, \"xaxis\": {\"anchor\": \"y\", \"domain\": [0.0, 1.0], \"matches\": \"x2\", \"rangeslider\": {\"visible\": false}, \"showticklabels\": false}, \"xaxis2\": {\"anchor\": \"y2\", \"domain\": [0.0, 1.0]}, \"yaxis\": {\"anchor\": \"x\", \"domain\": [0.24555555555555558, 1.0]}, \"yaxis2\": {\"anchor\": \"x2\", \"domain\": [0.0, 0.21555555555555558]}},                        {\"responsive\": true}                    ).then(function(){\n",
       "                            \n",
       "var gd = document.getElementById('8d9a76ee-4daf-40dc-8b16-2e048597b3ef');\n",
       "var x = new MutationObserver(function (mutations, observer) {{\n",
       "        var display = window.getComputedStyle(gd).display;\n",
       "        if (!display || display === 'none') {{\n",
       "            console.log([gd, 'removed!']);\n",
       "            Plotly.purge(gd);\n",
       "            observer.disconnect();\n",
       "        }}\n",
       "}});\n",
       "\n",
       "// Listen for the removal of the full notebook cells\n",
       "var notebookContainer = gd.closest('#notebook-container');\n",
       "if (notebookContainer) {{\n",
       "    x.observe(notebookContainer, {childList: true});\n",
       "}}\n",
       "\n",
       "// Listen for the clearing of the current output cell\n",
       "var outputEl = gd.closest('.output');\n",
       "if (outputEl) {{\n",
       "    x.observe(outputEl, {childList: true});\n",
       "}}\n",
       "\n",
       "                        })                };                });            </script>        </div>"
      ]
     },
     "metadata": {},
     "output_type": "display_data"
    }
   ],
   "source": [
    "def graph1_plotting():\n",
    "    global file_name\n",
    "    \n",
    "    df = pd.read_csv(file_name)\n",
    "    \n",
    "    df = df[df['Broker'] == 'Total']\n",
    "    \n",
    "    fig = make_subplots(rows=2, cols=1, shared_xaxes=True, vertical_spacing=0.03, subplot_titles=('High-Low', 'Volume'), row_width=[0.2, 0.7])\n",
    "\n",
    "    fig.add_trace(go.Candlestick(x=df['Date (DD/MM/YYYY)'], open=df['Sell Price'], high=df['Sell Price'], low=df['Buy Price'], close=df['Buy Price']),row=1, col=1)\n",
    "    \n",
    "    fig.add_trace(go.Bar(x=df['Date (DD/MM/YYYY)'], y=df['Total Volume'] ,showlegend=False), row=2, col=1)\n",
    "\n",
    "    fig.update(layout_xaxis_rangeslider_visible=False)\n",
    "    \n",
    "    fig.show()\n",
    "graph1_plotting()"
   ]
  },
  {
   "cell_type": "code",
   "execution_count": null,
   "metadata": {},
   "outputs": [],
   "source": []
  },
  {
   "cell_type": "code",
   "execution_count": 25,
   "metadata": {},
   "outputs": [],
   "source": [
    "def volume_plotting():\n",
    "    global file_name\n",
    "    df = pd.read_csv(file_name)\n",
    "    \n",
    "    broker_df = df[df['Broker'] != 'Total']\n",
    "    \n",
    "    fig = px.bar(broker_df, x=\"Date (DD/MM/YYYY)\", y=\"Total Volume\", color=\"Broker\", hover_data=['Date (DD/MM/YYYY)'], barmode = 'stack')\n",
    "    \n",
    "    fig.show()"
   ]
  },
  {
   "cell_type": "code",
   "execution_count": 47,
   "metadata": {},
   "outputs": [
    {
     "data": {
      "application/vnd.plotly.v1+json": {
       "config": {
        "plotlyServerURL": "https://plot.ly"
       },
       "data": [
        {
         "hovertemplate": "Broker=CMC Mkts<br>Date (DD/MM/YYYY)=%{x}<br>value=%{y}<extra></extra>",
         "legendgroup": "CMC Mkts",
         "marker": {
          "color": "#636efa",
          "symbol": "circle"
         },
         "mode": "markers",
         "name": "CMC Mkts",
         "orientation": "v",
         "showlegend": true,
         "type": "scatter",
         "x": [
          "1/6/2021",
          "2/6/2021",
          "15/06/2021",
          "17/06/2021",
          "1/6/2021",
          "2/6/2021",
          "15/06/2021",
          "17/06/2021"
         ],
         "xaxis": "x",
         "y": [
          1.2,
          1.3,
          0,
          1.3,
          0,
          0,
          1.3,
          1.2
         ],
         "yaxis": "y"
        },
        {
         "hovertemplate": "Broker=Commonwealth<br>Date (DD/MM/YYYY)=%{x}<br>value=%{y}<extra></extra>",
         "legendgroup": "Commonwealth",
         "marker": {
          "color": "#EF553B",
          "symbol": "circle"
         },
         "mode": "markers",
         "name": "Commonwealth",
         "orientation": "v",
         "showlegend": true,
         "type": "scatter",
         "x": [
          "1/6/2021",
          "2/6/2021",
          "3/6/2021",
          "4/6/2021",
          "7/6/2021",
          "8/6/2021",
          "9/6/2021",
          "10/6/2021",
          "11/6/2021",
          "15/06/2021",
          "16/06/2021",
          "17/06/2021",
          "18/06/2021",
          "21/06/2021",
          "22/06/2021",
          "23/06/2021",
          "24/06/2021",
          "25/06/2021",
          "28/06/2021",
          "1/6/2021",
          "2/6/2021",
          "3/6/2021",
          "4/6/2021",
          "7/6/2021",
          "8/6/2021",
          "9/6/2021",
          "10/6/2021",
          "11/6/2021",
          "15/06/2021",
          "16/06/2021",
          "17/06/2021",
          "18/06/2021",
          "21/06/2021",
          "22/06/2021",
          "23/06/2021",
          "24/06/2021",
          "25/06/2021",
          "28/06/2021"
         ],
         "xaxis": "x",
         "y": [
          0,
          1.320954965,
          0,
          1.3,
          1.3,
          1.298263544,
          1.280963817,
          1.3,
          1.3,
          1.300006567,
          0,
          0,
          113.9012479,
          108.3928125,
          107.7329077,
          107.05931399999999,
          113.04599499999999,
          0,
          111.14438600000001,
          1.186330013,
          1.2873448159999998,
          1.3,
          1.3,
          0,
          1.3,
          1.2,
          1.3,
          0,
          1.3,
          1.2,
          1.3,
          111,
          110.38053959999999,
          107.9496472,
          107.17529820000001,
          109.9038101,
          110.12690359999999,
          113.0001101
         ],
         "yaxis": "y"
        },
        {
         "hovertemplate": "Broker=Macquarie Insto<br>Date (DD/MM/YYYY)=%{x}<br>value=%{y}<extra></extra>",
         "legendgroup": "Macquarie Insto",
         "marker": {
          "color": "#00cc96",
          "symbol": "circle"
         },
         "mode": "markers",
         "name": "Macquarie Insto",
         "orientation": "v",
         "showlegend": true,
         "type": "scatter",
         "x": [
          "1/6/2021",
          "18/06/2021",
          "1/6/2021",
          "18/06/2021"
         ],
         "xaxis": "x",
         "y": [
          1.1,
          115,
          0,
          0
         ],
         "yaxis": "y"
        },
        {
         "hovertemplate": "Broker=AIEX<br>Date (DD/MM/YYYY)=%{x}<br>value=%{y}<extra></extra>",
         "legendgroup": "AIEX",
         "marker": {
          "color": "#ab63fa",
          "symbol": "circle"
         },
         "mode": "markers",
         "name": "AIEX",
         "orientation": "v",
         "showlegend": true,
         "type": "scatter",
         "x": [
          "2/6/2021",
          "3/6/2021",
          "11/6/2021",
          "16/06/2021",
          "18/06/2021",
          "21/06/2021",
          "22/06/2021",
          "23/06/2021",
          "24/06/2021",
          "25/06/2021",
          "2/6/2021",
          "3/6/2021",
          "11/6/2021",
          "16/06/2021",
          "18/06/2021",
          "21/06/2021",
          "22/06/2021",
          "23/06/2021",
          "24/06/2021",
          "25/06/2021"
         ],
         "xaxis": "x",
         "y": [
          1.26097561,
          1.3,
          1.3,
          0,
          111,
          106.5,
          107.5,
          0,
          109,
          0,
          1.2,
          0,
          0,
          1.2,
          115,
          107.5,
          107.29919679999999,
          107,
          110,
          110
         ],
         "yaxis": "y"
        },
        {
         "hovertemplate": "Broker=Barclays Investment Bank<br>Date (DD/MM/YYYY)=%{x}<br>value=%{y}<extra></extra>",
         "legendgroup": "Barclays Investment Bank",
         "marker": {
          "color": "#FFA15A",
          "symbol": "circle"
         },
         "mode": "markers",
         "name": "Barclays Investment Bank",
         "orientation": "v",
         "showlegend": true,
         "type": "scatter",
         "x": [
          "2/6/2021",
          "3/6/2021",
          "4/6/2021",
          "7/6/2021",
          "8/6/2021",
          "9/6/2021",
          "10/6/2021",
          "15/06/2021",
          "2/6/2021",
          "3/6/2021",
          "4/6/2021",
          "7/6/2021",
          "8/6/2021",
          "9/6/2021",
          "10/6/2021",
          "15/06/2021"
         ],
         "xaxis": "x",
         "y": [
          1.320984985,
          0,
          0,
          1.3,
          1.3,
          1.3,
          1.3,
          1.3,
          1.284414427,
          1.3,
          1.3,
          0,
          0,
          0,
          0,
          1.3
         ],
         "yaxis": "y"
        },
        {
         "hovertemplate": "Broker=Bell Potter<br>Date (DD/MM/YYYY)=%{x}<br>value=%{y}<extra></extra>",
         "legendgroup": "Bell Potter",
         "marker": {
          "color": "#19d3f3",
          "symbol": "circle"
         },
         "mode": "markers",
         "name": "Bell Potter",
         "orientation": "v",
         "showlegend": true,
         "type": "scatter",
         "x": [
          "2/6/2021",
          "8/6/2021",
          "9/6/2021",
          "15/06/2021",
          "21/06/2021",
          "2/6/2021",
          "8/6/2021",
          "9/6/2021",
          "15/06/2021",
          "21/06/2021"
         ],
         "xaxis": "x",
         "y": [
          1.2385663059999998,
          0,
          1.2,
          1.3,
          0,
          1.2,
          1.3,
          1.2,
          0,
          108
         ],
         "yaxis": "y"
        },
        {
         "hovertemplate": "Broker=CMC Markets<br>Date (DD/MM/YYYY)=%{x}<br>value=%{y}<extra></extra>",
         "legendgroup": "CMC Markets",
         "marker": {
          "color": "#FF6692",
          "symbol": "circle"
         },
         "mode": "markers",
         "name": "CMC Markets",
         "orientation": "v",
         "showlegend": true,
         "type": "scatter",
         "x": [
          "2/6/2021",
          "3/6/2021",
          "4/6/2021",
          "7/6/2021",
          "8/6/2021",
          "9/6/2021",
          "18/06/2021",
          "21/06/2021",
          "22/06/2021",
          "24/06/2021",
          "25/06/2021",
          "28/06/2021",
          "2/6/2021",
          "3/6/2021",
          "4/6/2021",
          "7/6/2021",
          "8/6/2021",
          "9/6/2021",
          "18/06/2021",
          "21/06/2021",
          "22/06/2021",
          "24/06/2021",
          "25/06/2021",
          "28/06/2021"
         ],
         "xaxis": "x",
         "y": [
          1.287224186,
          0,
          0,
          1.3,
          0,
          0,
          0,
          111,
          107.02974170000002,
          111,
          110,
          110,
          1.268407644,
          1.3,
          1.3,
          1.3,
          1.3,
          1.3,
          115,
          108.5,
          0,
          115.7241379,
          0,
          0
         ],
         "yaxis": "y"
        },
        {
         "hovertemplate": "Broker=Credit Suisse<br>Date (DD/MM/YYYY)=%{x}<br>value=%{y}<extra></extra>",
         "legendgroup": "Credit Suisse",
         "marker": {
          "color": "#B6E880",
          "symbol": "circle"
         },
         "mode": "markers",
         "name": "Credit Suisse",
         "orientation": "v",
         "showlegend": true,
         "type": "scatter",
         "x": [
          "2/6/2021",
          "3/6/2021",
          "7/6/2021",
          "9/6/2021",
          "10/6/2021",
          "11/6/2021",
          "15/06/2021",
          "16/06/2021",
          "17/06/2021",
          "18/06/2021",
          "21/06/2021",
          "24/06/2021",
          "28/06/2021",
          "2/6/2021",
          "3/6/2021",
          "7/6/2021",
          "9/6/2021",
          "10/6/2021",
          "11/6/2021",
          "15/06/2021",
          "16/06/2021",
          "17/06/2021",
          "18/06/2021",
          "21/06/2021",
          "24/06/2021",
          "28/06/2021"
         ],
         "xaxis": "x",
         "y": [
          1.266051071,
          1.3,
          0,
          0,
          0,
          0,
          1.3,
          0,
          1.3,
          115,
          107.96999890000001,
          110,
          112.81643840000001,
          1.3,
          0,
          1.3,
          1.3,
          1.29968736,
          1.3,
          1.3,
          1.25,
          0,
          0,
          0,
          109.9999983,
          0
         ],
         "yaxis": "y"
        },
        {
         "hovertemplate": "Broker=IBA<br>Date (DD/MM/YYYY)=%{x}<br>value=%{y}<extra></extra>",
         "legendgroup": "IBA",
         "marker": {
          "color": "#FF97FF",
          "symbol": "circle"
         },
         "mode": "markers",
         "name": "IBA",
         "orientation": "v",
         "showlegend": true,
         "type": "scatter",
         "x": [
          "2/6/2021",
          "15/06/2021",
          "16/06/2021",
          "23/06/2021",
          "2/6/2021",
          "15/06/2021",
          "16/06/2021",
          "23/06/2021"
         ],
         "xaxis": "x",
         "y": [
          1.3,
          0,
          1.225,
          0,
          1.3,
          1.300063241,
          0,
          107.5
         ],
         "yaxis": "y"
        },
        {
         "hovertemplate": "Broker=Merrill Lynch<br>Date (DD/MM/YYYY)=%{x}<br>value=%{y}<extra></extra>",
         "legendgroup": "Merrill Lynch",
         "marker": {
          "color": "#FECB52",
          "symbol": "circle"
         },
         "mode": "markers",
         "name": "Merrill Lynch",
         "orientation": "v",
         "showlegend": true,
         "type": "scatter",
         "x": [
          "2/6/2021",
          "8/6/2021",
          "10/6/2021",
          "11/6/2021",
          "15/06/2021",
          "18/06/2021",
          "23/06/2021",
          "28/06/2021",
          "2/6/2021",
          "8/6/2021",
          "10/6/2021",
          "11/6/2021",
          "15/06/2021",
          "18/06/2021",
          "23/06/2021",
          "28/06/2021"
         ],
         "xaxis": "x",
         "y": [
          1.25,
          1.3,
          1.3,
          1.3,
          1.3,
          114.5,
          107,
          110,
          1.2,
          0,
          0,
          0,
          0,
          0,
          0,
          0
         ],
         "yaxis": "y"
        },
        {
         "hovertemplate": "Broker=Morgans<br>Date (DD/MM/YYYY)=%{x}<br>value=%{y}<extra></extra>",
         "legendgroup": "Morgans",
         "marker": {
          "color": "#636efa",
          "symbol": "circle"
         },
         "mode": "markers",
         "name": "Morgans",
         "orientation": "v",
         "showlegend": true,
         "type": "scatter",
         "x": [
          "2/6/2021",
          "2/6/2021"
         ],
         "xaxis": "x",
         "y": [
          0,
          1.3
         ],
         "yaxis": "y"
        },
        {
         "hovertemplate": "Broker=OpenMarkets<br>Date (DD/MM/YYYY)=%{x}<br>value=%{y}<extra></extra>",
         "legendgroup": "OpenMarkets",
         "marker": {
          "color": "#EF553B",
          "symbol": "circle"
         },
         "mode": "markers",
         "name": "OpenMarkets",
         "orientation": "v",
         "showlegend": true,
         "type": "scatter",
         "x": [
          "2/6/2021",
          "3/6/2021",
          "4/6/2021",
          "7/6/2021",
          "9/6/2021",
          "10/6/2021",
          "15/06/2021",
          "17/06/2021",
          "22/06/2021",
          "2/6/2021",
          "3/6/2021",
          "4/6/2021",
          "7/6/2021",
          "9/6/2021",
          "10/6/2021",
          "15/06/2021",
          "17/06/2021",
          "22/06/2021"
         ],
         "xaxis": "x",
         "y": [
          1.274169758,
          1.3,
          1.3,
          0,
          1.3,
          1.3,
          1.3,
          0,
          108.5,
          1.2,
          1.3,
          0,
          1.3,
          1.3,
          0,
          1.3,
          1.2,
          0
         ],
         "yaxis": "y"
        },
        {
         "hovertemplate": "Broker=Pershing<br>Date (DD/MM/YYYY)=%{x}<br>value=%{y}<extra></extra>",
         "legendgroup": "Pershing",
         "marker": {
          "color": "#00cc96",
          "symbol": "circle"
         },
         "mode": "markers",
         "name": "Pershing",
         "orientation": "v",
         "showlegend": true,
         "type": "scatter",
         "x": [
          "2/6/2021",
          "17/06/2021",
          "2/6/2021",
          "17/06/2021"
         ],
         "xaxis": "x",
         "y": [
          1.2,
          1.2,
          0,
          0
         ],
         "yaxis": "y"
        },
        {
         "hovertemplate": "Broker=State One Stock<br>Date (DD/MM/YYYY)=%{x}<br>value=%{y}<extra></extra>",
         "legendgroup": "State One Stock",
         "marker": {
          "color": "#ab63fa",
          "symbol": "circle"
         },
         "mode": "markers",
         "name": "State One Stock",
         "orientation": "v",
         "showlegend": true,
         "type": "scatter",
         "x": [
          "2/6/2021",
          "7/6/2021",
          "8/6/2021",
          "9/6/2021",
          "23/06/2021",
          "2/6/2021",
          "7/6/2021",
          "8/6/2021",
          "9/6/2021",
          "23/06/2021"
         ],
         "xaxis": "x",
         "y": [
          0,
          1.3,
          1.3,
          1.3,
          107,
          1.3,
          0,
          0,
          0,
          0
         ],
         "yaxis": "y"
        },
        {
         "hovertemplate": "Broker=Third Party<br>Date (DD/MM/YYYY)=%{x}<br>value=%{y}<extra></extra>",
         "legendgroup": "Third Party",
         "marker": {
          "color": "#FFA15A",
          "symbol": "circle"
         },
         "mode": "markers",
         "name": "Third Party",
         "orientation": "v",
         "showlegend": true,
         "type": "scatter",
         "x": [
          "2/6/2021",
          "4/6/2021",
          "21/06/2021",
          "28/06/2021",
          "2/6/2021",
          "4/6/2021",
          "21/06/2021",
          "28/06/2021"
         ],
         "xaxis": "x",
         "y": [
          1.229030176,
          1.3,
          0,
          0,
          1.37711617,
          0,
          106,
          110
         ],
         "yaxis": "y"
        },
        {
         "hovertemplate": "Broker=Virtu Financial<br>Date (DD/MM/YYYY)=%{x}<br>value=%{y}<extra></extra>",
         "legendgroup": "Virtu Financial",
         "marker": {
          "color": "#19d3f3",
          "symbol": "circle"
         },
         "mode": "markers",
         "name": "Virtu Financial",
         "orientation": "v",
         "showlegend": true,
         "type": "scatter",
         "x": [
          "2/6/2021",
          "3/6/2021",
          "4/6/2021",
          "7/6/2021",
          "8/6/2021",
          "9/6/2021",
          "10/6/2021",
          "15/06/2021",
          "17/06/2021",
          "2/6/2021",
          "3/6/2021",
          "4/6/2021",
          "7/6/2021",
          "8/6/2021",
          "9/6/2021",
          "10/6/2021",
          "15/06/2021",
          "17/06/2021"
         ],
         "xaxis": "x",
         "y": [
          1.3,
          1.3,
          0,
          1.3,
          1.3,
          1.3,
          1.3,
          1.3,
          0,
          1.2,
          1.3,
          1.3,
          0,
          1.2,
          1.2,
          0,
          0,
          1.2
         ],
         "yaxis": "y"
        },
        {
         "hovertemplate": "Broker=Wealthhub Sec<br>Date (DD/MM/YYYY)=%{x}<br>value=%{y}<extra></extra>",
         "legendgroup": "Wealthhub Sec",
         "marker": {
          "color": "#FF6692",
          "symbol": "circle"
         },
         "mode": "markers",
         "name": "Wealthhub Sec",
         "orientation": "v",
         "showlegend": true,
         "type": "scatter",
         "x": [
          "2/6/2021",
          "3/6/2021",
          "10/6/2021",
          "11/6/2021",
          "15/06/2021",
          "18/06/2021",
          "21/06/2021",
          "23/06/2021",
          "24/06/2021",
          "2/6/2021",
          "3/6/2021",
          "10/6/2021",
          "11/6/2021",
          "15/06/2021",
          "18/06/2021",
          "21/06/2021",
          "23/06/2021",
          "24/06/2021"
         ],
         "xaxis": "x",
         "y": [
          1.4,
          1.3,
          1.3,
          0,
          0,
          120,
          108.5,
          107.5,
          0,
          0,
          0,
          0,
          1.3,
          1.3,
          116.34254609999999,
          111,
          107.0274084,
          109
         ],
         "yaxis": "y"
        },
        {
         "hovertemplate": "Broker=InstinetNomura<br>Date (DD/MM/YYYY)=%{x}<br>value=%{y}<extra></extra>",
         "legendgroup": "InstinetNomura",
         "marker": {
          "color": "#B6E880",
          "symbol": "circle"
         },
         "mode": "markers",
         "name": "InstinetNomura",
         "orientation": "v",
         "showlegend": true,
         "type": "scatter",
         "x": [
          "4/6/2021",
          "9/6/2021",
          "4/6/2021",
          "9/6/2021"
         ],
         "xaxis": "x",
         "y": [
          0,
          0,
          1.3,
          1.3
         ],
         "yaxis": "y"
        },
        {
         "hovertemplate": "Broker=Morrison<br>Date (DD/MM/YYYY)=%{x}<br>value=%{y}<extra></extra>",
         "legendgroup": "Morrison",
         "marker": {
          "color": "#FF97FF",
          "symbol": "circle"
         },
         "mode": "markers",
         "name": "Morrison",
         "orientation": "v",
         "showlegend": true,
         "type": "scatter",
         "x": [
          "7/6/2021",
          "22/06/2021",
          "7/6/2021",
          "22/06/2021"
         ],
         "xaxis": "x",
         "y": [
          1.3,
          0,
          0,
          108
         ],
         "yaxis": "y"
        },
        {
         "hovertemplate": "Broker=Patersons<br>Date (DD/MM/YYYY)=%{x}<br>value=%{y}<extra></extra>",
         "legendgroup": "Patersons",
         "marker": {
          "color": "#FECB52",
          "symbol": "circle"
         },
         "mode": "markers",
         "name": "Patersons",
         "orientation": "v",
         "showlegend": true,
         "type": "scatter",
         "x": [
          "8/6/2021",
          "9/6/2021",
          "11/6/2021",
          "21/06/2021",
          "22/06/2021",
          "23/06/2021",
          "24/06/2021",
          "25/06/2021",
          "8/6/2021",
          "9/6/2021",
          "11/6/2021",
          "21/06/2021",
          "22/06/2021",
          "23/06/2021",
          "24/06/2021",
          "25/06/2021"
         ],
         "xaxis": "x",
         "y": [
          1.225244494,
          1.3,
          1.3,
          108,
          107,
          107.5,
          109.68958740000001,
          110.4360465,
          0,
          0,
          0,
          0,
          0,
          0,
          0,
          0
         ],
         "yaxis": "y"
        },
        {
         "hovertemplate": "Broker=Citigroup<br>Date (DD/MM/YYYY)=%{x}<br>value=%{y}<extra></extra>",
         "legendgroup": "Citigroup",
         "marker": {
          "color": "#636efa",
          "symbol": "circle"
         },
         "mode": "markers",
         "name": "Citigroup",
         "orientation": "v",
         "showlegend": true,
         "type": "scatter",
         "x": [
          "10/6/2021",
          "18/06/2021",
          "10/6/2021",
          "18/06/2021"
         ],
         "xaxis": "x",
         "y": [
          1.25,
          115,
          0,
          0
         ],
         "yaxis": "y"
        },
        {
         "hovertemplate": "Broker=Shaw<br>Date (DD/MM/YYYY)=%{x}<br>value=%{y}<extra></extra>",
         "legendgroup": "Shaw",
         "marker": {
          "color": "#EF553B",
          "symbol": "circle"
         },
         "mode": "markers",
         "name": "Shaw",
         "orientation": "v",
         "showlegend": true,
         "type": "scatter",
         "x": [
          "17/06/2021",
          "22/06/2021",
          "25/06/2021",
          "28/06/2021",
          "17/06/2021",
          "22/06/2021",
          "25/06/2021",
          "28/06/2021"
         ],
         "xaxis": "x",
         "y": [
          1.2,
          108.07705290000001,
          110,
          110,
          0,
          0,
          0,
          0
         ],
         "yaxis": "y"
        },
        {
         "hovertemplate": "Broker=Morgan Stanley<br>Date (DD/MM/YYYY)=%{x}<br>value=%{y}<extra></extra>",
         "legendgroup": "Morgan Stanley",
         "marker": {
          "color": "#00cc96",
          "symbol": "circle"
         },
         "mode": "markers",
         "name": "Morgan Stanley",
         "orientation": "v",
         "showlegend": true,
         "type": "scatter",
         "x": [
          "24/06/2021",
          "24/06/2021"
         ],
         "xaxis": "x",
         "y": [
          108,
          0
         ],
         "yaxis": "y"
        },
        {
         "hovertemplate": "Broker=Unassigned Transactions<br>Date (DD/MM/YYYY)=%{x}<br>value=%{y}<extra></extra>",
         "legendgroup": "Unassigned Transactions",
         "marker": {
          "color": "#ab63fa",
          "symbol": "circle"
         },
         "mode": "markers",
         "name": "Unassigned Transactions",
         "orientation": "v",
         "showlegend": true,
         "type": "scatter",
         "x": [
          "29/06/2021",
          "30/06/2021",
          "29/06/2021",
          "30/06/2021"
         ],
         "xaxis": "x",
         "y": [
          116.44076880000001,
          121.18325290000001,
          116.44076880000001,
          121.18325290000001
         ],
         "yaxis": "y"
        }
       ],
       "layout": {
        "legend": {
         "title": {
          "text": "Broker"
         },
         "tracegroupgap": 0
        },
        "margin": {
         "t": 60
        },
        "template": {
         "data": {
          "bar": [
           {
            "error_x": {
             "color": "#2a3f5f"
            },
            "error_y": {
             "color": "#2a3f5f"
            },
            "marker": {
             "line": {
              "color": "#E5ECF6",
              "width": 0.5
             }
            },
            "type": "bar"
           }
          ],
          "barpolar": [
           {
            "marker": {
             "line": {
              "color": "#E5ECF6",
              "width": 0.5
             }
            },
            "type": "barpolar"
           }
          ],
          "carpet": [
           {
            "aaxis": {
             "endlinecolor": "#2a3f5f",
             "gridcolor": "white",
             "linecolor": "white",
             "minorgridcolor": "white",
             "startlinecolor": "#2a3f5f"
            },
            "baxis": {
             "endlinecolor": "#2a3f5f",
             "gridcolor": "white",
             "linecolor": "white",
             "minorgridcolor": "white",
             "startlinecolor": "#2a3f5f"
            },
            "type": "carpet"
           }
          ],
          "choropleth": [
           {
            "colorbar": {
             "outlinewidth": 0,
             "ticks": ""
            },
            "type": "choropleth"
           }
          ],
          "contour": [
           {
            "colorbar": {
             "outlinewidth": 0,
             "ticks": ""
            },
            "colorscale": [
             [
              0,
              "#0d0887"
             ],
             [
              0.1111111111111111,
              "#46039f"
             ],
             [
              0.2222222222222222,
              "#7201a8"
             ],
             [
              0.3333333333333333,
              "#9c179e"
             ],
             [
              0.4444444444444444,
              "#bd3786"
             ],
             [
              0.5555555555555556,
              "#d8576b"
             ],
             [
              0.6666666666666666,
              "#ed7953"
             ],
             [
              0.7777777777777778,
              "#fb9f3a"
             ],
             [
              0.8888888888888888,
              "#fdca26"
             ],
             [
              1,
              "#f0f921"
             ]
            ],
            "type": "contour"
           }
          ],
          "contourcarpet": [
           {
            "colorbar": {
             "outlinewidth": 0,
             "ticks": ""
            },
            "type": "contourcarpet"
           }
          ],
          "heatmap": [
           {
            "colorbar": {
             "outlinewidth": 0,
             "ticks": ""
            },
            "colorscale": [
             [
              0,
              "#0d0887"
             ],
             [
              0.1111111111111111,
              "#46039f"
             ],
             [
              0.2222222222222222,
              "#7201a8"
             ],
             [
              0.3333333333333333,
              "#9c179e"
             ],
             [
              0.4444444444444444,
              "#bd3786"
             ],
             [
              0.5555555555555556,
              "#d8576b"
             ],
             [
              0.6666666666666666,
              "#ed7953"
             ],
             [
              0.7777777777777778,
              "#fb9f3a"
             ],
             [
              0.8888888888888888,
              "#fdca26"
             ],
             [
              1,
              "#f0f921"
             ]
            ],
            "type": "heatmap"
           }
          ],
          "heatmapgl": [
           {
            "colorbar": {
             "outlinewidth": 0,
             "ticks": ""
            },
            "colorscale": [
             [
              0,
              "#0d0887"
             ],
             [
              0.1111111111111111,
              "#46039f"
             ],
             [
              0.2222222222222222,
              "#7201a8"
             ],
             [
              0.3333333333333333,
              "#9c179e"
             ],
             [
              0.4444444444444444,
              "#bd3786"
             ],
             [
              0.5555555555555556,
              "#d8576b"
             ],
             [
              0.6666666666666666,
              "#ed7953"
             ],
             [
              0.7777777777777778,
              "#fb9f3a"
             ],
             [
              0.8888888888888888,
              "#fdca26"
             ],
             [
              1,
              "#f0f921"
             ]
            ],
            "type": "heatmapgl"
           }
          ],
          "histogram": [
           {
            "marker": {
             "colorbar": {
              "outlinewidth": 0,
              "ticks": ""
             }
            },
            "type": "histogram"
           }
          ],
          "histogram2d": [
           {
            "colorbar": {
             "outlinewidth": 0,
             "ticks": ""
            },
            "colorscale": [
             [
              0,
              "#0d0887"
             ],
             [
              0.1111111111111111,
              "#46039f"
             ],
             [
              0.2222222222222222,
              "#7201a8"
             ],
             [
              0.3333333333333333,
              "#9c179e"
             ],
             [
              0.4444444444444444,
              "#bd3786"
             ],
             [
              0.5555555555555556,
              "#d8576b"
             ],
             [
              0.6666666666666666,
              "#ed7953"
             ],
             [
              0.7777777777777778,
              "#fb9f3a"
             ],
             [
              0.8888888888888888,
              "#fdca26"
             ],
             [
              1,
              "#f0f921"
             ]
            ],
            "type": "histogram2d"
           }
          ],
          "histogram2dcontour": [
           {
            "colorbar": {
             "outlinewidth": 0,
             "ticks": ""
            },
            "colorscale": [
             [
              0,
              "#0d0887"
             ],
             [
              0.1111111111111111,
              "#46039f"
             ],
             [
              0.2222222222222222,
              "#7201a8"
             ],
             [
              0.3333333333333333,
              "#9c179e"
             ],
             [
              0.4444444444444444,
              "#bd3786"
             ],
             [
              0.5555555555555556,
              "#d8576b"
             ],
             [
              0.6666666666666666,
              "#ed7953"
             ],
             [
              0.7777777777777778,
              "#fb9f3a"
             ],
             [
              0.8888888888888888,
              "#fdca26"
             ],
             [
              1,
              "#f0f921"
             ]
            ],
            "type": "histogram2dcontour"
           }
          ],
          "mesh3d": [
           {
            "colorbar": {
             "outlinewidth": 0,
             "ticks": ""
            },
            "type": "mesh3d"
           }
          ],
          "parcoords": [
           {
            "line": {
             "colorbar": {
              "outlinewidth": 0,
              "ticks": ""
             }
            },
            "type": "parcoords"
           }
          ],
          "pie": [
           {
            "automargin": true,
            "type": "pie"
           }
          ],
          "scatter": [
           {
            "marker": {
             "colorbar": {
              "outlinewidth": 0,
              "ticks": ""
             }
            },
            "type": "scatter"
           }
          ],
          "scatter3d": [
           {
            "line": {
             "colorbar": {
              "outlinewidth": 0,
              "ticks": ""
             }
            },
            "marker": {
             "colorbar": {
              "outlinewidth": 0,
              "ticks": ""
             }
            },
            "type": "scatter3d"
           }
          ],
          "scattercarpet": [
           {
            "marker": {
             "colorbar": {
              "outlinewidth": 0,
              "ticks": ""
             }
            },
            "type": "scattercarpet"
           }
          ],
          "scattergeo": [
           {
            "marker": {
             "colorbar": {
              "outlinewidth": 0,
              "ticks": ""
             }
            },
            "type": "scattergeo"
           }
          ],
          "scattergl": [
           {
            "marker": {
             "colorbar": {
              "outlinewidth": 0,
              "ticks": ""
             }
            },
            "type": "scattergl"
           }
          ],
          "scattermapbox": [
           {
            "marker": {
             "colorbar": {
              "outlinewidth": 0,
              "ticks": ""
             }
            },
            "type": "scattermapbox"
           }
          ],
          "scatterpolar": [
           {
            "marker": {
             "colorbar": {
              "outlinewidth": 0,
              "ticks": ""
             }
            },
            "type": "scatterpolar"
           }
          ],
          "scatterpolargl": [
           {
            "marker": {
             "colorbar": {
              "outlinewidth": 0,
              "ticks": ""
             }
            },
            "type": "scatterpolargl"
           }
          ],
          "scatterternary": [
           {
            "marker": {
             "colorbar": {
              "outlinewidth": 0,
              "ticks": ""
             }
            },
            "type": "scatterternary"
           }
          ],
          "surface": [
           {
            "colorbar": {
             "outlinewidth": 0,
             "ticks": ""
            },
            "colorscale": [
             [
              0,
              "#0d0887"
             ],
             [
              0.1111111111111111,
              "#46039f"
             ],
             [
              0.2222222222222222,
              "#7201a8"
             ],
             [
              0.3333333333333333,
              "#9c179e"
             ],
             [
              0.4444444444444444,
              "#bd3786"
             ],
             [
              0.5555555555555556,
              "#d8576b"
             ],
             [
              0.6666666666666666,
              "#ed7953"
             ],
             [
              0.7777777777777778,
              "#fb9f3a"
             ],
             [
              0.8888888888888888,
              "#fdca26"
             ],
             [
              1,
              "#f0f921"
             ]
            ],
            "type": "surface"
           }
          ],
          "table": [
           {
            "cells": {
             "fill": {
              "color": "#EBF0F8"
             },
             "line": {
              "color": "white"
             }
            },
            "header": {
             "fill": {
              "color": "#C8D4E3"
             },
             "line": {
              "color": "white"
             }
            },
            "type": "table"
           }
          ]
         },
         "layout": {
          "annotationdefaults": {
           "arrowcolor": "#2a3f5f",
           "arrowhead": 0,
           "arrowwidth": 1
          },
          "autotypenumbers": "strict",
          "coloraxis": {
           "colorbar": {
            "outlinewidth": 0,
            "ticks": ""
           }
          },
          "colorscale": {
           "diverging": [
            [
             0,
             "#8e0152"
            ],
            [
             0.1,
             "#c51b7d"
            ],
            [
             0.2,
             "#de77ae"
            ],
            [
             0.3,
             "#f1b6da"
            ],
            [
             0.4,
             "#fde0ef"
            ],
            [
             0.5,
             "#f7f7f7"
            ],
            [
             0.6,
             "#e6f5d0"
            ],
            [
             0.7,
             "#b8e186"
            ],
            [
             0.8,
             "#7fbc41"
            ],
            [
             0.9,
             "#4d9221"
            ],
            [
             1,
             "#276419"
            ]
           ],
           "sequential": [
            [
             0,
             "#0d0887"
            ],
            [
             0.1111111111111111,
             "#46039f"
            ],
            [
             0.2222222222222222,
             "#7201a8"
            ],
            [
             0.3333333333333333,
             "#9c179e"
            ],
            [
             0.4444444444444444,
             "#bd3786"
            ],
            [
             0.5555555555555556,
             "#d8576b"
            ],
            [
             0.6666666666666666,
             "#ed7953"
            ],
            [
             0.7777777777777778,
             "#fb9f3a"
            ],
            [
             0.8888888888888888,
             "#fdca26"
            ],
            [
             1,
             "#f0f921"
            ]
           ],
           "sequentialminus": [
            [
             0,
             "#0d0887"
            ],
            [
             0.1111111111111111,
             "#46039f"
            ],
            [
             0.2222222222222222,
             "#7201a8"
            ],
            [
             0.3333333333333333,
             "#9c179e"
            ],
            [
             0.4444444444444444,
             "#bd3786"
            ],
            [
             0.5555555555555556,
             "#d8576b"
            ],
            [
             0.6666666666666666,
             "#ed7953"
            ],
            [
             0.7777777777777778,
             "#fb9f3a"
            ],
            [
             0.8888888888888888,
             "#fdca26"
            ],
            [
             1,
             "#f0f921"
            ]
           ]
          },
          "colorway": [
           "#636efa",
           "#EF553B",
           "#00cc96",
           "#ab63fa",
           "#FFA15A",
           "#19d3f3",
           "#FF6692",
           "#B6E880",
           "#FF97FF",
           "#FECB52"
          ],
          "font": {
           "color": "#2a3f5f"
          },
          "geo": {
           "bgcolor": "white",
           "lakecolor": "white",
           "landcolor": "#E5ECF6",
           "showlakes": true,
           "showland": true,
           "subunitcolor": "white"
          },
          "hoverlabel": {
           "align": "left"
          },
          "hovermode": "closest",
          "mapbox": {
           "style": "light"
          },
          "paper_bgcolor": "white",
          "plot_bgcolor": "#E5ECF6",
          "polar": {
           "angularaxis": {
            "gridcolor": "white",
            "linecolor": "white",
            "ticks": ""
           },
           "bgcolor": "#E5ECF6",
           "radialaxis": {
            "gridcolor": "white",
            "linecolor": "white",
            "ticks": ""
           }
          },
          "scene": {
           "xaxis": {
            "backgroundcolor": "#E5ECF6",
            "gridcolor": "white",
            "gridwidth": 2,
            "linecolor": "white",
            "showbackground": true,
            "ticks": "",
            "zerolinecolor": "white"
           },
           "yaxis": {
            "backgroundcolor": "#E5ECF6",
            "gridcolor": "white",
            "gridwidth": 2,
            "linecolor": "white",
            "showbackground": true,
            "ticks": "",
            "zerolinecolor": "white"
           },
           "zaxis": {
            "backgroundcolor": "#E5ECF6",
            "gridcolor": "white",
            "gridwidth": 2,
            "linecolor": "white",
            "showbackground": true,
            "ticks": "",
            "zerolinecolor": "white"
           }
          },
          "shapedefaults": {
           "line": {
            "color": "#2a3f5f"
           }
          },
          "ternary": {
           "aaxis": {
            "gridcolor": "white",
            "linecolor": "white",
            "ticks": ""
           },
           "baxis": {
            "gridcolor": "white",
            "linecolor": "white",
            "ticks": ""
           },
           "bgcolor": "#E5ECF6",
           "caxis": {
            "gridcolor": "white",
            "linecolor": "white",
            "ticks": ""
           }
          },
          "title": {
           "x": 0.05
          },
          "xaxis": {
           "automargin": true,
           "gridcolor": "white",
           "linecolor": "white",
           "ticks": "",
           "title": {
            "standoff": 15
           },
           "zerolinecolor": "white",
           "zerolinewidth": 2
          },
          "yaxis": {
           "automargin": true,
           "gridcolor": "white",
           "linecolor": "white",
           "ticks": "",
           "title": {
            "standoff": 15
           },
           "zerolinecolor": "white",
           "zerolinewidth": 2
          }
         }
        },
        "xaxis": {
         "anchor": "y",
         "domain": [
          0,
          1
         ],
         "title": {
          "text": "Date (DD/MM/YYYY)"
         }
        },
        "yaxis": {
         "anchor": "x",
         "domain": [
          0,
          1
         ],
         "title": {
          "text": "value"
         }
        }
       }
      },
      "text/html": [
       "<div>                            <div id=\"88ae43fd-5a5e-423e-a244-0ce544ee8f4e\" class=\"plotly-graph-div\" style=\"height:525px; width:100%;\"></div>            <script type=\"text/javascript\">                require([\"plotly\"], function(Plotly) {                    window.PLOTLYENV=window.PLOTLYENV || {};                                    if (document.getElementById(\"88ae43fd-5a5e-423e-a244-0ce544ee8f4e\")) {                    Plotly.newPlot(                        \"88ae43fd-5a5e-423e-a244-0ce544ee8f4e\",                        [{\"hovertemplate\": \"Broker=CMC Mkts<br>Date (DD/MM/YYYY)=%{x}<br>value=%{y}<extra></extra>\", \"legendgroup\": \"CMC Mkts\", \"marker\": {\"color\": \"#636efa\", \"symbol\": \"circle\"}, \"mode\": \"markers\", \"name\": \"CMC Mkts\", \"orientation\": \"v\", \"showlegend\": true, \"type\": \"scatter\", \"x\": [\"1/6/2021\", \"2/6/2021\", \"15/06/2021\", \"17/06/2021\", \"1/6/2021\", \"2/6/2021\", \"15/06/2021\", \"17/06/2021\"], \"xaxis\": \"x\", \"y\": [1.2, 1.3, 0.0, 1.3, 0.0, 0.0, 1.3, 1.2], \"yaxis\": \"y\"}, {\"hovertemplate\": \"Broker=Commonwealth<br>Date (DD/MM/YYYY)=%{x}<br>value=%{y}<extra></extra>\", \"legendgroup\": \"Commonwealth\", \"marker\": {\"color\": \"#EF553B\", \"symbol\": \"circle\"}, \"mode\": \"markers\", \"name\": \"Commonwealth\", \"orientation\": \"v\", \"showlegend\": true, \"type\": \"scatter\", \"x\": [\"1/6/2021\", \"2/6/2021\", \"3/6/2021\", \"4/6/2021\", \"7/6/2021\", \"8/6/2021\", \"9/6/2021\", \"10/6/2021\", \"11/6/2021\", \"15/06/2021\", \"16/06/2021\", \"17/06/2021\", \"18/06/2021\", \"21/06/2021\", \"22/06/2021\", \"23/06/2021\", \"24/06/2021\", \"25/06/2021\", \"28/06/2021\", \"1/6/2021\", \"2/6/2021\", \"3/6/2021\", \"4/6/2021\", \"7/6/2021\", \"8/6/2021\", \"9/6/2021\", \"10/6/2021\", \"11/6/2021\", \"15/06/2021\", \"16/06/2021\", \"17/06/2021\", \"18/06/2021\", \"21/06/2021\", \"22/06/2021\", \"23/06/2021\", \"24/06/2021\", \"25/06/2021\", \"28/06/2021\"], \"xaxis\": \"x\", \"y\": [0.0, 1.320954965, 0.0, 1.3, 1.3, 1.298263544, 1.280963817, 1.3, 1.3, 1.300006567, 0.0, 0.0, 113.9012479, 108.3928125, 107.7329077, 107.05931399999999, 113.04599499999999, 0.0, 111.14438600000001, 1.186330013, 1.2873448159999998, 1.3, 1.3, 0.0, 1.3, 1.2, 1.3, 0.0, 1.3, 1.2, 1.3, 111.0, 110.38053959999999, 107.9496472, 107.17529820000001, 109.9038101, 110.12690359999999, 113.0001101], \"yaxis\": \"y\"}, {\"hovertemplate\": \"Broker=Macquarie Insto<br>Date (DD/MM/YYYY)=%{x}<br>value=%{y}<extra></extra>\", \"legendgroup\": \"Macquarie Insto\", \"marker\": {\"color\": \"#00cc96\", \"symbol\": \"circle\"}, \"mode\": \"markers\", \"name\": \"Macquarie Insto\", \"orientation\": \"v\", \"showlegend\": true, \"type\": \"scatter\", \"x\": [\"1/6/2021\", \"18/06/2021\", \"1/6/2021\", \"18/06/2021\"], \"xaxis\": \"x\", \"y\": [1.1, 115.0, 0.0, 0.0], \"yaxis\": \"y\"}, {\"hovertemplate\": \"Broker=AIEX<br>Date (DD/MM/YYYY)=%{x}<br>value=%{y}<extra></extra>\", \"legendgroup\": \"AIEX\", \"marker\": {\"color\": \"#ab63fa\", \"symbol\": \"circle\"}, \"mode\": \"markers\", \"name\": \"AIEX\", \"orientation\": \"v\", \"showlegend\": true, \"type\": \"scatter\", \"x\": [\"2/6/2021\", \"3/6/2021\", \"11/6/2021\", \"16/06/2021\", \"18/06/2021\", \"21/06/2021\", \"22/06/2021\", \"23/06/2021\", \"24/06/2021\", \"25/06/2021\", \"2/6/2021\", \"3/6/2021\", \"11/6/2021\", \"16/06/2021\", \"18/06/2021\", \"21/06/2021\", \"22/06/2021\", \"23/06/2021\", \"24/06/2021\", \"25/06/2021\"], \"xaxis\": \"x\", \"y\": [1.26097561, 1.3, 1.3, 0.0, 111.0, 106.5, 107.5, 0.0, 109.0, 0.0, 1.2, 0.0, 0.0, 1.2, 115.0, 107.5, 107.29919679999999, 107.0, 110.0, 110.0], \"yaxis\": \"y\"}, {\"hovertemplate\": \"Broker=Barclays Investment Bank<br>Date (DD/MM/YYYY)=%{x}<br>value=%{y}<extra></extra>\", \"legendgroup\": \"Barclays Investment Bank\", \"marker\": {\"color\": \"#FFA15A\", \"symbol\": \"circle\"}, \"mode\": \"markers\", \"name\": \"Barclays Investment Bank\", \"orientation\": \"v\", \"showlegend\": true, \"type\": \"scatter\", \"x\": [\"2/6/2021\", \"3/6/2021\", \"4/6/2021\", \"7/6/2021\", \"8/6/2021\", \"9/6/2021\", \"10/6/2021\", \"15/06/2021\", \"2/6/2021\", \"3/6/2021\", \"4/6/2021\", \"7/6/2021\", \"8/6/2021\", \"9/6/2021\", \"10/6/2021\", \"15/06/2021\"], \"xaxis\": \"x\", \"y\": [1.320984985, 0.0, 0.0, 1.3, 1.3, 1.3, 1.3, 1.3, 1.284414427, 1.3, 1.3, 0.0, 0.0, 0.0, 0.0, 1.3], \"yaxis\": \"y\"}, {\"hovertemplate\": \"Broker=Bell Potter<br>Date (DD/MM/YYYY)=%{x}<br>value=%{y}<extra></extra>\", \"legendgroup\": \"Bell Potter\", \"marker\": {\"color\": \"#19d3f3\", \"symbol\": \"circle\"}, \"mode\": \"markers\", \"name\": \"Bell Potter\", \"orientation\": \"v\", \"showlegend\": true, \"type\": \"scatter\", \"x\": [\"2/6/2021\", \"8/6/2021\", \"9/6/2021\", \"15/06/2021\", \"21/06/2021\", \"2/6/2021\", \"8/6/2021\", \"9/6/2021\", \"15/06/2021\", \"21/06/2021\"], \"xaxis\": \"x\", \"y\": [1.2385663059999998, 0.0, 1.2, 1.3, 0.0, 1.2, 1.3, 1.2, 0.0, 108.0], \"yaxis\": \"y\"}, {\"hovertemplate\": \"Broker=CMC Markets<br>Date (DD/MM/YYYY)=%{x}<br>value=%{y}<extra></extra>\", \"legendgroup\": \"CMC Markets\", \"marker\": {\"color\": \"#FF6692\", \"symbol\": \"circle\"}, \"mode\": \"markers\", \"name\": \"CMC Markets\", \"orientation\": \"v\", \"showlegend\": true, \"type\": \"scatter\", \"x\": [\"2/6/2021\", \"3/6/2021\", \"4/6/2021\", \"7/6/2021\", \"8/6/2021\", \"9/6/2021\", \"18/06/2021\", \"21/06/2021\", \"22/06/2021\", \"24/06/2021\", \"25/06/2021\", \"28/06/2021\", \"2/6/2021\", \"3/6/2021\", \"4/6/2021\", \"7/6/2021\", \"8/6/2021\", \"9/6/2021\", \"18/06/2021\", \"21/06/2021\", \"22/06/2021\", \"24/06/2021\", \"25/06/2021\", \"28/06/2021\"], \"xaxis\": \"x\", \"y\": [1.287224186, 0.0, 0.0, 1.3, 0.0, 0.0, 0.0, 111.0, 107.02974170000002, 111.0, 110.0, 110.0, 1.268407644, 1.3, 1.3, 1.3, 1.3, 1.3, 115.0, 108.5, 0.0, 115.7241379, 0.0, 0.0], \"yaxis\": \"y\"}, {\"hovertemplate\": \"Broker=Credit Suisse<br>Date (DD/MM/YYYY)=%{x}<br>value=%{y}<extra></extra>\", \"legendgroup\": \"Credit Suisse\", \"marker\": {\"color\": \"#B6E880\", \"symbol\": \"circle\"}, \"mode\": \"markers\", \"name\": \"Credit Suisse\", \"orientation\": \"v\", \"showlegend\": true, \"type\": \"scatter\", \"x\": [\"2/6/2021\", \"3/6/2021\", \"7/6/2021\", \"9/6/2021\", \"10/6/2021\", \"11/6/2021\", \"15/06/2021\", \"16/06/2021\", \"17/06/2021\", \"18/06/2021\", \"21/06/2021\", \"24/06/2021\", \"28/06/2021\", \"2/6/2021\", \"3/6/2021\", \"7/6/2021\", \"9/6/2021\", \"10/6/2021\", \"11/6/2021\", \"15/06/2021\", \"16/06/2021\", \"17/06/2021\", \"18/06/2021\", \"21/06/2021\", \"24/06/2021\", \"28/06/2021\"], \"xaxis\": \"x\", \"y\": [1.266051071, 1.3, 0.0, 0.0, 0.0, 0.0, 1.3, 0.0, 1.3, 115.0, 107.96999890000001, 110.0, 112.81643840000001, 1.3, 0.0, 1.3, 1.3, 1.29968736, 1.3, 1.3, 1.25, 0.0, 0.0, 0.0, 109.9999983, 0.0], \"yaxis\": \"y\"}, {\"hovertemplate\": \"Broker=IBA<br>Date (DD/MM/YYYY)=%{x}<br>value=%{y}<extra></extra>\", \"legendgroup\": \"IBA\", \"marker\": {\"color\": \"#FF97FF\", \"symbol\": \"circle\"}, \"mode\": \"markers\", \"name\": \"IBA\", \"orientation\": \"v\", \"showlegend\": true, \"type\": \"scatter\", \"x\": [\"2/6/2021\", \"15/06/2021\", \"16/06/2021\", \"23/06/2021\", \"2/6/2021\", \"15/06/2021\", \"16/06/2021\", \"23/06/2021\"], \"xaxis\": \"x\", \"y\": [1.3, 0.0, 1.225, 0.0, 1.3, 1.300063241, 0.0, 107.5], \"yaxis\": \"y\"}, {\"hovertemplate\": \"Broker=Merrill Lynch<br>Date (DD/MM/YYYY)=%{x}<br>value=%{y}<extra></extra>\", \"legendgroup\": \"Merrill Lynch\", \"marker\": {\"color\": \"#FECB52\", \"symbol\": \"circle\"}, \"mode\": \"markers\", \"name\": \"Merrill Lynch\", \"orientation\": \"v\", \"showlegend\": true, \"type\": \"scatter\", \"x\": [\"2/6/2021\", \"8/6/2021\", \"10/6/2021\", \"11/6/2021\", \"15/06/2021\", \"18/06/2021\", \"23/06/2021\", \"28/06/2021\", \"2/6/2021\", \"8/6/2021\", \"10/6/2021\", \"11/6/2021\", \"15/06/2021\", \"18/06/2021\", \"23/06/2021\", \"28/06/2021\"], \"xaxis\": \"x\", \"y\": [1.25, 1.3, 1.3, 1.3, 1.3, 114.5, 107.0, 110.0, 1.2, 0.0, 0.0, 0.0, 0.0, 0.0, 0.0, 0.0], \"yaxis\": \"y\"}, {\"hovertemplate\": \"Broker=Morgans<br>Date (DD/MM/YYYY)=%{x}<br>value=%{y}<extra></extra>\", \"legendgroup\": \"Morgans\", \"marker\": {\"color\": \"#636efa\", \"symbol\": \"circle\"}, \"mode\": \"markers\", \"name\": \"Morgans\", \"orientation\": \"v\", \"showlegend\": true, \"type\": \"scatter\", \"x\": [\"2/6/2021\", \"2/6/2021\"], \"xaxis\": \"x\", \"y\": [0.0, 1.3], \"yaxis\": \"y\"}, {\"hovertemplate\": \"Broker=OpenMarkets<br>Date (DD/MM/YYYY)=%{x}<br>value=%{y}<extra></extra>\", \"legendgroup\": \"OpenMarkets\", \"marker\": {\"color\": \"#EF553B\", \"symbol\": \"circle\"}, \"mode\": \"markers\", \"name\": \"OpenMarkets\", \"orientation\": \"v\", \"showlegend\": true, \"type\": \"scatter\", \"x\": [\"2/6/2021\", \"3/6/2021\", \"4/6/2021\", \"7/6/2021\", \"9/6/2021\", \"10/6/2021\", \"15/06/2021\", \"17/06/2021\", \"22/06/2021\", \"2/6/2021\", \"3/6/2021\", \"4/6/2021\", \"7/6/2021\", \"9/6/2021\", \"10/6/2021\", \"15/06/2021\", \"17/06/2021\", \"22/06/2021\"], \"xaxis\": \"x\", \"y\": [1.274169758, 1.3, 1.3, 0.0, 1.3, 1.3, 1.3, 0.0, 108.5, 1.2, 1.3, 0.0, 1.3, 1.3, 0.0, 1.3, 1.2, 0.0], \"yaxis\": \"y\"}, {\"hovertemplate\": \"Broker=Pershing<br>Date (DD/MM/YYYY)=%{x}<br>value=%{y}<extra></extra>\", \"legendgroup\": \"Pershing\", \"marker\": {\"color\": \"#00cc96\", \"symbol\": \"circle\"}, \"mode\": \"markers\", \"name\": \"Pershing\", \"orientation\": \"v\", \"showlegend\": true, \"type\": \"scatter\", \"x\": [\"2/6/2021\", \"17/06/2021\", \"2/6/2021\", \"17/06/2021\"], \"xaxis\": \"x\", \"y\": [1.2, 1.2, 0.0, 0.0], \"yaxis\": \"y\"}, {\"hovertemplate\": \"Broker=State One Stock<br>Date (DD/MM/YYYY)=%{x}<br>value=%{y}<extra></extra>\", \"legendgroup\": \"State One Stock\", \"marker\": {\"color\": \"#ab63fa\", \"symbol\": \"circle\"}, \"mode\": \"markers\", \"name\": \"State One Stock\", \"orientation\": \"v\", \"showlegend\": true, \"type\": \"scatter\", \"x\": [\"2/6/2021\", \"7/6/2021\", \"8/6/2021\", \"9/6/2021\", \"23/06/2021\", \"2/6/2021\", \"7/6/2021\", \"8/6/2021\", \"9/6/2021\", \"23/06/2021\"], \"xaxis\": \"x\", \"y\": [0.0, 1.3, 1.3, 1.3, 107.0, 1.3, 0.0, 0.0, 0.0, 0.0], \"yaxis\": \"y\"}, {\"hovertemplate\": \"Broker=Third Party<br>Date (DD/MM/YYYY)=%{x}<br>value=%{y}<extra></extra>\", \"legendgroup\": \"Third Party\", \"marker\": {\"color\": \"#FFA15A\", \"symbol\": \"circle\"}, \"mode\": \"markers\", \"name\": \"Third Party\", \"orientation\": \"v\", \"showlegend\": true, \"type\": \"scatter\", \"x\": [\"2/6/2021\", \"4/6/2021\", \"21/06/2021\", \"28/06/2021\", \"2/6/2021\", \"4/6/2021\", \"21/06/2021\", \"28/06/2021\"], \"xaxis\": \"x\", \"y\": [1.229030176, 1.3, 0.0, 0.0, 1.37711617, 0.0, 106.0, 110.0], \"yaxis\": \"y\"}, {\"hovertemplate\": \"Broker=Virtu Financial<br>Date (DD/MM/YYYY)=%{x}<br>value=%{y}<extra></extra>\", \"legendgroup\": \"Virtu Financial\", \"marker\": {\"color\": \"#19d3f3\", \"symbol\": \"circle\"}, \"mode\": \"markers\", \"name\": \"Virtu Financial\", \"orientation\": \"v\", \"showlegend\": true, \"type\": \"scatter\", \"x\": [\"2/6/2021\", \"3/6/2021\", \"4/6/2021\", \"7/6/2021\", \"8/6/2021\", \"9/6/2021\", \"10/6/2021\", \"15/06/2021\", \"17/06/2021\", \"2/6/2021\", \"3/6/2021\", \"4/6/2021\", \"7/6/2021\", \"8/6/2021\", \"9/6/2021\", \"10/6/2021\", \"15/06/2021\", \"17/06/2021\"], \"xaxis\": \"x\", \"y\": [1.3, 1.3, 0.0, 1.3, 1.3, 1.3, 1.3, 1.3, 0.0, 1.2, 1.3, 1.3, 0.0, 1.2, 1.2, 0.0, 0.0, 1.2], \"yaxis\": \"y\"}, {\"hovertemplate\": \"Broker=Wealthhub Sec<br>Date (DD/MM/YYYY)=%{x}<br>value=%{y}<extra></extra>\", \"legendgroup\": \"Wealthhub Sec\", \"marker\": {\"color\": \"#FF6692\", \"symbol\": \"circle\"}, \"mode\": \"markers\", \"name\": \"Wealthhub Sec\", \"orientation\": \"v\", \"showlegend\": true, \"type\": \"scatter\", \"x\": [\"2/6/2021\", \"3/6/2021\", \"10/6/2021\", \"11/6/2021\", \"15/06/2021\", \"18/06/2021\", \"21/06/2021\", \"23/06/2021\", \"24/06/2021\", \"2/6/2021\", \"3/6/2021\", \"10/6/2021\", \"11/6/2021\", \"15/06/2021\", \"18/06/2021\", \"21/06/2021\", \"23/06/2021\", \"24/06/2021\"], \"xaxis\": \"x\", \"y\": [1.4, 1.3, 1.3, 0.0, 0.0, 120.0, 108.5, 107.5, 0.0, 0.0, 0.0, 0.0, 1.3, 1.3, 116.34254609999999, 111.0, 107.0274084, 109.0], \"yaxis\": \"y\"}, {\"hovertemplate\": \"Broker=InstinetNomura<br>Date (DD/MM/YYYY)=%{x}<br>value=%{y}<extra></extra>\", \"legendgroup\": \"InstinetNomura\", \"marker\": {\"color\": \"#B6E880\", \"symbol\": \"circle\"}, \"mode\": \"markers\", \"name\": \"InstinetNomura\", \"orientation\": \"v\", \"showlegend\": true, \"type\": \"scatter\", \"x\": [\"4/6/2021\", \"9/6/2021\", \"4/6/2021\", \"9/6/2021\"], \"xaxis\": \"x\", \"y\": [0.0, 0.0, 1.3, 1.3], \"yaxis\": \"y\"}, {\"hovertemplate\": \"Broker=Morrison<br>Date (DD/MM/YYYY)=%{x}<br>value=%{y}<extra></extra>\", \"legendgroup\": \"Morrison\", \"marker\": {\"color\": \"#FF97FF\", \"symbol\": \"circle\"}, \"mode\": \"markers\", \"name\": \"Morrison\", \"orientation\": \"v\", \"showlegend\": true, \"type\": \"scatter\", \"x\": [\"7/6/2021\", \"22/06/2021\", \"7/6/2021\", \"22/06/2021\"], \"xaxis\": \"x\", \"y\": [1.3, 0.0, 0.0, 108.0], \"yaxis\": \"y\"}, {\"hovertemplate\": \"Broker=Patersons<br>Date (DD/MM/YYYY)=%{x}<br>value=%{y}<extra></extra>\", \"legendgroup\": \"Patersons\", \"marker\": {\"color\": \"#FECB52\", \"symbol\": \"circle\"}, \"mode\": \"markers\", \"name\": \"Patersons\", \"orientation\": \"v\", \"showlegend\": true, \"type\": \"scatter\", \"x\": [\"8/6/2021\", \"9/6/2021\", \"11/6/2021\", \"21/06/2021\", \"22/06/2021\", \"23/06/2021\", \"24/06/2021\", \"25/06/2021\", \"8/6/2021\", \"9/6/2021\", \"11/6/2021\", \"21/06/2021\", \"22/06/2021\", \"23/06/2021\", \"24/06/2021\", \"25/06/2021\"], \"xaxis\": \"x\", \"y\": [1.225244494, 1.3, 1.3, 108.0, 107.0, 107.5, 109.68958740000001, 110.4360465, 0.0, 0.0, 0.0, 0.0, 0.0, 0.0, 0.0, 0.0], \"yaxis\": \"y\"}, {\"hovertemplate\": \"Broker=Citigroup<br>Date (DD/MM/YYYY)=%{x}<br>value=%{y}<extra></extra>\", \"legendgroup\": \"Citigroup\", \"marker\": {\"color\": \"#636efa\", \"symbol\": \"circle\"}, \"mode\": \"markers\", \"name\": \"Citigroup\", \"orientation\": \"v\", \"showlegend\": true, \"type\": \"scatter\", \"x\": [\"10/6/2021\", \"18/06/2021\", \"10/6/2021\", \"18/06/2021\"], \"xaxis\": \"x\", \"y\": [1.25, 115.0, 0.0, 0.0], \"yaxis\": \"y\"}, {\"hovertemplate\": \"Broker=Shaw<br>Date (DD/MM/YYYY)=%{x}<br>value=%{y}<extra></extra>\", \"legendgroup\": \"Shaw\", \"marker\": {\"color\": \"#EF553B\", \"symbol\": \"circle\"}, \"mode\": \"markers\", \"name\": \"Shaw\", \"orientation\": \"v\", \"showlegend\": true, \"type\": \"scatter\", \"x\": [\"17/06/2021\", \"22/06/2021\", \"25/06/2021\", \"28/06/2021\", \"17/06/2021\", \"22/06/2021\", \"25/06/2021\", \"28/06/2021\"], \"xaxis\": \"x\", \"y\": [1.2, 108.07705290000001, 110.0, 110.0, 0.0, 0.0, 0.0, 0.0], \"yaxis\": \"y\"}, {\"hovertemplate\": \"Broker=Morgan Stanley<br>Date (DD/MM/YYYY)=%{x}<br>value=%{y}<extra></extra>\", \"legendgroup\": \"Morgan Stanley\", \"marker\": {\"color\": \"#00cc96\", \"symbol\": \"circle\"}, \"mode\": \"markers\", \"name\": \"Morgan Stanley\", \"orientation\": \"v\", \"showlegend\": true, \"type\": \"scatter\", \"x\": [\"24/06/2021\", \"24/06/2021\"], \"xaxis\": \"x\", \"y\": [108.0, 0.0], \"yaxis\": \"y\"}, {\"hovertemplate\": \"Broker=Unassigned Transactions<br>Date (DD/MM/YYYY)=%{x}<br>value=%{y}<extra></extra>\", \"legendgroup\": \"Unassigned Transactions\", \"marker\": {\"color\": \"#ab63fa\", \"symbol\": \"circle\"}, \"mode\": \"markers\", \"name\": \"Unassigned Transactions\", \"orientation\": \"v\", \"showlegend\": true, \"type\": \"scatter\", \"x\": [\"29/06/2021\", \"30/06/2021\", \"29/06/2021\", \"30/06/2021\"], \"xaxis\": \"x\", \"y\": [116.44076880000001, 121.18325290000001, 116.44076880000001, 121.18325290000001], \"yaxis\": \"y\"}],                        {\"legend\": {\"title\": {\"text\": \"Broker\"}, \"tracegroupgap\": 0}, \"margin\": {\"t\": 60}, \"template\": {\"data\": {\"bar\": [{\"error_x\": {\"color\": \"#2a3f5f\"}, \"error_y\": {\"color\": \"#2a3f5f\"}, \"marker\": {\"line\": {\"color\": \"#E5ECF6\", \"width\": 0.5}}, \"type\": \"bar\"}], \"barpolar\": [{\"marker\": {\"line\": {\"color\": \"#E5ECF6\", \"width\": 0.5}}, \"type\": \"barpolar\"}], \"carpet\": [{\"aaxis\": {\"endlinecolor\": \"#2a3f5f\", \"gridcolor\": \"white\", \"linecolor\": \"white\", \"minorgridcolor\": \"white\", \"startlinecolor\": \"#2a3f5f\"}, \"baxis\": {\"endlinecolor\": \"#2a3f5f\", \"gridcolor\": \"white\", \"linecolor\": \"white\", \"minorgridcolor\": \"white\", \"startlinecolor\": \"#2a3f5f\"}, \"type\": \"carpet\"}], \"choropleth\": [{\"colorbar\": {\"outlinewidth\": 0, \"ticks\": \"\"}, \"type\": \"choropleth\"}], \"contour\": [{\"colorbar\": {\"outlinewidth\": 0, \"ticks\": \"\"}, \"colorscale\": [[0.0, \"#0d0887\"], [0.1111111111111111, \"#46039f\"], [0.2222222222222222, \"#7201a8\"], [0.3333333333333333, \"#9c179e\"], [0.4444444444444444, \"#bd3786\"], [0.5555555555555556, \"#d8576b\"], [0.6666666666666666, \"#ed7953\"], [0.7777777777777778, \"#fb9f3a\"], [0.8888888888888888, \"#fdca26\"], [1.0, \"#f0f921\"]], \"type\": \"contour\"}], \"contourcarpet\": [{\"colorbar\": {\"outlinewidth\": 0, \"ticks\": \"\"}, \"type\": \"contourcarpet\"}], \"heatmap\": [{\"colorbar\": {\"outlinewidth\": 0, \"ticks\": \"\"}, \"colorscale\": [[0.0, \"#0d0887\"], [0.1111111111111111, \"#46039f\"], [0.2222222222222222, \"#7201a8\"], [0.3333333333333333, \"#9c179e\"], [0.4444444444444444, \"#bd3786\"], [0.5555555555555556, \"#d8576b\"], [0.6666666666666666, \"#ed7953\"], [0.7777777777777778, \"#fb9f3a\"], [0.8888888888888888, \"#fdca26\"], [1.0, \"#f0f921\"]], \"type\": \"heatmap\"}], \"heatmapgl\": [{\"colorbar\": {\"outlinewidth\": 0, \"ticks\": \"\"}, \"colorscale\": [[0.0, \"#0d0887\"], [0.1111111111111111, \"#46039f\"], [0.2222222222222222, \"#7201a8\"], [0.3333333333333333, \"#9c179e\"], [0.4444444444444444, \"#bd3786\"], [0.5555555555555556, \"#d8576b\"], [0.6666666666666666, \"#ed7953\"], [0.7777777777777778, \"#fb9f3a\"], [0.8888888888888888, \"#fdca26\"], [1.0, \"#f0f921\"]], \"type\": \"heatmapgl\"}], \"histogram\": [{\"marker\": {\"colorbar\": {\"outlinewidth\": 0, \"ticks\": \"\"}}, \"type\": \"histogram\"}], \"histogram2d\": [{\"colorbar\": {\"outlinewidth\": 0, \"ticks\": \"\"}, \"colorscale\": [[0.0, \"#0d0887\"], [0.1111111111111111, \"#46039f\"], [0.2222222222222222, \"#7201a8\"], [0.3333333333333333, \"#9c179e\"], [0.4444444444444444, \"#bd3786\"], [0.5555555555555556, \"#d8576b\"], [0.6666666666666666, \"#ed7953\"], [0.7777777777777778, \"#fb9f3a\"], [0.8888888888888888, \"#fdca26\"], [1.0, \"#f0f921\"]], \"type\": \"histogram2d\"}], \"histogram2dcontour\": [{\"colorbar\": {\"outlinewidth\": 0, \"ticks\": \"\"}, \"colorscale\": [[0.0, \"#0d0887\"], [0.1111111111111111, \"#46039f\"], [0.2222222222222222, \"#7201a8\"], [0.3333333333333333, \"#9c179e\"], [0.4444444444444444, \"#bd3786\"], [0.5555555555555556, \"#d8576b\"], [0.6666666666666666, \"#ed7953\"], [0.7777777777777778, \"#fb9f3a\"], [0.8888888888888888, \"#fdca26\"], [1.0, \"#f0f921\"]], \"type\": \"histogram2dcontour\"}], \"mesh3d\": [{\"colorbar\": {\"outlinewidth\": 0, \"ticks\": \"\"}, \"type\": \"mesh3d\"}], \"parcoords\": [{\"line\": {\"colorbar\": {\"outlinewidth\": 0, \"ticks\": \"\"}}, \"type\": \"parcoords\"}], \"pie\": [{\"automargin\": true, \"type\": \"pie\"}], \"scatter\": [{\"marker\": {\"colorbar\": {\"outlinewidth\": 0, \"ticks\": \"\"}}, \"type\": \"scatter\"}], \"scatter3d\": [{\"line\": {\"colorbar\": {\"outlinewidth\": 0, \"ticks\": \"\"}}, \"marker\": {\"colorbar\": {\"outlinewidth\": 0, \"ticks\": \"\"}}, \"type\": \"scatter3d\"}], \"scattercarpet\": [{\"marker\": {\"colorbar\": {\"outlinewidth\": 0, \"ticks\": \"\"}}, \"type\": \"scattercarpet\"}], \"scattergeo\": [{\"marker\": {\"colorbar\": {\"outlinewidth\": 0, \"ticks\": \"\"}}, \"type\": \"scattergeo\"}], \"scattergl\": [{\"marker\": {\"colorbar\": {\"outlinewidth\": 0, \"ticks\": \"\"}}, \"type\": \"scattergl\"}], \"scattermapbox\": [{\"marker\": {\"colorbar\": {\"outlinewidth\": 0, \"ticks\": \"\"}}, \"type\": \"scattermapbox\"}], \"scatterpolar\": [{\"marker\": {\"colorbar\": {\"outlinewidth\": 0, \"ticks\": \"\"}}, \"type\": \"scatterpolar\"}], \"scatterpolargl\": [{\"marker\": {\"colorbar\": {\"outlinewidth\": 0, \"ticks\": \"\"}}, \"type\": \"scatterpolargl\"}], \"scatterternary\": [{\"marker\": {\"colorbar\": {\"outlinewidth\": 0, \"ticks\": \"\"}}, \"type\": \"scatterternary\"}], \"surface\": [{\"colorbar\": {\"outlinewidth\": 0, \"ticks\": \"\"}, \"colorscale\": [[0.0, \"#0d0887\"], [0.1111111111111111, \"#46039f\"], [0.2222222222222222, \"#7201a8\"], [0.3333333333333333, \"#9c179e\"], [0.4444444444444444, \"#bd3786\"], [0.5555555555555556, \"#d8576b\"], [0.6666666666666666, \"#ed7953\"], [0.7777777777777778, \"#fb9f3a\"], [0.8888888888888888, \"#fdca26\"], [1.0, \"#f0f921\"]], \"type\": \"surface\"}], \"table\": [{\"cells\": {\"fill\": {\"color\": \"#EBF0F8\"}, \"line\": {\"color\": \"white\"}}, \"header\": {\"fill\": {\"color\": \"#C8D4E3\"}, \"line\": {\"color\": \"white\"}}, \"type\": \"table\"}]}, \"layout\": {\"annotationdefaults\": {\"arrowcolor\": \"#2a3f5f\", \"arrowhead\": 0, \"arrowwidth\": 1}, \"autotypenumbers\": \"strict\", \"coloraxis\": {\"colorbar\": {\"outlinewidth\": 0, \"ticks\": \"\"}}, \"colorscale\": {\"diverging\": [[0, \"#8e0152\"], [0.1, \"#c51b7d\"], [0.2, \"#de77ae\"], [0.3, \"#f1b6da\"], [0.4, \"#fde0ef\"], [0.5, \"#f7f7f7\"], [0.6, \"#e6f5d0\"], [0.7, \"#b8e186\"], [0.8, \"#7fbc41\"], [0.9, \"#4d9221\"], [1, \"#276419\"]], \"sequential\": [[0.0, \"#0d0887\"], [0.1111111111111111, \"#46039f\"], [0.2222222222222222, \"#7201a8\"], [0.3333333333333333, \"#9c179e\"], [0.4444444444444444, \"#bd3786\"], [0.5555555555555556, \"#d8576b\"], [0.6666666666666666, \"#ed7953\"], [0.7777777777777778, \"#fb9f3a\"], [0.8888888888888888, \"#fdca26\"], [1.0, \"#f0f921\"]], \"sequentialminus\": [[0.0, \"#0d0887\"], [0.1111111111111111, \"#46039f\"], [0.2222222222222222, \"#7201a8\"], [0.3333333333333333, \"#9c179e\"], [0.4444444444444444, \"#bd3786\"], [0.5555555555555556, \"#d8576b\"], [0.6666666666666666, \"#ed7953\"], [0.7777777777777778, \"#fb9f3a\"], [0.8888888888888888, \"#fdca26\"], [1.0, \"#f0f921\"]]}, \"colorway\": [\"#636efa\", \"#EF553B\", \"#00cc96\", \"#ab63fa\", \"#FFA15A\", \"#19d3f3\", \"#FF6692\", \"#B6E880\", \"#FF97FF\", \"#FECB52\"], \"font\": {\"color\": \"#2a3f5f\"}, \"geo\": {\"bgcolor\": \"white\", \"lakecolor\": \"white\", \"landcolor\": \"#E5ECF6\", \"showlakes\": true, \"showland\": true, \"subunitcolor\": \"white\"}, \"hoverlabel\": {\"align\": \"left\"}, \"hovermode\": \"closest\", \"mapbox\": {\"style\": \"light\"}, \"paper_bgcolor\": \"white\", \"plot_bgcolor\": \"#E5ECF6\", \"polar\": {\"angularaxis\": {\"gridcolor\": \"white\", \"linecolor\": \"white\", \"ticks\": \"\"}, \"bgcolor\": \"#E5ECF6\", \"radialaxis\": {\"gridcolor\": \"white\", \"linecolor\": \"white\", \"ticks\": \"\"}}, \"scene\": {\"xaxis\": {\"backgroundcolor\": \"#E5ECF6\", \"gridcolor\": \"white\", \"gridwidth\": 2, \"linecolor\": \"white\", \"showbackground\": true, \"ticks\": \"\", \"zerolinecolor\": \"white\"}, \"yaxis\": {\"backgroundcolor\": \"#E5ECF6\", \"gridcolor\": \"white\", \"gridwidth\": 2, \"linecolor\": \"white\", \"showbackground\": true, \"ticks\": \"\", \"zerolinecolor\": \"white\"}, \"zaxis\": {\"backgroundcolor\": \"#E5ECF6\", \"gridcolor\": \"white\", \"gridwidth\": 2, \"linecolor\": \"white\", \"showbackground\": true, \"ticks\": \"\", \"zerolinecolor\": \"white\"}}, \"shapedefaults\": {\"line\": {\"color\": \"#2a3f5f\"}}, \"ternary\": {\"aaxis\": {\"gridcolor\": \"white\", \"linecolor\": \"white\", \"ticks\": \"\"}, \"baxis\": {\"gridcolor\": \"white\", \"linecolor\": \"white\", \"ticks\": \"\"}, \"bgcolor\": \"#E5ECF6\", \"caxis\": {\"gridcolor\": \"white\", \"linecolor\": \"white\", \"ticks\": \"\"}}, \"title\": {\"x\": 0.05}, \"xaxis\": {\"automargin\": true, \"gridcolor\": \"white\", \"linecolor\": \"white\", \"ticks\": \"\", \"title\": {\"standoff\": 15}, \"zerolinecolor\": \"white\", \"zerolinewidth\": 2}, \"yaxis\": {\"automargin\": true, \"gridcolor\": \"white\", \"linecolor\": \"white\", \"ticks\": \"\", \"title\": {\"standoff\": 15}, \"zerolinecolor\": \"white\", \"zerolinewidth\": 2}}}, \"xaxis\": {\"anchor\": \"y\", \"domain\": [0.0, 1.0], \"title\": {\"text\": \"Date (DD/MM/YYYY)\"}}, \"yaxis\": {\"anchor\": \"x\", \"domain\": [0.0, 1.0], \"title\": {\"text\": \"value\"}}},                        {\"responsive\": true}                    ).then(function(){\n",
       "                            \n",
       "var gd = document.getElementById('88ae43fd-5a5e-423e-a244-0ce544ee8f4e');\n",
       "var x = new MutationObserver(function (mutations, observer) {{\n",
       "        var display = window.getComputedStyle(gd).display;\n",
       "        if (!display || display === 'none') {{\n",
       "            console.log([gd, 'removed!']);\n",
       "            Plotly.purge(gd);\n",
       "            observer.disconnect();\n",
       "        }}\n",
       "}});\n",
       "\n",
       "// Listen for the removal of the full notebook cells\n",
       "var notebookContainer = gd.closest('#notebook-container');\n",
       "if (notebookContainer) {{\n",
       "    x.observe(notebookContainer, {childList: true});\n",
       "}}\n",
       "\n",
       "// Listen for the clearing of the current output cell\n",
       "var outputEl = gd.closest('.output');\n",
       "if (outputEl) {{\n",
       "    x.observe(outputEl, {childList: true});\n",
       "}}\n",
       "\n",
       "                        })                };                });            </script>        </div>"
      ]
     },
     "metadata": {},
     "output_type": "display_data"
    }
   ],
   "source": [
    "def overlay_plotting():\n",
    "    global file_name\n",
    " \n",
    "    df = pd.read_csv(file_name)\n",
    "    \n",
    "    broker_df = df[df['Broker'] != 'Total']\n",
    "    \n",
    "    fig = px.scatter(broker_df, x=\"Date (DD/MM/YYYY)\", y=['Sell Price','Buy Price'], color=\"Broker\", hover_data=['Date (DD/MM/YYYY)'])\n",
    "    \n",
    "    fig.show()\n",
    "    \n",
    "overlay_plotting()"
   ]
  },
  {
   "cell_type": "code",
   "execution_count": 27,
   "metadata": {},
   "outputs": [],
   "source": [
    "# if __name__==\"__main__\":\n",
    "#     main()"
   ]
  },
  {
   "cell_type": "code",
   "execution_count": null,
   "metadata": {},
   "outputs": [],
   "source": [
    "from openpyxl import Workbook\n",
    "from openpyxl.drawing.image import Image\n",
    "\n",
    "def graph1_plotting():\n",
    "    global graph1_df\n",
    "    fig = go.Figure(data=[go.Candlestick(x=graph1_df['Date (DD/MM/YYYY)'], open=graph1_df['Sell Price'], high=graph1_df['Sell Price'], low=graph1_df['Buy Price'], close=graph1_df['Buy Price'])])\n",
    "    fig.show()\n",
    "    \n",
    "    fig.write_image(\"fig.png\")\n",
    "#     wb = Workbook()\n",
    "#     sheet1 = wb.create_sheet('sheet1',0)\n",
    "#     active = wb['sheet1']\n",
    "#     active.add_image(Image('fig.png'),'E1')\n",
    "\n",
    "#     wb.save('total.xlsx')\n",
    "    \n",
    "graph1_plotting()"
   ]
  },
  {
   "cell_type": "code",
   "execution_count": 43,
   "metadata": {},
   "outputs": [],
   "source": [
    "graph1_df = pd.read_csv(file_name)\n",
    "df = graph1_df[graph1_df['Broker'] != 'Total']"
   ]
  },
  {
   "cell_type": "code",
   "execution_count": 33,
   "metadata": {},
   "outputs": [
    {
     "data": {
      "text/html": [
       "<div>\n",
       "<style scoped>\n",
       "    .dataframe tbody tr th:only-of-type {\n",
       "        vertical-align: middle;\n",
       "    }\n",
       "\n",
       "    .dataframe tbody tr th {\n",
       "        vertical-align: top;\n",
       "    }\n",
       "\n",
       "    .dataframe thead th {\n",
       "        text-align: right;\n",
       "    }\n",
       "</style>\n",
       "<table border=\"1\" class=\"dataframe\">\n",
       "  <thead>\n",
       "    <tr style=\"text-align: right;\">\n",
       "      <th></th>\n",
       "      <th>Date (DD/MM/YYYY)</th>\n",
       "      <th>Broker</th>\n",
       "      <th>Buy Value ($)</th>\n",
       "      <th>Sell Value ($)</th>\n",
       "      <th>Net Value ($)</th>\n",
       "      <th>Total Value ($)</th>\n",
       "      <th>Buy Volume</th>\n",
       "      <th>Sell Volume</th>\n",
       "      <th>Net Volume</th>\n",
       "      <th>Total Volume</th>\n",
       "      <th>Buy Trade Count</th>\n",
       "      <th>Sell Trade Count</th>\n",
       "      <th>Total Trade Count</th>\n",
       "      <th>Buy Price</th>\n",
       "      <th>Sell Price</th>\n",
       "      <th>Rank</th>\n",
       "    </tr>\n",
       "  </thead>\n",
       "  <tbody>\n",
       "    <tr>\n",
       "      <th>0</th>\n",
       "      <td>1/6/2021</td>\n",
       "      <td>CMC Mkts</td>\n",
       "      <td>0.000</td>\n",
       "      <td>4200.000</td>\n",
       "      <td>-4.200000e+03</td>\n",
       "      <td>4200.000</td>\n",
       "      <td>0</td>\n",
       "      <td>350000</td>\n",
       "      <td>-350000</td>\n",
       "      <td>350000</td>\n",
       "      <td>0</td>\n",
       "      <td>1</td>\n",
       "      <td>1</td>\n",
       "      <td>0.000000</td>\n",
       "      <td>1.200000</td>\n",
       "      <td>43.17</td>\n",
       "    </tr>\n",
       "    <tr>\n",
       "      <th>1</th>\n",
       "      <td>1/6/2021</td>\n",
       "      <td>Commonwealth</td>\n",
       "      <td>4809.631</td>\n",
       "      <td>0.000</td>\n",
       "      <td>4.809631e+03</td>\n",
       "      <td>4809.631</td>\n",
       "      <td>405421</td>\n",
       "      <td>0</td>\n",
       "      <td>405421</td>\n",
       "      <td>405421</td>\n",
       "      <td>18</td>\n",
       "      <td>0</td>\n",
       "      <td>18</td>\n",
       "      <td>1.186330</td>\n",
       "      <td>0.000000</td>\n",
       "      <td>50.00</td>\n",
       "    </tr>\n",
       "    <tr>\n",
       "      <th>2</th>\n",
       "      <td>1/6/2021</td>\n",
       "      <td>Macquarie Insto</td>\n",
       "      <td>0.000</td>\n",
       "      <td>609.631</td>\n",
       "      <td>-6.096310e+02</td>\n",
       "      <td>609.631</td>\n",
       "      <td>0</td>\n",
       "      <td>55421</td>\n",
       "      <td>-55421</td>\n",
       "      <td>55421</td>\n",
       "      <td>0</td>\n",
       "      <td>17</td>\n",
       "      <td>17</td>\n",
       "      <td>0.000000</td>\n",
       "      <td>1.100000</td>\n",
       "      <td>6.83</td>\n",
       "    </tr>\n",
       "    <tr>\n",
       "      <th>3</th>\n",
       "      <td>1/6/2021</td>\n",
       "      <td>Total</td>\n",
       "      <td>4809.631</td>\n",
       "      <td>4809.631</td>\n",
       "      <td>0.000000e+00</td>\n",
       "      <td>9619.262</td>\n",
       "      <td>405421</td>\n",
       "      <td>405421</td>\n",
       "      <td>0</td>\n",
       "      <td>810842</td>\n",
       "      <td>18</td>\n",
       "      <td>18</td>\n",
       "      <td>36</td>\n",
       "      <td>1.186330</td>\n",
       "      <td>1.186330</td>\n",
       "      <td>100.00</td>\n",
       "    </tr>\n",
       "    <tr>\n",
       "      <th>4</th>\n",
       "      <td>2/6/2021</td>\n",
       "      <td>AIEX</td>\n",
       "      <td>48000.000</td>\n",
       "      <td>5170.000</td>\n",
       "      <td>4.283000e+04</td>\n",
       "      <td>53170.000</td>\n",
       "      <td>4000000</td>\n",
       "      <td>410000</td>\n",
       "      <td>3590000</td>\n",
       "      <td>4410000</td>\n",
       "      <td>9</td>\n",
       "      <td>2</td>\n",
       "      <td>11</td>\n",
       "      <td>1.200000</td>\n",
       "      <td>1.260976</td>\n",
       "      <td>12.28</td>\n",
       "    </tr>\n",
       "    <tr>\n",
       "      <th>...</th>\n",
       "      <td>...</td>\n",
       "      <td>...</td>\n",
       "      <td>...</td>\n",
       "      <td>...</td>\n",
       "      <td>...</td>\n",
       "      <td>...</td>\n",
       "      <td>...</td>\n",
       "      <td>...</td>\n",
       "      <td>...</td>\n",
       "      <td>...</td>\n",
       "      <td>...</td>\n",
       "      <td>...</td>\n",
       "      <td>...</td>\n",
       "      <td>...</td>\n",
       "      <td>...</td>\n",
       "      <td>...</td>\n",
       "    </tr>\n",
       "    <tr>\n",
       "      <th>161</th>\n",
       "      <td>28/06/2021</td>\n",
       "      <td>Total</td>\n",
       "      <td>40630.400</td>\n",
       "      <td>40630.400</td>\n",
       "      <td>0.000000e+00</td>\n",
       "      <td>81260.800</td>\n",
       "      <td>36689</td>\n",
       "      <td>36689</td>\n",
       "      <td>0</td>\n",
       "      <td>73378</td>\n",
       "      <td>14</td>\n",
       "      <td>14</td>\n",
       "      <td>28</td>\n",
       "      <td>110.742729</td>\n",
       "      <td>110.742729</td>\n",
       "      <td>100.00</td>\n",
       "    </tr>\n",
       "    <tr>\n",
       "      <th>162</th>\n",
       "      <td>29/06/2021</td>\n",
       "      <td>Unassigned Transactions</td>\n",
       "      <td>29232.455</td>\n",
       "      <td>29232.455</td>\n",
       "      <td>-3.637980e-12</td>\n",
       "      <td>58464.910</td>\n",
       "      <td>25105</td>\n",
       "      <td>25105</td>\n",
       "      <td>0</td>\n",
       "      <td>50210</td>\n",
       "      <td>33</td>\n",
       "      <td>33</td>\n",
       "      <td>66</td>\n",
       "      <td>116.440769</td>\n",
       "      <td>116.440769</td>\n",
       "      <td>100.00</td>\n",
       "    </tr>\n",
       "    <tr>\n",
       "      <th>163</th>\n",
       "      <td>29/06/2021</td>\n",
       "      <td>Total</td>\n",
       "      <td>29232.455</td>\n",
       "      <td>29232.455</td>\n",
       "      <td>0.000000e+00</td>\n",
       "      <td>58464.910</td>\n",
       "      <td>25105</td>\n",
       "      <td>25105</td>\n",
       "      <td>0</td>\n",
       "      <td>50210</td>\n",
       "      <td>33</td>\n",
       "      <td>33</td>\n",
       "      <td>66</td>\n",
       "      <td>116.440769</td>\n",
       "      <td>116.440769</td>\n",
       "      <td>100.00</td>\n",
       "    </tr>\n",
       "    <tr>\n",
       "      <th>164</th>\n",
       "      <td>30/06/2021</td>\n",
       "      <td>Unassigned Transactions</td>\n",
       "      <td>52483.255</td>\n",
       "      <td>52483.255</td>\n",
       "      <td>-7.275960e-12</td>\n",
       "      <td>104966.510</td>\n",
       "      <td>43309</td>\n",
       "      <td>43309</td>\n",
       "      <td>0</td>\n",
       "      <td>86618</td>\n",
       "      <td>34</td>\n",
       "      <td>34</td>\n",
       "      <td>68</td>\n",
       "      <td>121.183253</td>\n",
       "      <td>121.183253</td>\n",
       "      <td>100.00</td>\n",
       "    </tr>\n",
       "    <tr>\n",
       "      <th>165</th>\n",
       "      <td>30/06/2021</td>\n",
       "      <td>Total</td>\n",
       "      <td>52483.255</td>\n",
       "      <td>52483.255</td>\n",
       "      <td>0.000000e+00</td>\n",
       "      <td>104966.510</td>\n",
       "      <td>43309</td>\n",
       "      <td>43309</td>\n",
       "      <td>0</td>\n",
       "      <td>86618</td>\n",
       "      <td>34</td>\n",
       "      <td>34</td>\n",
       "      <td>68</td>\n",
       "      <td>121.183253</td>\n",
       "      <td>121.183253</td>\n",
       "      <td>100.00</td>\n",
       "    </tr>\n",
       "  </tbody>\n",
       "</table>\n",
       "<p>166 rows × 16 columns</p>\n",
       "</div>"
      ],
      "text/plain": [
       "    Date (DD/MM/YYYY)                   Broker  Buy Value ($)  Sell Value ($)  \\\n",
       "0            1/6/2021                 CMC Mkts          0.000        4200.000   \n",
       "1            1/6/2021             Commonwealth       4809.631           0.000   \n",
       "2            1/6/2021          Macquarie Insto          0.000         609.631   \n",
       "3            1/6/2021                    Total       4809.631        4809.631   \n",
       "4            2/6/2021                     AIEX      48000.000        5170.000   \n",
       "..                ...                      ...            ...             ...   \n",
       "161        28/06/2021                    Total      40630.400       40630.400   \n",
       "162        29/06/2021  Unassigned Transactions      29232.455       29232.455   \n",
       "163        29/06/2021                    Total      29232.455       29232.455   \n",
       "164        30/06/2021  Unassigned Transactions      52483.255       52483.255   \n",
       "165        30/06/2021                    Total      52483.255       52483.255   \n",
       "\n",
       "     Net Value ($)  Total Value ($)  Buy Volume  Sell Volume  Net Volume  \\\n",
       "0    -4.200000e+03         4200.000           0       350000     -350000   \n",
       "1     4.809631e+03         4809.631      405421            0      405421   \n",
       "2    -6.096310e+02          609.631           0        55421      -55421   \n",
       "3     0.000000e+00         9619.262      405421       405421           0   \n",
       "4     4.283000e+04        53170.000     4000000       410000     3590000   \n",
       "..             ...              ...         ...          ...         ...   \n",
       "161   0.000000e+00        81260.800       36689        36689           0   \n",
       "162  -3.637980e-12        58464.910       25105        25105           0   \n",
       "163   0.000000e+00        58464.910       25105        25105           0   \n",
       "164  -7.275960e-12       104966.510       43309        43309           0   \n",
       "165   0.000000e+00       104966.510       43309        43309           0   \n",
       "\n",
       "     Total Volume  Buy Trade Count  Sell Trade Count  Total Trade Count  \\\n",
       "0          350000                0                 1                  1   \n",
       "1          405421               18                 0                 18   \n",
       "2           55421                0                17                 17   \n",
       "3          810842               18                18                 36   \n",
       "4         4410000                9                 2                 11   \n",
       "..            ...              ...               ...                ...   \n",
       "161         73378               14                14                 28   \n",
       "162         50210               33                33                 66   \n",
       "163         50210               33                33                 66   \n",
       "164         86618               34                34                 68   \n",
       "165         86618               34                34                 68   \n",
       "\n",
       "      Buy Price  Sell Price    Rank  \n",
       "0      0.000000    1.200000   43.17  \n",
       "1      1.186330    0.000000   50.00  \n",
       "2      0.000000    1.100000    6.83  \n",
       "3      1.186330    1.186330  100.00  \n",
       "4      1.200000    1.260976   12.28  \n",
       "..          ...         ...     ...  \n",
       "161  110.742729  110.742729  100.00  \n",
       "162  116.440769  116.440769  100.00  \n",
       "163  116.440769  116.440769  100.00  \n",
       "164  121.183253  121.183253  100.00  \n",
       "165  121.183253  121.183253  100.00  \n",
       "\n",
       "[166 rows x 16 columns]"
      ]
     },
     "execution_count": 33,
     "metadata": {},
     "output_type": "execute_result"
    }
   ],
   "source": []
  },
  {
   "cell_type": "code",
   "execution_count": 74,
   "metadata": {},
   "outputs": [],
   "source": [
    "lob = df['Broker'].unique().tolist()\n",
    "df1 = df[df['Broker'] == lob[0]]\n",
    "df2 = df[df['Broker'] == lob[1]]\n",
    "df3 = df[df['Broker'] == lob[2]]\n",
    "df4 = df[df['Broker'] == lob[3]]\n",
    "df5 = df[df['Broker'] == lob[4]]"
   ]
  },
  {
   "cell_type": "code",
   "execution_count": 80,
   "metadata": {},
   "outputs": [
    {
     "data": {
      "application/vnd.plotly.v1+json": {
       "config": {
        "plotlyServerURL": "https://plot.ly"
       },
       "data": [
        {
         "close": [
          0,
          0,
          1.3,
          1.2
         ],
         "high": [
          1.2,
          1.3,
          0,
          1.3
         ],
         "low": [
          0,
          0,
          1.3,
          1.2
         ],
         "name": "CMC Mkts",
         "open": [
          1.2,
          1.3,
          0,
          1.3
         ],
         "type": "candlestick",
         "x": [
          "1/6/2021",
          "2/6/2021",
          "15/06/2021",
          "17/06/2021"
         ],
         "xaxis": "x",
         "yaxis": "y"
        },
        {
         "close": [
          1.186330013,
          1.2873448159999998,
          1.3,
          1.3,
          0,
          1.3,
          1.2,
          1.3,
          0,
          1.3,
          1.2,
          1.3,
          111,
          110.38053959999999,
          107.9496472,
          107.17529820000001,
          109.9038101,
          110.12690359999999,
          113.0001101
         ],
         "high": [
          0,
          1.320954965,
          0,
          1.3,
          1.3,
          1.298263544,
          1.280963817,
          1.3,
          1.3,
          1.300006567,
          0,
          0,
          113.9012479,
          108.3928125,
          107.7329077,
          107.05931399999999,
          113.04599499999999,
          0,
          111.14438600000001
         ],
         "low": [
          1.186330013,
          1.2873448159999998,
          1.3,
          1.3,
          0,
          1.3,
          1.2,
          1.3,
          0,
          1.3,
          1.2,
          1.3,
          111,
          110.38053959999999,
          107.9496472,
          107.17529820000001,
          109.9038101,
          110.12690359999999,
          113.0001101
         ],
         "name": "Commonwealth",
         "open": [
          0,
          1.320954965,
          0,
          1.3,
          1.3,
          1.298263544,
          1.280963817,
          1.3,
          1.3,
          1.300006567,
          0,
          0,
          113.9012479,
          108.3928125,
          107.7329077,
          107.05931399999999,
          113.04599499999999,
          0,
          111.14438600000001
         ],
         "type": "candlestick",
         "x": [
          "1/6/2021",
          "2/6/2021",
          "3/6/2021",
          "4/6/2021",
          "7/6/2021",
          "8/6/2021",
          "9/6/2021",
          "10/6/2021",
          "11/6/2021",
          "15/06/2021",
          "16/06/2021",
          "17/06/2021",
          "18/06/2021",
          "21/06/2021",
          "22/06/2021",
          "23/06/2021",
          "24/06/2021",
          "25/06/2021",
          "28/06/2021"
         ],
         "xaxis": "x",
         "yaxis": "y"
        },
        {
         "close": [
          0,
          0
         ],
         "high": [
          1.1,
          115
         ],
         "low": [
          0,
          0
         ],
         "name": "Macquarie Insto",
         "open": [
          1.1,
          115
         ],
         "type": "candlestick",
         "x": [
          "1/6/2021",
          "18/06/2021"
         ],
         "xaxis": "x",
         "yaxis": "y"
        },
        {
         "close": [
          1.2,
          0,
          0,
          1.2,
          115,
          107.5,
          107.29919679999999,
          107,
          110,
          110
         ],
         "high": [
          1.26097561,
          1.3,
          1.3,
          0,
          111,
          106.5,
          107.5,
          0,
          109,
          0
         ],
         "low": [
          1.2,
          0,
          0,
          1.2,
          115,
          107.5,
          107.29919679999999,
          107,
          110,
          110
         ],
         "name": "AIEX",
         "open": [
          1.26097561,
          1.3,
          1.3,
          0,
          111,
          106.5,
          107.5,
          0,
          109,
          0
         ],
         "type": "candlestick",
         "x": [
          "2/6/2021",
          "3/6/2021",
          "11/6/2021",
          "16/06/2021",
          "18/06/2021",
          "21/06/2021",
          "22/06/2021",
          "23/06/2021",
          "24/06/2021",
          "25/06/2021"
         ],
         "xaxis": "x",
         "yaxis": "y"
        },
        {
         "close": [
          1.284414427,
          1.3,
          1.3,
          0,
          0,
          0,
          0,
          1.3
         ],
         "high": [
          1.320984985,
          0,
          0,
          1.3,
          1.3,
          1.3,
          1.3,
          1.3
         ],
         "low": [
          1.284414427,
          1.3,
          1.3,
          0,
          0,
          0,
          0,
          1.3
         ],
         "name": "Barclays Investment Bank",
         "open": [
          1.320984985,
          0,
          0,
          1.3,
          1.3,
          1.3,
          1.3,
          1.3
         ],
         "type": "candlestick",
         "x": [
          "2/6/2021",
          "3/6/2021",
          "4/6/2021",
          "7/6/2021",
          "8/6/2021",
          "9/6/2021",
          "10/6/2021",
          "15/06/2021"
         ],
         "xaxis": "x",
         "yaxis": "y"
        }
       ],
       "layout": {
        "annotations": [
         {
          "font": {
           "size": 16
          },
          "showarrow": false,
          "text": "High-Low",
          "x": 0.5,
          "xanchor": "center",
          "xref": "paper",
          "y": 1,
          "yanchor": "bottom",
          "yref": "paper"
         }
        ],
        "template": {
         "data": {
          "bar": [
           {
            "error_x": {
             "color": "#2a3f5f"
            },
            "error_y": {
             "color": "#2a3f5f"
            },
            "marker": {
             "line": {
              "color": "#E5ECF6",
              "width": 0.5
             }
            },
            "type": "bar"
           }
          ],
          "barpolar": [
           {
            "marker": {
             "line": {
              "color": "#E5ECF6",
              "width": 0.5
             }
            },
            "type": "barpolar"
           }
          ],
          "carpet": [
           {
            "aaxis": {
             "endlinecolor": "#2a3f5f",
             "gridcolor": "white",
             "linecolor": "white",
             "minorgridcolor": "white",
             "startlinecolor": "#2a3f5f"
            },
            "baxis": {
             "endlinecolor": "#2a3f5f",
             "gridcolor": "white",
             "linecolor": "white",
             "minorgridcolor": "white",
             "startlinecolor": "#2a3f5f"
            },
            "type": "carpet"
           }
          ],
          "choropleth": [
           {
            "colorbar": {
             "outlinewidth": 0,
             "ticks": ""
            },
            "type": "choropleth"
           }
          ],
          "contour": [
           {
            "colorbar": {
             "outlinewidth": 0,
             "ticks": ""
            },
            "colorscale": [
             [
              0,
              "#0d0887"
             ],
             [
              0.1111111111111111,
              "#46039f"
             ],
             [
              0.2222222222222222,
              "#7201a8"
             ],
             [
              0.3333333333333333,
              "#9c179e"
             ],
             [
              0.4444444444444444,
              "#bd3786"
             ],
             [
              0.5555555555555556,
              "#d8576b"
             ],
             [
              0.6666666666666666,
              "#ed7953"
             ],
             [
              0.7777777777777778,
              "#fb9f3a"
             ],
             [
              0.8888888888888888,
              "#fdca26"
             ],
             [
              1,
              "#f0f921"
             ]
            ],
            "type": "contour"
           }
          ],
          "contourcarpet": [
           {
            "colorbar": {
             "outlinewidth": 0,
             "ticks": ""
            },
            "type": "contourcarpet"
           }
          ],
          "heatmap": [
           {
            "colorbar": {
             "outlinewidth": 0,
             "ticks": ""
            },
            "colorscale": [
             [
              0,
              "#0d0887"
             ],
             [
              0.1111111111111111,
              "#46039f"
             ],
             [
              0.2222222222222222,
              "#7201a8"
             ],
             [
              0.3333333333333333,
              "#9c179e"
             ],
             [
              0.4444444444444444,
              "#bd3786"
             ],
             [
              0.5555555555555556,
              "#d8576b"
             ],
             [
              0.6666666666666666,
              "#ed7953"
             ],
             [
              0.7777777777777778,
              "#fb9f3a"
             ],
             [
              0.8888888888888888,
              "#fdca26"
             ],
             [
              1,
              "#f0f921"
             ]
            ],
            "type": "heatmap"
           }
          ],
          "heatmapgl": [
           {
            "colorbar": {
             "outlinewidth": 0,
             "ticks": ""
            },
            "colorscale": [
             [
              0,
              "#0d0887"
             ],
             [
              0.1111111111111111,
              "#46039f"
             ],
             [
              0.2222222222222222,
              "#7201a8"
             ],
             [
              0.3333333333333333,
              "#9c179e"
             ],
             [
              0.4444444444444444,
              "#bd3786"
             ],
             [
              0.5555555555555556,
              "#d8576b"
             ],
             [
              0.6666666666666666,
              "#ed7953"
             ],
             [
              0.7777777777777778,
              "#fb9f3a"
             ],
             [
              0.8888888888888888,
              "#fdca26"
             ],
             [
              1,
              "#f0f921"
             ]
            ],
            "type": "heatmapgl"
           }
          ],
          "histogram": [
           {
            "marker": {
             "colorbar": {
              "outlinewidth": 0,
              "ticks": ""
             }
            },
            "type": "histogram"
           }
          ],
          "histogram2d": [
           {
            "colorbar": {
             "outlinewidth": 0,
             "ticks": ""
            },
            "colorscale": [
             [
              0,
              "#0d0887"
             ],
             [
              0.1111111111111111,
              "#46039f"
             ],
             [
              0.2222222222222222,
              "#7201a8"
             ],
             [
              0.3333333333333333,
              "#9c179e"
             ],
             [
              0.4444444444444444,
              "#bd3786"
             ],
             [
              0.5555555555555556,
              "#d8576b"
             ],
             [
              0.6666666666666666,
              "#ed7953"
             ],
             [
              0.7777777777777778,
              "#fb9f3a"
             ],
             [
              0.8888888888888888,
              "#fdca26"
             ],
             [
              1,
              "#f0f921"
             ]
            ],
            "type": "histogram2d"
           }
          ],
          "histogram2dcontour": [
           {
            "colorbar": {
             "outlinewidth": 0,
             "ticks": ""
            },
            "colorscale": [
             [
              0,
              "#0d0887"
             ],
             [
              0.1111111111111111,
              "#46039f"
             ],
             [
              0.2222222222222222,
              "#7201a8"
             ],
             [
              0.3333333333333333,
              "#9c179e"
             ],
             [
              0.4444444444444444,
              "#bd3786"
             ],
             [
              0.5555555555555556,
              "#d8576b"
             ],
             [
              0.6666666666666666,
              "#ed7953"
             ],
             [
              0.7777777777777778,
              "#fb9f3a"
             ],
             [
              0.8888888888888888,
              "#fdca26"
             ],
             [
              1,
              "#f0f921"
             ]
            ],
            "type": "histogram2dcontour"
           }
          ],
          "mesh3d": [
           {
            "colorbar": {
             "outlinewidth": 0,
             "ticks": ""
            },
            "type": "mesh3d"
           }
          ],
          "parcoords": [
           {
            "line": {
             "colorbar": {
              "outlinewidth": 0,
              "ticks": ""
             }
            },
            "type": "parcoords"
           }
          ],
          "pie": [
           {
            "automargin": true,
            "type": "pie"
           }
          ],
          "scatter": [
           {
            "marker": {
             "colorbar": {
              "outlinewidth": 0,
              "ticks": ""
             }
            },
            "type": "scatter"
           }
          ],
          "scatter3d": [
           {
            "line": {
             "colorbar": {
              "outlinewidth": 0,
              "ticks": ""
             }
            },
            "marker": {
             "colorbar": {
              "outlinewidth": 0,
              "ticks": ""
             }
            },
            "type": "scatter3d"
           }
          ],
          "scattercarpet": [
           {
            "marker": {
             "colorbar": {
              "outlinewidth": 0,
              "ticks": ""
             }
            },
            "type": "scattercarpet"
           }
          ],
          "scattergeo": [
           {
            "marker": {
             "colorbar": {
              "outlinewidth": 0,
              "ticks": ""
             }
            },
            "type": "scattergeo"
           }
          ],
          "scattergl": [
           {
            "marker": {
             "colorbar": {
              "outlinewidth": 0,
              "ticks": ""
             }
            },
            "type": "scattergl"
           }
          ],
          "scattermapbox": [
           {
            "marker": {
             "colorbar": {
              "outlinewidth": 0,
              "ticks": ""
             }
            },
            "type": "scattermapbox"
           }
          ],
          "scatterpolar": [
           {
            "marker": {
             "colorbar": {
              "outlinewidth": 0,
              "ticks": ""
             }
            },
            "type": "scatterpolar"
           }
          ],
          "scatterpolargl": [
           {
            "marker": {
             "colorbar": {
              "outlinewidth": 0,
              "ticks": ""
             }
            },
            "type": "scatterpolargl"
           }
          ],
          "scatterternary": [
           {
            "marker": {
             "colorbar": {
              "outlinewidth": 0,
              "ticks": ""
             }
            },
            "type": "scatterternary"
           }
          ],
          "surface": [
           {
            "colorbar": {
             "outlinewidth": 0,
             "ticks": ""
            },
            "colorscale": [
             [
              0,
              "#0d0887"
             ],
             [
              0.1111111111111111,
              "#46039f"
             ],
             [
              0.2222222222222222,
              "#7201a8"
             ],
             [
              0.3333333333333333,
              "#9c179e"
             ],
             [
              0.4444444444444444,
              "#bd3786"
             ],
             [
              0.5555555555555556,
              "#d8576b"
             ],
             [
              0.6666666666666666,
              "#ed7953"
             ],
             [
              0.7777777777777778,
              "#fb9f3a"
             ],
             [
              0.8888888888888888,
              "#fdca26"
             ],
             [
              1,
              "#f0f921"
             ]
            ],
            "type": "surface"
           }
          ],
          "table": [
           {
            "cells": {
             "fill": {
              "color": "#EBF0F8"
             },
             "line": {
              "color": "white"
             }
            },
            "header": {
             "fill": {
              "color": "#C8D4E3"
             },
             "line": {
              "color": "white"
             }
            },
            "type": "table"
           }
          ]
         },
         "layout": {
          "annotationdefaults": {
           "arrowcolor": "#2a3f5f",
           "arrowhead": 0,
           "arrowwidth": 1
          },
          "autotypenumbers": "strict",
          "coloraxis": {
           "colorbar": {
            "outlinewidth": 0,
            "ticks": ""
           }
          },
          "colorscale": {
           "diverging": [
            [
             0,
             "#8e0152"
            ],
            [
             0.1,
             "#c51b7d"
            ],
            [
             0.2,
             "#de77ae"
            ],
            [
             0.3,
             "#f1b6da"
            ],
            [
             0.4,
             "#fde0ef"
            ],
            [
             0.5,
             "#f7f7f7"
            ],
            [
             0.6,
             "#e6f5d0"
            ],
            [
             0.7,
             "#b8e186"
            ],
            [
             0.8,
             "#7fbc41"
            ],
            [
             0.9,
             "#4d9221"
            ],
            [
             1,
             "#276419"
            ]
           ],
           "sequential": [
            [
             0,
             "#0d0887"
            ],
            [
             0.1111111111111111,
             "#46039f"
            ],
            [
             0.2222222222222222,
             "#7201a8"
            ],
            [
             0.3333333333333333,
             "#9c179e"
            ],
            [
             0.4444444444444444,
             "#bd3786"
            ],
            [
             0.5555555555555556,
             "#d8576b"
            ],
            [
             0.6666666666666666,
             "#ed7953"
            ],
            [
             0.7777777777777778,
             "#fb9f3a"
            ],
            [
             0.8888888888888888,
             "#fdca26"
            ],
            [
             1,
             "#f0f921"
            ]
           ],
           "sequentialminus": [
            [
             0,
             "#0d0887"
            ],
            [
             0.1111111111111111,
             "#46039f"
            ],
            [
             0.2222222222222222,
             "#7201a8"
            ],
            [
             0.3333333333333333,
             "#9c179e"
            ],
            [
             0.4444444444444444,
             "#bd3786"
            ],
            [
             0.5555555555555556,
             "#d8576b"
            ],
            [
             0.6666666666666666,
             "#ed7953"
            ],
            [
             0.7777777777777778,
             "#fb9f3a"
            ],
            [
             0.8888888888888888,
             "#fdca26"
            ],
            [
             1,
             "#f0f921"
            ]
           ]
          },
          "colorway": [
           "#636efa",
           "#EF553B",
           "#00cc96",
           "#ab63fa",
           "#FFA15A",
           "#19d3f3",
           "#FF6692",
           "#B6E880",
           "#FF97FF",
           "#FECB52"
          ],
          "font": {
           "color": "#2a3f5f"
          },
          "geo": {
           "bgcolor": "white",
           "lakecolor": "white",
           "landcolor": "#E5ECF6",
           "showlakes": true,
           "showland": true,
           "subunitcolor": "white"
          },
          "hoverlabel": {
           "align": "left"
          },
          "hovermode": "closest",
          "mapbox": {
           "style": "light"
          },
          "paper_bgcolor": "white",
          "plot_bgcolor": "#E5ECF6",
          "polar": {
           "angularaxis": {
            "gridcolor": "white",
            "linecolor": "white",
            "ticks": ""
           },
           "bgcolor": "#E5ECF6",
           "radialaxis": {
            "gridcolor": "white",
            "linecolor": "white",
            "ticks": ""
           }
          },
          "scene": {
           "xaxis": {
            "backgroundcolor": "#E5ECF6",
            "gridcolor": "white",
            "gridwidth": 2,
            "linecolor": "white",
            "showbackground": true,
            "ticks": "",
            "zerolinecolor": "white"
           },
           "yaxis": {
            "backgroundcolor": "#E5ECF6",
            "gridcolor": "white",
            "gridwidth": 2,
            "linecolor": "white",
            "showbackground": true,
            "ticks": "",
            "zerolinecolor": "white"
           },
           "zaxis": {
            "backgroundcolor": "#E5ECF6",
            "gridcolor": "white",
            "gridwidth": 2,
            "linecolor": "white",
            "showbackground": true,
            "ticks": "",
            "zerolinecolor": "white"
           }
          },
          "shapedefaults": {
           "line": {
            "color": "#2a3f5f"
           }
          },
          "ternary": {
           "aaxis": {
            "gridcolor": "white",
            "linecolor": "white",
            "ticks": ""
           },
           "baxis": {
            "gridcolor": "white",
            "linecolor": "white",
            "ticks": ""
           },
           "bgcolor": "#E5ECF6",
           "caxis": {
            "gridcolor": "white",
            "linecolor": "white",
            "ticks": ""
           }
          },
          "title": {
           "x": 0.05
          },
          "xaxis": {
           "automargin": true,
           "gridcolor": "white",
           "linecolor": "white",
           "ticks": "",
           "title": {
            "standoff": 15
           },
           "zerolinecolor": "white",
           "zerolinewidth": 2
          },
          "yaxis": {
           "automargin": true,
           "gridcolor": "white",
           "linecolor": "white",
           "ticks": "",
           "title": {
            "standoff": 15
           },
           "zerolinecolor": "white",
           "zerolinewidth": 2
          }
         }
        },
        "xaxis": {
         "anchor": "y",
         "domain": [
          0,
          1
         ],
         "rangeslider": {
          "visible": false
         }
        },
        "xaxis2": {
         "anchor": "y2",
         "domain": [
          0,
          1
         ]
        },
        "yaxis": {
         "anchor": "x",
         "domain": [
          0.24555555555555558,
          1
         ]
        },
        "yaxis2": {
         "anchor": "x2",
         "domain": [
          0,
          0.21555555555555558
         ]
        }
       }
      },
      "text/html": [
       "<div>                            <div id=\"fe774644-9ee6-4999-968f-e1f646251d23\" class=\"plotly-graph-div\" style=\"height:525px; width:100%;\"></div>            <script type=\"text/javascript\">                require([\"plotly\"], function(Plotly) {                    window.PLOTLYENV=window.PLOTLYENV || {};                                    if (document.getElementById(\"fe774644-9ee6-4999-968f-e1f646251d23\")) {                    Plotly.newPlot(                        \"fe774644-9ee6-4999-968f-e1f646251d23\",                        [{\"close\": [0.0, 0.0, 1.3, 1.2], \"high\": [1.2, 1.3, 0.0, 1.3], \"low\": [0.0, 0.0, 1.3, 1.2], \"name\": \"CMC Mkts\", \"open\": [1.2, 1.3, 0.0, 1.3], \"type\": \"candlestick\", \"x\": [\"1/6/2021\", \"2/6/2021\", \"15/06/2021\", \"17/06/2021\"], \"xaxis\": \"x\", \"yaxis\": \"y\"}, {\"close\": [1.186330013, 1.2873448159999998, 1.3, 1.3, 0.0, 1.3, 1.2, 1.3, 0.0, 1.3, 1.2, 1.3, 111.0, 110.38053959999999, 107.9496472, 107.17529820000001, 109.9038101, 110.12690359999999, 113.0001101], \"high\": [0.0, 1.320954965, 0.0, 1.3, 1.3, 1.298263544, 1.280963817, 1.3, 1.3, 1.300006567, 0.0, 0.0, 113.9012479, 108.3928125, 107.7329077, 107.05931399999999, 113.04599499999999, 0.0, 111.14438600000001], \"low\": [1.186330013, 1.2873448159999998, 1.3, 1.3, 0.0, 1.3, 1.2, 1.3, 0.0, 1.3, 1.2, 1.3, 111.0, 110.38053959999999, 107.9496472, 107.17529820000001, 109.9038101, 110.12690359999999, 113.0001101], \"name\": \"Commonwealth\", \"open\": [0.0, 1.320954965, 0.0, 1.3, 1.3, 1.298263544, 1.280963817, 1.3, 1.3, 1.300006567, 0.0, 0.0, 113.9012479, 108.3928125, 107.7329077, 107.05931399999999, 113.04599499999999, 0.0, 111.14438600000001], \"type\": \"candlestick\", \"x\": [\"1/6/2021\", \"2/6/2021\", \"3/6/2021\", \"4/6/2021\", \"7/6/2021\", \"8/6/2021\", \"9/6/2021\", \"10/6/2021\", \"11/6/2021\", \"15/06/2021\", \"16/06/2021\", \"17/06/2021\", \"18/06/2021\", \"21/06/2021\", \"22/06/2021\", \"23/06/2021\", \"24/06/2021\", \"25/06/2021\", \"28/06/2021\"], \"xaxis\": \"x\", \"yaxis\": \"y\"}, {\"close\": [0.0, 0.0], \"high\": [1.1, 115.0], \"low\": [0.0, 0.0], \"name\": \"Macquarie Insto\", \"open\": [1.1, 115.0], \"type\": \"candlestick\", \"x\": [\"1/6/2021\", \"18/06/2021\"], \"xaxis\": \"x\", \"yaxis\": \"y\"}, {\"close\": [1.2, 0.0, 0.0, 1.2, 115.0, 107.5, 107.29919679999999, 107.0, 110.0, 110.0], \"high\": [1.26097561, 1.3, 1.3, 0.0, 111.0, 106.5, 107.5, 0.0, 109.0, 0.0], \"low\": [1.2, 0.0, 0.0, 1.2, 115.0, 107.5, 107.29919679999999, 107.0, 110.0, 110.0], \"name\": \"AIEX\", \"open\": [1.26097561, 1.3, 1.3, 0.0, 111.0, 106.5, 107.5, 0.0, 109.0, 0.0], \"type\": \"candlestick\", \"x\": [\"2/6/2021\", \"3/6/2021\", \"11/6/2021\", \"16/06/2021\", \"18/06/2021\", \"21/06/2021\", \"22/06/2021\", \"23/06/2021\", \"24/06/2021\", \"25/06/2021\"], \"xaxis\": \"x\", \"yaxis\": \"y\"}, {\"close\": [1.284414427, 1.3, 1.3, 0.0, 0.0, 0.0, 0.0, 1.3], \"high\": [1.320984985, 0.0, 0.0, 1.3, 1.3, 1.3, 1.3, 1.3], \"low\": [1.284414427, 1.3, 1.3, 0.0, 0.0, 0.0, 0.0, 1.3], \"name\": \"Barclays Investment Bank\", \"open\": [1.320984985, 0.0, 0.0, 1.3, 1.3, 1.3, 1.3, 1.3], \"type\": \"candlestick\", \"x\": [\"2/6/2021\", \"3/6/2021\", \"4/6/2021\", \"7/6/2021\", \"8/6/2021\", \"9/6/2021\", \"10/6/2021\", \"15/06/2021\"], \"xaxis\": \"x\", \"yaxis\": \"y\"}],                        {\"annotations\": [{\"font\": {\"size\": 16}, \"showarrow\": false, \"text\": \"High-Low\", \"x\": 0.5, \"xanchor\": \"center\", \"xref\": \"paper\", \"y\": 1.0, \"yanchor\": \"bottom\", \"yref\": \"paper\"}], \"template\": {\"data\": {\"bar\": [{\"error_x\": {\"color\": \"#2a3f5f\"}, \"error_y\": {\"color\": \"#2a3f5f\"}, \"marker\": {\"line\": {\"color\": \"#E5ECF6\", \"width\": 0.5}}, \"type\": \"bar\"}], \"barpolar\": [{\"marker\": {\"line\": {\"color\": \"#E5ECF6\", \"width\": 0.5}}, \"type\": \"barpolar\"}], \"carpet\": [{\"aaxis\": {\"endlinecolor\": \"#2a3f5f\", \"gridcolor\": \"white\", \"linecolor\": \"white\", \"minorgridcolor\": \"white\", \"startlinecolor\": \"#2a3f5f\"}, \"baxis\": {\"endlinecolor\": \"#2a3f5f\", \"gridcolor\": \"white\", \"linecolor\": \"white\", \"minorgridcolor\": \"white\", \"startlinecolor\": \"#2a3f5f\"}, \"type\": \"carpet\"}], \"choropleth\": [{\"colorbar\": {\"outlinewidth\": 0, \"ticks\": \"\"}, \"type\": \"choropleth\"}], \"contour\": [{\"colorbar\": {\"outlinewidth\": 0, \"ticks\": \"\"}, \"colorscale\": [[0.0, \"#0d0887\"], [0.1111111111111111, \"#46039f\"], [0.2222222222222222, \"#7201a8\"], [0.3333333333333333, \"#9c179e\"], [0.4444444444444444, \"#bd3786\"], [0.5555555555555556, \"#d8576b\"], [0.6666666666666666, \"#ed7953\"], [0.7777777777777778, \"#fb9f3a\"], [0.8888888888888888, \"#fdca26\"], [1.0, \"#f0f921\"]], \"type\": \"contour\"}], \"contourcarpet\": [{\"colorbar\": {\"outlinewidth\": 0, \"ticks\": \"\"}, \"type\": \"contourcarpet\"}], \"heatmap\": [{\"colorbar\": {\"outlinewidth\": 0, \"ticks\": \"\"}, \"colorscale\": [[0.0, \"#0d0887\"], [0.1111111111111111, \"#46039f\"], [0.2222222222222222, \"#7201a8\"], [0.3333333333333333, \"#9c179e\"], [0.4444444444444444, \"#bd3786\"], [0.5555555555555556, \"#d8576b\"], [0.6666666666666666, \"#ed7953\"], [0.7777777777777778, \"#fb9f3a\"], [0.8888888888888888, \"#fdca26\"], [1.0, \"#f0f921\"]], \"type\": \"heatmap\"}], \"heatmapgl\": [{\"colorbar\": {\"outlinewidth\": 0, \"ticks\": \"\"}, \"colorscale\": [[0.0, \"#0d0887\"], [0.1111111111111111, \"#46039f\"], [0.2222222222222222, \"#7201a8\"], [0.3333333333333333, \"#9c179e\"], [0.4444444444444444, \"#bd3786\"], [0.5555555555555556, \"#d8576b\"], [0.6666666666666666, \"#ed7953\"], [0.7777777777777778, \"#fb9f3a\"], [0.8888888888888888, \"#fdca26\"], [1.0, \"#f0f921\"]], \"type\": \"heatmapgl\"}], \"histogram\": [{\"marker\": {\"colorbar\": {\"outlinewidth\": 0, \"ticks\": \"\"}}, \"type\": \"histogram\"}], \"histogram2d\": [{\"colorbar\": {\"outlinewidth\": 0, \"ticks\": \"\"}, \"colorscale\": [[0.0, \"#0d0887\"], [0.1111111111111111, \"#46039f\"], [0.2222222222222222, \"#7201a8\"], [0.3333333333333333, \"#9c179e\"], [0.4444444444444444, \"#bd3786\"], [0.5555555555555556, \"#d8576b\"], [0.6666666666666666, \"#ed7953\"], [0.7777777777777778, \"#fb9f3a\"], [0.8888888888888888, \"#fdca26\"], [1.0, \"#f0f921\"]], \"type\": \"histogram2d\"}], \"histogram2dcontour\": [{\"colorbar\": {\"outlinewidth\": 0, \"ticks\": \"\"}, \"colorscale\": [[0.0, \"#0d0887\"], [0.1111111111111111, \"#46039f\"], [0.2222222222222222, \"#7201a8\"], [0.3333333333333333, \"#9c179e\"], [0.4444444444444444, \"#bd3786\"], [0.5555555555555556, \"#d8576b\"], [0.6666666666666666, \"#ed7953\"], [0.7777777777777778, \"#fb9f3a\"], [0.8888888888888888, \"#fdca26\"], [1.0, \"#f0f921\"]], \"type\": \"histogram2dcontour\"}], \"mesh3d\": [{\"colorbar\": {\"outlinewidth\": 0, \"ticks\": \"\"}, \"type\": \"mesh3d\"}], \"parcoords\": [{\"line\": {\"colorbar\": {\"outlinewidth\": 0, \"ticks\": \"\"}}, \"type\": \"parcoords\"}], \"pie\": [{\"automargin\": true, \"type\": \"pie\"}], \"scatter\": [{\"marker\": {\"colorbar\": {\"outlinewidth\": 0, \"ticks\": \"\"}}, \"type\": \"scatter\"}], \"scatter3d\": [{\"line\": {\"colorbar\": {\"outlinewidth\": 0, \"ticks\": \"\"}}, \"marker\": {\"colorbar\": {\"outlinewidth\": 0, \"ticks\": \"\"}}, \"type\": \"scatter3d\"}], \"scattercarpet\": [{\"marker\": {\"colorbar\": {\"outlinewidth\": 0, \"ticks\": \"\"}}, \"type\": \"scattercarpet\"}], \"scattergeo\": [{\"marker\": {\"colorbar\": {\"outlinewidth\": 0, \"ticks\": \"\"}}, \"type\": \"scattergeo\"}], \"scattergl\": [{\"marker\": {\"colorbar\": {\"outlinewidth\": 0, \"ticks\": \"\"}}, \"type\": \"scattergl\"}], \"scattermapbox\": [{\"marker\": {\"colorbar\": {\"outlinewidth\": 0, \"ticks\": \"\"}}, \"type\": \"scattermapbox\"}], \"scatterpolar\": [{\"marker\": {\"colorbar\": {\"outlinewidth\": 0, \"ticks\": \"\"}}, \"type\": \"scatterpolar\"}], \"scatterpolargl\": [{\"marker\": {\"colorbar\": {\"outlinewidth\": 0, \"ticks\": \"\"}}, \"type\": \"scatterpolargl\"}], \"scatterternary\": [{\"marker\": {\"colorbar\": {\"outlinewidth\": 0, \"ticks\": \"\"}}, \"type\": \"scatterternary\"}], \"surface\": [{\"colorbar\": {\"outlinewidth\": 0, \"ticks\": \"\"}, \"colorscale\": [[0.0, \"#0d0887\"], [0.1111111111111111, \"#46039f\"], [0.2222222222222222, \"#7201a8\"], [0.3333333333333333, \"#9c179e\"], [0.4444444444444444, \"#bd3786\"], [0.5555555555555556, \"#d8576b\"], [0.6666666666666666, \"#ed7953\"], [0.7777777777777778, \"#fb9f3a\"], [0.8888888888888888, \"#fdca26\"], [1.0, \"#f0f921\"]], \"type\": \"surface\"}], \"table\": [{\"cells\": {\"fill\": {\"color\": \"#EBF0F8\"}, \"line\": {\"color\": \"white\"}}, \"header\": {\"fill\": {\"color\": \"#C8D4E3\"}, \"line\": {\"color\": \"white\"}}, \"type\": \"table\"}]}, \"layout\": {\"annotationdefaults\": {\"arrowcolor\": \"#2a3f5f\", \"arrowhead\": 0, \"arrowwidth\": 1}, \"autotypenumbers\": \"strict\", \"coloraxis\": {\"colorbar\": {\"outlinewidth\": 0, \"ticks\": \"\"}}, \"colorscale\": {\"diverging\": [[0, \"#8e0152\"], [0.1, \"#c51b7d\"], [0.2, \"#de77ae\"], [0.3, \"#f1b6da\"], [0.4, \"#fde0ef\"], [0.5, \"#f7f7f7\"], [0.6, \"#e6f5d0\"], [0.7, \"#b8e186\"], [0.8, \"#7fbc41\"], [0.9, \"#4d9221\"], [1, \"#276419\"]], \"sequential\": [[0.0, \"#0d0887\"], [0.1111111111111111, \"#46039f\"], [0.2222222222222222, \"#7201a8\"], [0.3333333333333333, \"#9c179e\"], [0.4444444444444444, \"#bd3786\"], [0.5555555555555556, \"#d8576b\"], [0.6666666666666666, \"#ed7953\"], [0.7777777777777778, \"#fb9f3a\"], [0.8888888888888888, \"#fdca26\"], [1.0, \"#f0f921\"]], \"sequentialminus\": [[0.0, \"#0d0887\"], [0.1111111111111111, \"#46039f\"], [0.2222222222222222, \"#7201a8\"], [0.3333333333333333, \"#9c179e\"], [0.4444444444444444, \"#bd3786\"], [0.5555555555555556, \"#d8576b\"], [0.6666666666666666, \"#ed7953\"], [0.7777777777777778, \"#fb9f3a\"], [0.8888888888888888, \"#fdca26\"], [1.0, \"#f0f921\"]]}, \"colorway\": [\"#636efa\", \"#EF553B\", \"#00cc96\", \"#ab63fa\", \"#FFA15A\", \"#19d3f3\", \"#FF6692\", \"#B6E880\", \"#FF97FF\", \"#FECB52\"], \"font\": {\"color\": \"#2a3f5f\"}, \"geo\": {\"bgcolor\": \"white\", \"lakecolor\": \"white\", \"landcolor\": \"#E5ECF6\", \"showlakes\": true, \"showland\": true, \"subunitcolor\": \"white\"}, \"hoverlabel\": {\"align\": \"left\"}, \"hovermode\": \"closest\", \"mapbox\": {\"style\": \"light\"}, \"paper_bgcolor\": \"white\", \"plot_bgcolor\": \"#E5ECF6\", \"polar\": {\"angularaxis\": {\"gridcolor\": \"white\", \"linecolor\": \"white\", \"ticks\": \"\"}, \"bgcolor\": \"#E5ECF6\", \"radialaxis\": {\"gridcolor\": \"white\", \"linecolor\": \"white\", \"ticks\": \"\"}}, \"scene\": {\"xaxis\": {\"backgroundcolor\": \"#E5ECF6\", \"gridcolor\": \"white\", \"gridwidth\": 2, \"linecolor\": \"white\", \"showbackground\": true, \"ticks\": \"\", \"zerolinecolor\": \"white\"}, \"yaxis\": {\"backgroundcolor\": \"#E5ECF6\", \"gridcolor\": \"white\", \"gridwidth\": 2, \"linecolor\": \"white\", \"showbackground\": true, \"ticks\": \"\", \"zerolinecolor\": \"white\"}, \"zaxis\": {\"backgroundcolor\": \"#E5ECF6\", \"gridcolor\": \"white\", \"gridwidth\": 2, \"linecolor\": \"white\", \"showbackground\": true, \"ticks\": \"\", \"zerolinecolor\": \"white\"}}, \"shapedefaults\": {\"line\": {\"color\": \"#2a3f5f\"}}, \"ternary\": {\"aaxis\": {\"gridcolor\": \"white\", \"linecolor\": \"white\", \"ticks\": \"\"}, \"baxis\": {\"gridcolor\": \"white\", \"linecolor\": \"white\", \"ticks\": \"\"}, \"bgcolor\": \"#E5ECF6\", \"caxis\": {\"gridcolor\": \"white\", \"linecolor\": \"white\", \"ticks\": \"\"}}, \"title\": {\"x\": 0.05}, \"xaxis\": {\"automargin\": true, \"gridcolor\": \"white\", \"linecolor\": \"white\", \"ticks\": \"\", \"title\": {\"standoff\": 15}, \"zerolinecolor\": \"white\", \"zerolinewidth\": 2}, \"yaxis\": {\"automargin\": true, \"gridcolor\": \"white\", \"linecolor\": \"white\", \"ticks\": \"\", \"title\": {\"standoff\": 15}, \"zerolinecolor\": \"white\", \"zerolinewidth\": 2}}}, \"xaxis\": {\"anchor\": \"y\", \"domain\": [0.0, 1.0], \"rangeslider\": {\"visible\": false}}, \"xaxis2\": {\"anchor\": \"y2\", \"domain\": [0.0, 1.0]}, \"yaxis\": {\"anchor\": \"x\", \"domain\": [0.24555555555555558, 1.0]}, \"yaxis2\": {\"anchor\": \"x2\", \"domain\": [0.0, 0.21555555555555558]}},                        {\"responsive\": true}                    ).then(function(){\n",
       "                            \n",
       "var gd = document.getElementById('fe774644-9ee6-4999-968f-e1f646251d23');\n",
       "var x = new MutationObserver(function (mutations, observer) {{\n",
       "        var display = window.getComputedStyle(gd).display;\n",
       "        if (!display || display === 'none') {{\n",
       "            console.log([gd, 'removed!']);\n",
       "            Plotly.purge(gd);\n",
       "            observer.disconnect();\n",
       "        }}\n",
       "}});\n",
       "\n",
       "// Listen for the removal of the full notebook cells\n",
       "var notebookContainer = gd.closest('#notebook-container');\n",
       "if (notebookContainer) {{\n",
       "    x.observe(notebookContainer, {childList: true});\n",
       "}}\n",
       "\n",
       "// Listen for the clearing of the current output cell\n",
       "var outputEl = gd.closest('.output');\n",
       "if (outputEl) {{\n",
       "    x.observe(outputEl, {childList: true});\n",
       "}}\n",
       "\n",
       "                        })                };                });            </script>        </div>"
      ]
     },
     "metadata": {},
     "output_type": "display_data"
    }
   ],
   "source": [
    "\n",
    "    \n",
    "fig = make_subplots(rows=2, cols=1, shared_xaxes=False, vertical_spacing=0.03, subplot_titles=('High-Low',''), row_width=[0.2, 0.7])\n",
    "\n",
    "fig.add_trace(go.Candlestick(x=df1['Date (DD/MM/YYYY)'], open=df1['Sell Price'], high=df1['Sell Price'], low=df1['Buy Price'], close=df1['Buy Price'], name=lob[0]),row=1, col=1)\n",
    "fig.add_trace(go.Candlestick(x=df2['Date (DD/MM/YYYY)'], open=df2['Sell Price'], high=df2['Sell Price'], low=df2['Buy Price'], close=df2['Buy Price'], name=lob[1]),row=1, col=1)\n",
    "fig.add_trace(go.Candlestick(x=df3['Date (DD/MM/YYYY)'], open=df3['Sell Price'], high=df3['Sell Price'], low=df3['Buy Price'], close=df3['Buy Price'], name=lob[2]),row=1, col=1)\n",
    "fig.add_trace(go.Candlestick(x=df4['Date (DD/MM/YYYY)'], open=df4['Sell Price'], high=df4['Sell Price'], low=df4['Buy Price'], close=df4['Buy Price'], name=lob[3]),row=1, col=1)\n",
    "fig.add_trace(go.Candlestick(x=df5['Date (DD/MM/YYYY)'], open=df5['Sell Price'], high=df5['Sell Price'], low=df5['Buy Price'], close=df5['Buy Price'], name=lob[4]),row=1, col=1)\n",
    "\n",
    "fig.update(layout_xaxis_rangeslider_visible=False)\n",
    "\n",
    "fig.show()"
   ]
  },
  {
   "cell_type": "code",
   "execution_count": 83,
   "metadata": {},
   "outputs": [
    {
     "data": {
      "text/html": [
       "<div>\n",
       "<style scoped>\n",
       "    .dataframe tbody tr th:only-of-type {\n",
       "        vertical-align: middle;\n",
       "    }\n",
       "\n",
       "    .dataframe tbody tr th {\n",
       "        vertical-align: top;\n",
       "    }\n",
       "\n",
       "    .dataframe thead th {\n",
       "        text-align: right;\n",
       "    }\n",
       "</style>\n",
       "<table border=\"1\" class=\"dataframe\">\n",
       "  <thead>\n",
       "    <tr style=\"text-align: right;\">\n",
       "      <th></th>\n",
       "      <th>Date (DD/MM/YYYY)</th>\n",
       "      <th>Broker</th>\n",
       "      <th>Buy Value ($)</th>\n",
       "      <th>Sell Value ($)</th>\n",
       "      <th>Net Value ($)</th>\n",
       "      <th>Total Value ($)</th>\n",
       "      <th>Buy Volume</th>\n",
       "      <th>Sell Volume</th>\n",
       "      <th>Net Volume</th>\n",
       "      <th>Total Volume</th>\n",
       "      <th>Buy Trade Count</th>\n",
       "      <th>Sell Trade Count</th>\n",
       "      <th>Total Trade Count</th>\n",
       "      <th>Buy Price</th>\n",
       "      <th>Sell Price</th>\n",
       "      <th>Rank</th>\n",
       "    </tr>\n",
       "  </thead>\n",
       "  <tbody>\n",
       "    <tr>\n",
       "      <th>2</th>\n",
       "      <td>1/6/2021</td>\n",
       "      <td>Macquarie Insto</td>\n",
       "      <td>0.0</td>\n",
       "      <td>609.631</td>\n",
       "      <td>-609.631</td>\n",
       "      <td>609.631</td>\n",
       "      <td>0</td>\n",
       "      <td>55421</td>\n",
       "      <td>-55421</td>\n",
       "      <td>55421</td>\n",
       "      <td>0</td>\n",
       "      <td>17</td>\n",
       "      <td>17</td>\n",
       "      <td>0.0</td>\n",
       "      <td>1.1</td>\n",
       "      <td>6.83</td>\n",
       "    </tr>\n",
       "    <tr>\n",
       "      <th>112</th>\n",
       "      <td>18/06/2021</td>\n",
       "      <td>Macquarie Insto</td>\n",
       "      <td>0.0</td>\n",
       "      <td>9485.200</td>\n",
       "      <td>-9485.200</td>\n",
       "      <td>9485.200</td>\n",
       "      <td>0</td>\n",
       "      <td>8248</td>\n",
       "      <td>-8248</td>\n",
       "      <td>8248</td>\n",
       "      <td>0</td>\n",
       "      <td>2</td>\n",
       "      <td>2</td>\n",
       "      <td>0.0</td>\n",
       "      <td>115.0</td>\n",
       "      <td>16.97</td>\n",
       "    </tr>\n",
       "  </tbody>\n",
       "</table>\n",
       "</div>"
      ],
      "text/plain": [
       "    Date (DD/MM/YYYY)           Broker  Buy Value ($)  Sell Value ($)  \\\n",
       "2            1/6/2021  Macquarie Insto            0.0         609.631   \n",
       "112        18/06/2021  Macquarie Insto            0.0        9485.200   \n",
       "\n",
       "     Net Value ($)  Total Value ($)  Buy Volume  Sell Volume  Net Volume  \\\n",
       "2         -609.631          609.631           0        55421      -55421   \n",
       "112      -9485.200         9485.200           0         8248       -8248   \n",
       "\n",
       "     Total Volume  Buy Trade Count  Sell Trade Count  Total Trade Count  \\\n",
       "2           55421                0                17                 17   \n",
       "112          8248                0                 2                  2   \n",
       "\n",
       "     Buy Price  Sell Price   Rank  \n",
       "2          0.0         1.1   6.83  \n",
       "112        0.0       115.0  16.97  "
      ]
     },
     "execution_count": 83,
     "metadata": {},
     "output_type": "execute_result"
    }
   ],
   "source": [
    "df3"
   ]
  },
  {
   "cell_type": "code",
   "execution_count": null,
   "metadata": {},
   "outputs": [],
   "source": []
  }
 ],
 "metadata": {
  "kernelspec": {
   "display_name": "Python 3",
   "language": "python",
   "name": "python3"
  },
  "language_info": {
   "codemirror_mode": {
    "name": "ipython",
    "version": 3
   },
   "file_extension": ".py",
   "mimetype": "text/x-python",
   "name": "python",
   "nbconvert_exporter": "python",
   "pygments_lexer": "ipython3",
   "version": "3.8.5"
  }
 },
 "nbformat": 4,
 "nbformat_minor": 4
}
