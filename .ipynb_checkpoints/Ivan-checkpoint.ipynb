{
 "cells": [
  {
   "cell_type": "code",
   "execution_count": 44,
   "metadata": {},
   "outputs": [],
   "source": [
    "import webbrowser\n",
    "from bs4 import BeautifulSoup, NavigableString, Tag\n",
    "from selenium.webdriver.chrome.options import Options\n",
    "from selenium import webdriver\n",
    "import  os\n",
    "import pandas as pd\n",
    "import json\n",
    "import bs4\n",
    "from selenium.webdriver.common.by import By\n",
    "from selenium.webdriver.support.ui import WebDriverWait\n",
    "from selenium.webdriver.support import expected_conditions as EC\n",
    "from urllib3 import request\n",
    "from webdriver_manager.chrome import ChromeDriverManager\n",
    "from selenium.webdriver.support.select import Select\n",
    "import datetime\n",
    "import plotly.graph_objects as go\n",
    "import plotly.express as px\n",
    "from plotly.subplots import make_subplots\n",
    "import numpy as np\n",
    "################ JUST MAKE CHANGES HERE ########################\n",
    "startDate = '2021/06/01'  # <- FORMAT (YYYY/MM/DD)\n",
    "endDate = '2021/06/30'\n",
    "symbol = 'VTI'\n",
    "################################################################\n",
    "\n",
    "############### RESULTING FILE FORMAT ###########################\n",
    "\n",
    "#           '<SYMBOL>_<DD>_<MM>_<YYYY>.CSV'\n",
    "\n",
    "#################################################################\n",
    "\n",
    "cols = ['Date (DD/MM/YYYY)','Broker','Buy Value ($)','Sell Value ($)','Net Value ($)','Total Value ($)','Buy Volume','Sell Volume','Net Volume','Total Volume','Buy Trade Count','Sell Trade Count','Total Trade Count','Buy Price','Sell Price','Rank']\n",
    "graph1_df = pd.DataFrame(columns=cols)\n",
    "graph2_df = pd.DataFrame(columns=cols)\n",
    "file_name = ''\n",
    "\n",
    "def workdays(d, end, excluded=(6, 7)):\n",
    "    days = []\n",
    "    while d.date() <= end.date():\n",
    "        if d.isoweekday() not in excluded:\n",
    "            days.append(d.strftime('%Y/%m/%d'))\n",
    "        d += datetime.timedelta(days=1)\n",
    "    return days\n",
    "\n",
    "def main():\n",
    "\n",
    "    global startDate\n",
    "    global endDate\n",
    "    global symbol\n",
    "    global graph1_df\n",
    "    global graph2_df\n",
    "    global file_name\n",
    "    cols = ['Date (DD/MM/YYYY)','Broker','Buy Value ($)','Sell Value ($)','Net Value ($)','Total Value ($)','Buy Volume','Sell Volume','Net Volume','Total Volume','Buy Trade Count','Sell Trade Count','Total Trade Count','Buy Price','Sell Price','Rank']\n",
    "    \n",
    "\n",
    "    prefs = {\"profile.default_content_setting_values.notifications\" : 2}  #block notifications\n",
    "    chrome_options = Options()\n",
    "    chrome_options.add_experimental_option(\"prefs\",prefs)\n",
    "    chrome_options.add_argument(\"--no-sandbox\")\n",
    "    # chrome_options.add_argument(\"--headless\")     \n",
    "    #chrome_options.add_argument(\"--disable-setuid-sandbox\")\n",
    "    chrome_options.add_argument(\"--disable-dev-shm-usage\")\n",
    "    #chrome_options.add_argument('--disable-features=VizDisplayCompositor')\n",
    "    driver = webdriver.Chrome(ChromeDriverManager().install(),options=chrome_options)\n",
    "\n",
    "    driver.get(\"https://scanner.daytradescans.com/signin\")\n",
    "    driver.implicitly_wait(20)\n",
    "    driver.maximize_window()\n",
    "\n",
    "    user_name='//*[@id=\"user_email\"]'\n",
    "    password='//*[@id=\"user_password\"]'\n",
    "    submit_button='//*[@id=\"new_user\"]/div[2]/div/input'\n",
    "    fundamentals='//*[@id=\"navbarDropdown\"]'\n",
    "    broker_data = '//*[@id=\"navbarSupportedContent\"]/ul/li[1]/div/a[2]'\n",
    "    capture = '//*[@id=\"capture-broker-data\"]/span'\n",
    "    dl = '//*[@id=\"canvas-link\"]'\n",
    "\n",
    "    #on_login_page\n",
    "    driver.find_element_by_xpath(user_name).send_keys('ivan.cortez.paulo@gmail.com')  #login_id\n",
    "    driver.find_element_by_xpath(password).send_keys(\"qwertyuiop2021\")    #password\n",
    "    driver.find_element_by_xpath(submit_button).click()\n",
    "    driver.implicitly_wait(30)\n",
    "\n",
    "    print(\"logged in\")\n",
    "\n",
    "    driver.find_element_by_xpath(fundamentals).click()\n",
    "    driver.find_element_by_xpath(broker_data).click()\n",
    "\n",
    "    print(\"in broker data\")\n",
    "    \n",
    "\n",
    "    startDate = datetime.datetime.strptime(startDate, \"%Y/%m/%d\")\n",
    "    endDate = datetime.datetime.strptime(endDate, \"%Y/%m/%d\")\n",
    "    \n",
    "    # driver.find_element_by_xpath(text_box).send_keys(input_for_search)\n",
    "    # driver.find_element_by_xpath(from_date).send_keys(from_date_in)\n",
    "    # driver.find_element_by_xpath(to_date).send_keys(to_date_in)\n",
    "    # driver.find_element_by_xpath(search_button).click()\n",
    "\n",
    "    import time\n",
    "    \n",
    "    dates = workdays(startDate,endDate)\n",
    "\n",
    "    filedate1 = datetime.datetime.strptime(dates[0],'%Y/%m/%d').strftime('%d/%m/%Y').replace('/','_')\n",
    "    filedate2 = datetime.datetime.strptime(dates[-1],'%Y/%m/%d').strftime('%d/%m/%Y').replace('/','_')\n",
    "\n",
    "    for date in dates:\n",
    "\n",
    "        new_url = f'https://scanner.daytradescans.com/brokers?code_autocomplete_label={symbol}&code=&name_autocomplete_label=&name=&from={date}&to={date}&commit=Search&minimum_share_price=&maximum_share_price=&minimum_market_cap=&maximum_market_cap=&minimum_eps=&maximum_eps=&minimum_soi=&maximum_soi='\n",
    "        driver.get(new_url)\n",
    "        driver.implicitly_wait(10)\n",
    "\n",
    "        driver.find_element_by_xpath(capture).click()\n",
    "        driver.find_element_by_xpath(dl).click()\n",
    "        \n",
    "        driver.back()\n",
    "        html=driver.page_source\n",
    "        soup = BeautifulSoup(html,features=\"lxml\")\n",
    "        soup_data = soup.get_text()\n",
    "        a = json.loads(soup_data)\n",
    "\n",
    "        if bool(a):\n",
    "            df = pd.DataFrame(a)\n",
    "            df.drop(['id'],axis=1, inplace = True)\n",
    "            # import pdb; pdb.set_trace()\n",
    "            df['buy_volume'] = df['buy_volume'].map(float)\n",
    "            df['sell_volume'] = df['sell_volume'].map(float)\n",
    "\n",
    "            df['total_volume'] = abs(df['buy_volume']) + abs(df['sell_volume'])\n",
    "            tsum = df.tail(1)['total_volume']\n",
    "            df['Rank'] = df['total_volume']\n",
    "            df.Rank = df.Rank.div(float(tsum)) * 100\n",
    "            df.Rank = df.Rank.round(2)\n",
    "\n",
    "            td = datetime.datetime.strptime(date,'%Y/%m/%d').strftime('%d/%m/%Y')\n",
    "            df.rename(columns={'name':'Broker','buy_value':'Buy Value ($)','sell_value':'Sell Value ($)','net_value':'Net Value ($)','total_value':'Total Value ($)','buy_volume':'Buy Volume','sell_volume':'Sell Volume','net_volume':'Net Volume','total_volume':'Total Volume','buy_trade_count':'Buy Trade Count','sell_trade_count':'Sell Trade Count','total_trade_count':'Total Trade Count','buy_price':'Buy Price','sell_price':'Sell Price'},inplace=True)\n",
    "            df['Date (DD/MM/YYYY)'] = td\n",
    "\n",
    "            df = df[cols]\n",
    "\n",
    "            file_name = f'{symbol}_{filedate1}_to_{filedate2}.csv'\n",
    "            if not(os.path.exists(file_name) and os.path.getsize(file_name) > 0):\n",
    "                df.to_csv(file_name, mode = 'a',index=False)\n",
    "            else:\n",
    "                df.to_csv(file_name, mode = 'a', header = False, index=False)\n",
    "#             import pdb; pdb.set_trace()\n",
    "            graph1_df = graph1_df.append(df.tail(1))\n",
    "        \n",
    "    time.sleep(10)\n",
    "    driver.close()\n"
   ]
  },
  {
   "cell_type": "code",
   "execution_count": 45,
   "metadata": {},
   "outputs": [],
   "source": [
    "file_name = 'VTI_01_06_2021_to_30_06_2021.csv'"
   ]
  },
  {
   "cell_type": "code",
   "execution_count": 46,
   "metadata": {},
   "outputs": [],
   "source": [
    "def graph1_plotting():\n",
    "    global file_name\n",
    "    \n",
    "    df = pd.read_csv(file_name)\n",
    "    \n",
    "    df = df[df['Broker'] == 'Total']\n",
    "    \n",
    "    fig = make_subplots(rows=2, cols=1, shared_xaxes=True, vertical_spacing=0.03, subplot_titles=('High-Low', 'Volume'), row_width=[0.2, 0.7])\n",
    "\n",
    "    fig.add_trace(go.Candlestick(x=df['Date (DD/MM/YYYY)'], open=df['Sell Price'], high=df['Sell Price'], low=df['Buy Price'], close=df['Buy Price']),row=1, col=1)\n",
    "    \n",
    "    fig.add_trace(go.Bar(x=df['Date (DD/MM/YYYY)'], y=df['Total Volume'] ,showlegend=False), row=2, col=1)\n",
    "\n",
    "    fig.update(layout_xaxis_rangeslider_visible=False)\n",
    "    \n",
    "    fig.show()\n"
   ]
  },
  {
   "cell_type": "code",
   "execution_count": null,
   "metadata": {},
   "outputs": [],
   "source": []
  },
  {
   "cell_type": "code",
   "execution_count": 47,
   "metadata": {},
   "outputs": [],
   "source": [
    "def volume_plotting():\n",
    "    global file_name\n",
    "    df = pd.read_csv(file_name)\n",
    "    \n",
    "    broker_df = df[df['Broker'] != 'Total']\n",
    "    \n",
    "    fig = px.bar(broker_df, x=\"Date (DD/MM/YYYY)\", y=\"Total Volume\", color=\"Broker\", hover_data=['Date (DD/MM/YYYY)'], barmode = 'stack')\n",
    "    \n",
    "    fig.show()"
   ]
  },
  {
   "cell_type": "code",
   "execution_count": 57,
   "metadata": {},
   "outputs": [
    {
     "data": {
      "application/vnd.plotly.v1+json": {
       "config": {
        "plotlyServerURL": "https://plot.ly"
       },
       "data": [
        {
         "close": [
          1.2,
          1.3,
          1.3,
          1.2
         ],
         "high": [
          1.2,
          1.3,
          1.3,
          1.3
         ],
         "low": [
          1.2,
          1.3,
          1.3,
          1.2
         ],
         "name": "CMC Mkts",
         "open": [
          1.2,
          1.3,
          1.3,
          1.3
         ],
         "type": "candlestick",
         "x": [
          "1/6/2021",
          "2/6/2021",
          "15/06/2021",
          "17/06/2021"
         ],
         "xaxis": "x",
         "yaxis": "y"
        },
        {
         "close": [
          1.186330013,
          1.2873448159999998,
          1.3,
          1.3,
          1.3,
          1.3,
          1.2,
          1.3,
          1.3,
          1.3,
          1.2,
          1.3,
          111,
          110.38053959999999,
          107.9496472,
          107.17529820000001,
          109.9038101,
          110.12690359999999,
          113.0001101
         ],
         "high": [
          1.186330013,
          1.320954965,
          1.3,
          1.3,
          1.3,
          1.298263544,
          1.280963817,
          1.3,
          1.3,
          1.300006567,
          1.2,
          1.3,
          113.9012479,
          108.3928125,
          107.7329077,
          107.05931399999999,
          113.04599499999999,
          110.12690359999999,
          111.14438600000001
         ],
         "low": [
          1.186330013,
          1.2873448159999998,
          1.3,
          1.3,
          1.3,
          1.3,
          1.2,
          1.3,
          1.3,
          1.3,
          1.2,
          1.3,
          111,
          110.38053959999999,
          107.9496472,
          107.17529820000001,
          109.9038101,
          110.12690359999999,
          113.0001101
         ],
         "name": "Commonwealth",
         "open": [
          1.186330013,
          1.320954965,
          1.3,
          1.3,
          1.3,
          1.298263544,
          1.280963817,
          1.3,
          1.3,
          1.300006567,
          1.2,
          1.3,
          113.9012479,
          108.3928125,
          107.7329077,
          107.05931399999999,
          113.04599499999999,
          110.12690359999999,
          111.14438600000001
         ],
         "type": "candlestick",
         "x": [
          "1/6/2021",
          "2/6/2021",
          "3/6/2021",
          "4/6/2021",
          "7/6/2021",
          "8/6/2021",
          "9/6/2021",
          "10/6/2021",
          "11/6/2021",
          "15/06/2021",
          "16/06/2021",
          "17/06/2021",
          "18/06/2021",
          "21/06/2021",
          "22/06/2021",
          "23/06/2021",
          "24/06/2021",
          "25/06/2021",
          "28/06/2021"
         ],
         "xaxis": "x",
         "yaxis": "y"
        },
        {
         "close": [
          1.1,
          115
         ],
         "high": [
          1.1,
          115
         ],
         "low": [
          1.1,
          115
         ],
         "name": "Macquarie Insto",
         "open": [
          1.1,
          115
         ],
         "type": "candlestick",
         "x": [
          "1/6/2021",
          "18/06/2021"
         ],
         "xaxis": "x",
         "yaxis": "y"
        },
        {
         "close": [
          1.2,
          1.3,
          1.3,
          1.2,
          115,
          107.5,
          107.29919679999999,
          107,
          110,
          110
         ],
         "high": [
          1.26097561,
          1.3,
          1.3,
          1.2,
          111,
          106.5,
          107.5,
          107,
          109,
          110
         ],
         "low": [
          1.2,
          1.3,
          1.3,
          1.2,
          115,
          107.5,
          107.29919679999999,
          107,
          110,
          110
         ],
         "name": "AIEX",
         "open": [
          1.26097561,
          1.3,
          1.3,
          1.2,
          111,
          106.5,
          107.5,
          107,
          109,
          110
         ],
         "type": "candlestick",
         "x": [
          "2/6/2021",
          "3/6/2021",
          "11/6/2021",
          "16/06/2021",
          "18/06/2021",
          "21/06/2021",
          "22/06/2021",
          "23/06/2021",
          "24/06/2021",
          "25/06/2021"
         ],
         "xaxis": "x",
         "yaxis": "y"
        },
        {
         "close": [
          1.284414427,
          1.3,
          1.3,
          1.3,
          1.3,
          1.3,
          1.3,
          1.3
         ],
         "high": [
          1.320984985,
          1.3,
          1.3,
          1.3,
          1.3,
          1.3,
          1.3,
          1.3
         ],
         "low": [
          1.284414427,
          1.3,
          1.3,
          1.3,
          1.3,
          1.3,
          1.3,
          1.3
         ],
         "name": "Barclays Investment Bank",
         "open": [
          1.320984985,
          1.3,
          1.3,
          1.3,
          1.3,
          1.3,
          1.3,
          1.3
         ],
         "type": "candlestick",
         "x": [
          "2/6/2021",
          "3/6/2021",
          "4/6/2021",
          "7/6/2021",
          "8/6/2021",
          "9/6/2021",
          "10/6/2021",
          "15/06/2021"
         ],
         "xaxis": "x",
         "yaxis": "y"
        },
        {
         "close": [
          1.2,
          1.3,
          1.2,
          1.3,
          108
         ],
         "high": [
          1.2385663059999998,
          1.3,
          1.2,
          1.3,
          108
         ],
         "low": [
          1.2,
          1.3,
          1.2,
          1.3,
          108
         ],
         "name": "Bell Potter",
         "open": [
          1.2385663059999998,
          1.3,
          1.2,
          1.3,
          108
         ],
         "type": "candlestick",
         "x": [
          "2/6/2021",
          "8/6/2021",
          "9/6/2021",
          "15/06/2021",
          "21/06/2021"
         ],
         "xaxis": "x",
         "yaxis": "y"
        },
        {
         "close": [
          1.268407644,
          1.3,
          1.3,
          1.3,
          1.3,
          1.3,
          115,
          108.5,
          107.02974170000002,
          115.7241379,
          110,
          110
         ],
         "high": [
          1.287224186,
          1.3,
          1.3,
          1.3,
          1.3,
          1.3,
          115,
          111,
          107.02974170000002,
          111,
          110,
          110
         ],
         "low": [
          1.268407644,
          1.3,
          1.3,
          1.3,
          1.3,
          1.3,
          115,
          108.5,
          107.02974170000002,
          115.7241379,
          110,
          110
         ],
         "name": "CMC Markets",
         "open": [
          1.287224186,
          1.3,
          1.3,
          1.3,
          1.3,
          1.3,
          115,
          111,
          107.02974170000002,
          111,
          110,
          110
         ],
         "type": "candlestick",
         "x": [
          "2/6/2021",
          "3/6/2021",
          "4/6/2021",
          "7/6/2021",
          "8/6/2021",
          "9/6/2021",
          "18/06/2021",
          "21/06/2021",
          "22/06/2021",
          "24/06/2021",
          "25/06/2021",
          "28/06/2021"
         ],
         "xaxis": "x",
         "yaxis": "y"
        },
        {
         "close": [
          1.3,
          1.3,
          1.3,
          1.3,
          1.29968736,
          1.3,
          1.3,
          1.25,
          1.3,
          115,
          107.96999890000001,
          109.9999983,
          112.81643840000001
         ],
         "high": [
          1.266051071,
          1.3,
          1.3,
          1.3,
          1.29968736,
          1.3,
          1.3,
          1.25,
          1.3,
          115,
          107.96999890000001,
          110,
          112.81643840000001
         ],
         "low": [
          1.3,
          1.3,
          1.3,
          1.3,
          1.29968736,
          1.3,
          1.3,
          1.25,
          1.3,
          115,
          107.96999890000001,
          109.9999983,
          112.81643840000001
         ],
         "name": "Credit Suisse",
         "open": [
          1.266051071,
          1.3,
          1.3,
          1.3,
          1.29968736,
          1.3,
          1.3,
          1.25,
          1.3,
          115,
          107.96999890000001,
          110,
          112.81643840000001
         ],
         "type": "candlestick",
         "x": [
          "2/6/2021",
          "3/6/2021",
          "7/6/2021",
          "9/6/2021",
          "10/6/2021",
          "11/6/2021",
          "15/06/2021",
          "16/06/2021",
          "17/06/2021",
          "18/06/2021",
          "21/06/2021",
          "24/06/2021",
          "28/06/2021"
         ],
         "xaxis": "x",
         "yaxis": "y"
        },
        {
         "close": [
          1.3,
          1.300063241,
          1.225,
          107.5
         ],
         "high": [
          1.3,
          1.300063241,
          1.225,
          107.5
         ],
         "low": [
          1.3,
          1.300063241,
          1.225,
          107.5
         ],
         "name": "IBA",
         "open": [
          1.3,
          1.300063241,
          1.225,
          107.5
         ],
         "type": "candlestick",
         "x": [
          "2/6/2021",
          "15/06/2021",
          "16/06/2021",
          "23/06/2021"
         ],
         "xaxis": "x",
         "yaxis": "y"
        },
        {
         "close": [
          1.2,
          1.3,
          1.3,
          1.3,
          1.3,
          114.5,
          107,
          110
         ],
         "high": [
          1.25,
          1.3,
          1.3,
          1.3,
          1.3,
          114.5,
          107,
          110
         ],
         "low": [
          1.2,
          1.3,
          1.3,
          1.3,
          1.3,
          114.5,
          107,
          110
         ],
         "name": "Merrill Lynch",
         "open": [
          1.25,
          1.3,
          1.3,
          1.3,
          1.3,
          114.5,
          107,
          110
         ],
         "type": "candlestick",
         "x": [
          "2/6/2021",
          "8/6/2021",
          "10/6/2021",
          "11/6/2021",
          "15/06/2021",
          "18/06/2021",
          "23/06/2021",
          "28/06/2021"
         ],
         "xaxis": "x",
         "yaxis": "y"
        },
        {
         "close": [
          1.3
         ],
         "high": [
          1.3
         ],
         "low": [
          1.3
         ],
         "name": "Morgans",
         "open": [
          1.3
         ],
         "type": "candlestick",
         "x": [
          "2/6/2021"
         ],
         "xaxis": "x",
         "yaxis": "y"
        },
        {
         "close": [
          1.2,
          1.3,
          1.3,
          1.3,
          1.3,
          1.3,
          1.3,
          1.2,
          108.5
         ],
         "high": [
          1.274169758,
          1.3,
          1.3,
          1.3,
          1.3,
          1.3,
          1.3,
          1.2,
          108.5
         ],
         "low": [
          1.2,
          1.3,
          1.3,
          1.3,
          1.3,
          1.3,
          1.3,
          1.2,
          108.5
         ],
         "name": "OpenMarkets",
         "open": [
          1.274169758,
          1.3,
          1.3,
          1.3,
          1.3,
          1.3,
          1.3,
          1.2,
          108.5
         ],
         "type": "candlestick",
         "x": [
          "2/6/2021",
          "3/6/2021",
          "4/6/2021",
          "7/6/2021",
          "9/6/2021",
          "10/6/2021",
          "15/06/2021",
          "17/06/2021",
          "22/06/2021"
         ],
         "xaxis": "x",
         "yaxis": "y"
        },
        {
         "close": [
          1.2,
          1.2
         ],
         "high": [
          1.2,
          1.2
         ],
         "low": [
          1.2,
          1.2
         ],
         "name": "Pershing",
         "open": [
          1.2,
          1.2
         ],
         "type": "candlestick",
         "x": [
          "2/6/2021",
          "17/06/2021"
         ],
         "xaxis": "x",
         "yaxis": "y"
        },
        {
         "close": [
          1.3,
          1.3,
          1.3,
          1.3,
          107
         ],
         "high": [
          1.3,
          1.3,
          1.3,
          1.3,
          107
         ],
         "low": [
          1.3,
          1.3,
          1.3,
          1.3,
          107
         ],
         "name": "State One Stock",
         "open": [
          1.3,
          1.3,
          1.3,
          1.3,
          107
         ],
         "type": "candlestick",
         "x": [
          "2/6/2021",
          "7/6/2021",
          "8/6/2021",
          "9/6/2021",
          "23/06/2021"
         ],
         "xaxis": "x",
         "yaxis": "y"
        },
        {
         "close": [
          1.37711617,
          1.3,
          106,
          110
         ],
         "high": [
          1.229030176,
          1.3,
          106,
          110
         ],
         "low": [
          1.37711617,
          1.3,
          106,
          110
         ],
         "name": "Third Party",
         "open": [
          1.229030176,
          1.3,
          106,
          110
         ],
         "type": "candlestick",
         "x": [
          "2/6/2021",
          "4/6/2021",
          "21/06/2021",
          "28/06/2021"
         ],
         "xaxis": "x",
         "yaxis": "y"
        },
        {
         "close": [
          1.2,
          1.3,
          1.3,
          1.3,
          1.2,
          1.2,
          1.3,
          1.3,
          1.2
         ],
         "high": [
          1.3,
          1.3,
          1.3,
          1.3,
          1.3,
          1.3,
          1.3,
          1.3,
          1.2
         ],
         "low": [
          1.2,
          1.3,
          1.3,
          1.3,
          1.2,
          1.2,
          1.3,
          1.3,
          1.2
         ],
         "name": "Virtu Financial",
         "open": [
          1.3,
          1.3,
          1.3,
          1.3,
          1.3,
          1.3,
          1.3,
          1.3,
          1.2
         ],
         "type": "candlestick",
         "x": [
          "2/6/2021",
          "3/6/2021",
          "4/6/2021",
          "7/6/2021",
          "8/6/2021",
          "9/6/2021",
          "10/6/2021",
          "15/06/2021",
          "17/06/2021"
         ],
         "xaxis": "x",
         "yaxis": "y"
        },
        {
         "close": [
          1.4,
          1.3,
          1.3,
          1.3,
          1.3,
          116.34254609999999,
          111,
          107.0274084,
          109
         ],
         "high": [
          1.4,
          1.3,
          1.3,
          1.3,
          1.3,
          120,
          108.5,
          107.5,
          109
         ],
         "low": [
          1.4,
          1.3,
          1.3,
          1.3,
          1.3,
          116.34254609999999,
          111,
          107.0274084,
          109
         ],
         "name": "Wealthhub Sec",
         "open": [
          1.4,
          1.3,
          1.3,
          1.3,
          1.3,
          120,
          108.5,
          107.5,
          109
         ],
         "type": "candlestick",
         "x": [
          "2/6/2021",
          "3/6/2021",
          "10/6/2021",
          "11/6/2021",
          "15/06/2021",
          "18/06/2021",
          "21/06/2021",
          "23/06/2021",
          "24/06/2021"
         ],
         "xaxis": "x",
         "yaxis": "y"
        },
        {
         "close": [
          1.3,
          1.3
         ],
         "high": [
          1.3,
          1.3
         ],
         "low": [
          1.3,
          1.3
         ],
         "name": "InstinetNomura",
         "open": [
          1.3,
          1.3
         ],
         "type": "candlestick",
         "x": [
          "4/6/2021",
          "9/6/2021"
         ],
         "xaxis": "x",
         "yaxis": "y"
        },
        {
         "close": [
          1.3,
          108
         ],
         "high": [
          1.3,
          108
         ],
         "low": [
          1.3,
          108
         ],
         "name": "Morrison",
         "open": [
          1.3,
          108
         ],
         "type": "candlestick",
         "x": [
          "7/6/2021",
          "22/06/2021"
         ],
         "xaxis": "x",
         "yaxis": "y"
        },
        {
         "close": [
          1.225244494,
          1.3,
          1.3,
          108,
          107,
          107.5,
          109.68958740000001,
          110.4360465
         ],
         "high": [
          1.225244494,
          1.3,
          1.3,
          108,
          107,
          107.5,
          109.68958740000001,
          110.4360465
         ],
         "low": [
          1.225244494,
          1.3,
          1.3,
          108,
          107,
          107.5,
          109.68958740000001,
          110.4360465
         ],
         "name": "Patersons",
         "open": [
          1.225244494,
          1.3,
          1.3,
          108,
          107,
          107.5,
          109.68958740000001,
          110.4360465
         ],
         "type": "candlestick",
         "x": [
          "8/6/2021",
          "9/6/2021",
          "11/6/2021",
          "21/06/2021",
          "22/06/2021",
          "23/06/2021",
          "24/06/2021",
          "25/06/2021"
         ],
         "xaxis": "x",
         "yaxis": "y"
        },
        {
         "close": [
          1.25,
          115
         ],
         "high": [
          1.25,
          115
         ],
         "low": [
          1.25,
          115
         ],
         "name": "Citigroup",
         "open": [
          1.25,
          115
         ],
         "type": "candlestick",
         "x": [
          "10/6/2021",
          "18/06/2021"
         ],
         "xaxis": "x",
         "yaxis": "y"
        },
        {
         "close": [
          1.2,
          108.07705290000001,
          110,
          110
         ],
         "high": [
          1.2,
          108.07705290000001,
          110,
          110
         ],
         "low": [
          1.2,
          108.07705290000001,
          110,
          110
         ],
         "name": "Shaw",
         "open": [
          1.2,
          108.07705290000001,
          110,
          110
         ],
         "type": "candlestick",
         "x": [
          "17/06/2021",
          "22/06/2021",
          "25/06/2021",
          "28/06/2021"
         ],
         "xaxis": "x",
         "yaxis": "y"
        },
        {
         "close": [
          108
         ],
         "high": [
          108
         ],
         "low": [
          108
         ],
         "name": "Morgan Stanley",
         "open": [
          108
         ],
         "type": "candlestick",
         "x": [
          "24/06/2021"
         ],
         "xaxis": "x",
         "yaxis": "y"
        },
        {
         "close": [
          116.44076880000001,
          121.18325290000001
         ],
         "high": [
          116.44076880000001,
          121.18325290000001
         ],
         "low": [
          116.44076880000001,
          121.18325290000001
         ],
         "name": "Unassigned Transactions",
         "open": [
          116.44076880000001,
          121.18325290000001
         ],
         "type": "candlestick",
         "x": [
          "29/06/2021",
          "30/06/2021"
         ],
         "xaxis": "x",
         "yaxis": "y"
        }
       ],
       "layout": {
        "annotations": [
         {
          "font": {
           "size": 16
          },
          "showarrow": false,
          "text": "High-Low",
          "x": 0.5,
          "xanchor": "center",
          "xref": "paper",
          "y": 1,
          "yanchor": "bottom",
          "yref": "paper"
         }
        ],
        "template": {
         "data": {
          "bar": [
           {
            "error_x": {
             "color": "#2a3f5f"
            },
            "error_y": {
             "color": "#2a3f5f"
            },
            "marker": {
             "line": {
              "color": "#E5ECF6",
              "width": 0.5
             }
            },
            "type": "bar"
           }
          ],
          "barpolar": [
           {
            "marker": {
             "line": {
              "color": "#E5ECF6",
              "width": 0.5
             }
            },
            "type": "barpolar"
           }
          ],
          "carpet": [
           {
            "aaxis": {
             "endlinecolor": "#2a3f5f",
             "gridcolor": "white",
             "linecolor": "white",
             "minorgridcolor": "white",
             "startlinecolor": "#2a3f5f"
            },
            "baxis": {
             "endlinecolor": "#2a3f5f",
             "gridcolor": "white",
             "linecolor": "white",
             "minorgridcolor": "white",
             "startlinecolor": "#2a3f5f"
            },
            "type": "carpet"
           }
          ],
          "choropleth": [
           {
            "colorbar": {
             "outlinewidth": 0,
             "ticks": ""
            },
            "type": "choropleth"
           }
          ],
          "contour": [
           {
            "colorbar": {
             "outlinewidth": 0,
             "ticks": ""
            },
            "colorscale": [
             [
              0,
              "#0d0887"
             ],
             [
              0.1111111111111111,
              "#46039f"
             ],
             [
              0.2222222222222222,
              "#7201a8"
             ],
             [
              0.3333333333333333,
              "#9c179e"
             ],
             [
              0.4444444444444444,
              "#bd3786"
             ],
             [
              0.5555555555555556,
              "#d8576b"
             ],
             [
              0.6666666666666666,
              "#ed7953"
             ],
             [
              0.7777777777777778,
              "#fb9f3a"
             ],
             [
              0.8888888888888888,
              "#fdca26"
             ],
             [
              1,
              "#f0f921"
             ]
            ],
            "type": "contour"
           }
          ],
          "contourcarpet": [
           {
            "colorbar": {
             "outlinewidth": 0,
             "ticks": ""
            },
            "type": "contourcarpet"
           }
          ],
          "heatmap": [
           {
            "colorbar": {
             "outlinewidth": 0,
             "ticks": ""
            },
            "colorscale": [
             [
              0,
              "#0d0887"
             ],
             [
              0.1111111111111111,
              "#46039f"
             ],
             [
              0.2222222222222222,
              "#7201a8"
             ],
             [
              0.3333333333333333,
              "#9c179e"
             ],
             [
              0.4444444444444444,
              "#bd3786"
             ],
             [
              0.5555555555555556,
              "#d8576b"
             ],
             [
              0.6666666666666666,
              "#ed7953"
             ],
             [
              0.7777777777777778,
              "#fb9f3a"
             ],
             [
              0.8888888888888888,
              "#fdca26"
             ],
             [
              1,
              "#f0f921"
             ]
            ],
            "type": "heatmap"
           }
          ],
          "heatmapgl": [
           {
            "colorbar": {
             "outlinewidth": 0,
             "ticks": ""
            },
            "colorscale": [
             [
              0,
              "#0d0887"
             ],
             [
              0.1111111111111111,
              "#46039f"
             ],
             [
              0.2222222222222222,
              "#7201a8"
             ],
             [
              0.3333333333333333,
              "#9c179e"
             ],
             [
              0.4444444444444444,
              "#bd3786"
             ],
             [
              0.5555555555555556,
              "#d8576b"
             ],
             [
              0.6666666666666666,
              "#ed7953"
             ],
             [
              0.7777777777777778,
              "#fb9f3a"
             ],
             [
              0.8888888888888888,
              "#fdca26"
             ],
             [
              1,
              "#f0f921"
             ]
            ],
            "type": "heatmapgl"
           }
          ],
          "histogram": [
           {
            "marker": {
             "colorbar": {
              "outlinewidth": 0,
              "ticks": ""
             }
            },
            "type": "histogram"
           }
          ],
          "histogram2d": [
           {
            "colorbar": {
             "outlinewidth": 0,
             "ticks": ""
            },
            "colorscale": [
             [
              0,
              "#0d0887"
             ],
             [
              0.1111111111111111,
              "#46039f"
             ],
             [
              0.2222222222222222,
              "#7201a8"
             ],
             [
              0.3333333333333333,
              "#9c179e"
             ],
             [
              0.4444444444444444,
              "#bd3786"
             ],
             [
              0.5555555555555556,
              "#d8576b"
             ],
             [
              0.6666666666666666,
              "#ed7953"
             ],
             [
              0.7777777777777778,
              "#fb9f3a"
             ],
             [
              0.8888888888888888,
              "#fdca26"
             ],
             [
              1,
              "#f0f921"
             ]
            ],
            "type": "histogram2d"
           }
          ],
          "histogram2dcontour": [
           {
            "colorbar": {
             "outlinewidth": 0,
             "ticks": ""
            },
            "colorscale": [
             [
              0,
              "#0d0887"
             ],
             [
              0.1111111111111111,
              "#46039f"
             ],
             [
              0.2222222222222222,
              "#7201a8"
             ],
             [
              0.3333333333333333,
              "#9c179e"
             ],
             [
              0.4444444444444444,
              "#bd3786"
             ],
             [
              0.5555555555555556,
              "#d8576b"
             ],
             [
              0.6666666666666666,
              "#ed7953"
             ],
             [
              0.7777777777777778,
              "#fb9f3a"
             ],
             [
              0.8888888888888888,
              "#fdca26"
             ],
             [
              1,
              "#f0f921"
             ]
            ],
            "type": "histogram2dcontour"
           }
          ],
          "mesh3d": [
           {
            "colorbar": {
             "outlinewidth": 0,
             "ticks": ""
            },
            "type": "mesh3d"
           }
          ],
          "parcoords": [
           {
            "line": {
             "colorbar": {
              "outlinewidth": 0,
              "ticks": ""
             }
            },
            "type": "parcoords"
           }
          ],
          "pie": [
           {
            "automargin": true,
            "type": "pie"
           }
          ],
          "scatter": [
           {
            "marker": {
             "colorbar": {
              "outlinewidth": 0,
              "ticks": ""
             }
            },
            "type": "scatter"
           }
          ],
          "scatter3d": [
           {
            "line": {
             "colorbar": {
              "outlinewidth": 0,
              "ticks": ""
             }
            },
            "marker": {
             "colorbar": {
              "outlinewidth": 0,
              "ticks": ""
             }
            },
            "type": "scatter3d"
           }
          ],
          "scattercarpet": [
           {
            "marker": {
             "colorbar": {
              "outlinewidth": 0,
              "ticks": ""
             }
            },
            "type": "scattercarpet"
           }
          ],
          "scattergeo": [
           {
            "marker": {
             "colorbar": {
              "outlinewidth": 0,
              "ticks": ""
             }
            },
            "type": "scattergeo"
           }
          ],
          "scattergl": [
           {
            "marker": {
             "colorbar": {
              "outlinewidth": 0,
              "ticks": ""
             }
            },
            "type": "scattergl"
           }
          ],
          "scattermapbox": [
           {
            "marker": {
             "colorbar": {
              "outlinewidth": 0,
              "ticks": ""
             }
            },
            "type": "scattermapbox"
           }
          ],
          "scatterpolar": [
           {
            "marker": {
             "colorbar": {
              "outlinewidth": 0,
              "ticks": ""
             }
            },
            "type": "scatterpolar"
           }
          ],
          "scatterpolargl": [
           {
            "marker": {
             "colorbar": {
              "outlinewidth": 0,
              "ticks": ""
             }
            },
            "type": "scatterpolargl"
           }
          ],
          "scatterternary": [
           {
            "marker": {
             "colorbar": {
              "outlinewidth": 0,
              "ticks": ""
             }
            },
            "type": "scatterternary"
           }
          ],
          "surface": [
           {
            "colorbar": {
             "outlinewidth": 0,
             "ticks": ""
            },
            "colorscale": [
             [
              0,
              "#0d0887"
             ],
             [
              0.1111111111111111,
              "#46039f"
             ],
             [
              0.2222222222222222,
              "#7201a8"
             ],
             [
              0.3333333333333333,
              "#9c179e"
             ],
             [
              0.4444444444444444,
              "#bd3786"
             ],
             [
              0.5555555555555556,
              "#d8576b"
             ],
             [
              0.6666666666666666,
              "#ed7953"
             ],
             [
              0.7777777777777778,
              "#fb9f3a"
             ],
             [
              0.8888888888888888,
              "#fdca26"
             ],
             [
              1,
              "#f0f921"
             ]
            ],
            "type": "surface"
           }
          ],
          "table": [
           {
            "cells": {
             "fill": {
              "color": "#EBF0F8"
             },
             "line": {
              "color": "white"
             }
            },
            "header": {
             "fill": {
              "color": "#C8D4E3"
             },
             "line": {
              "color": "white"
             }
            },
            "type": "table"
           }
          ]
         },
         "layout": {
          "annotationdefaults": {
           "arrowcolor": "#2a3f5f",
           "arrowhead": 0,
           "arrowwidth": 1
          },
          "autotypenumbers": "strict",
          "coloraxis": {
           "colorbar": {
            "outlinewidth": 0,
            "ticks": ""
           }
          },
          "colorscale": {
           "diverging": [
            [
             0,
             "#8e0152"
            ],
            [
             0.1,
             "#c51b7d"
            ],
            [
             0.2,
             "#de77ae"
            ],
            [
             0.3,
             "#f1b6da"
            ],
            [
             0.4,
             "#fde0ef"
            ],
            [
             0.5,
             "#f7f7f7"
            ],
            [
             0.6,
             "#e6f5d0"
            ],
            [
             0.7,
             "#b8e186"
            ],
            [
             0.8,
             "#7fbc41"
            ],
            [
             0.9,
             "#4d9221"
            ],
            [
             1,
             "#276419"
            ]
           ],
           "sequential": [
            [
             0,
             "#0d0887"
            ],
            [
             0.1111111111111111,
             "#46039f"
            ],
            [
             0.2222222222222222,
             "#7201a8"
            ],
            [
             0.3333333333333333,
             "#9c179e"
            ],
            [
             0.4444444444444444,
             "#bd3786"
            ],
            [
             0.5555555555555556,
             "#d8576b"
            ],
            [
             0.6666666666666666,
             "#ed7953"
            ],
            [
             0.7777777777777778,
             "#fb9f3a"
            ],
            [
             0.8888888888888888,
             "#fdca26"
            ],
            [
             1,
             "#f0f921"
            ]
           ],
           "sequentialminus": [
            [
             0,
             "#0d0887"
            ],
            [
             0.1111111111111111,
             "#46039f"
            ],
            [
             0.2222222222222222,
             "#7201a8"
            ],
            [
             0.3333333333333333,
             "#9c179e"
            ],
            [
             0.4444444444444444,
             "#bd3786"
            ],
            [
             0.5555555555555556,
             "#d8576b"
            ],
            [
             0.6666666666666666,
             "#ed7953"
            ],
            [
             0.7777777777777778,
             "#fb9f3a"
            ],
            [
             0.8888888888888888,
             "#fdca26"
            ],
            [
             1,
             "#f0f921"
            ]
           ]
          },
          "colorway": [
           "#636efa",
           "#EF553B",
           "#00cc96",
           "#ab63fa",
           "#FFA15A",
           "#19d3f3",
           "#FF6692",
           "#B6E880",
           "#FF97FF",
           "#FECB52"
          ],
          "font": {
           "color": "#2a3f5f"
          },
          "geo": {
           "bgcolor": "white",
           "lakecolor": "white",
           "landcolor": "#E5ECF6",
           "showlakes": true,
           "showland": true,
           "subunitcolor": "white"
          },
          "hoverlabel": {
           "align": "left"
          },
          "hovermode": "closest",
          "mapbox": {
           "style": "light"
          },
          "paper_bgcolor": "white",
          "plot_bgcolor": "#E5ECF6",
          "polar": {
           "angularaxis": {
            "gridcolor": "white",
            "linecolor": "white",
            "ticks": ""
           },
           "bgcolor": "#E5ECF6",
           "radialaxis": {
            "gridcolor": "white",
            "linecolor": "white",
            "ticks": ""
           }
          },
          "scene": {
           "xaxis": {
            "backgroundcolor": "#E5ECF6",
            "gridcolor": "white",
            "gridwidth": 2,
            "linecolor": "white",
            "showbackground": true,
            "ticks": "",
            "zerolinecolor": "white"
           },
           "yaxis": {
            "backgroundcolor": "#E5ECF6",
            "gridcolor": "white",
            "gridwidth": 2,
            "linecolor": "white",
            "showbackground": true,
            "ticks": "",
            "zerolinecolor": "white"
           },
           "zaxis": {
            "backgroundcolor": "#E5ECF6",
            "gridcolor": "white",
            "gridwidth": 2,
            "linecolor": "white",
            "showbackground": true,
            "ticks": "",
            "zerolinecolor": "white"
           }
          },
          "shapedefaults": {
           "line": {
            "color": "#2a3f5f"
           }
          },
          "ternary": {
           "aaxis": {
            "gridcolor": "white",
            "linecolor": "white",
            "ticks": ""
           },
           "baxis": {
            "gridcolor": "white",
            "linecolor": "white",
            "ticks": ""
           },
           "bgcolor": "#E5ECF6",
           "caxis": {
            "gridcolor": "white",
            "linecolor": "white",
            "ticks": ""
           }
          },
          "title": {
           "x": 0.05
          },
          "xaxis": {
           "automargin": true,
           "gridcolor": "white",
           "linecolor": "white",
           "ticks": "",
           "title": {
            "standoff": 15
           },
           "zerolinecolor": "white",
           "zerolinewidth": 2
          },
          "yaxis": {
           "automargin": true,
           "gridcolor": "white",
           "linecolor": "white",
           "ticks": "",
           "title": {
            "standoff": 15
           },
           "zerolinecolor": "white",
           "zerolinewidth": 2
          }
         }
        },
        "xaxis": {
         "anchor": "y",
         "domain": [
          0,
          1
         ],
         "rangeslider": {
          "visible": false
         }
        },
        "xaxis2": {
         "anchor": "y2",
         "domain": [
          0,
          1
         ]
        },
        "yaxis": {
         "anchor": "x",
         "domain": [
          0.24555555555555558,
          1
         ]
        },
        "yaxis2": {
         "anchor": "x2",
         "domain": [
          0,
          0.21555555555555558
         ]
        }
       }
      },
      "text/html": [
       "<div>                            <div id=\"0d4c6b37-97c3-43a3-9884-5579b5921cdc\" class=\"plotly-graph-div\" style=\"height:525px; width:100%;\"></div>            <script type=\"text/javascript\">                require([\"plotly\"], function(Plotly) {                    window.PLOTLYENV=window.PLOTLYENV || {};                                    if (document.getElementById(\"0d4c6b37-97c3-43a3-9884-5579b5921cdc\")) {                    Plotly.newPlot(                        \"0d4c6b37-97c3-43a3-9884-5579b5921cdc\",                        [{\"close\": [1.2, 1.3, 1.3, 1.2], \"high\": [1.2, 1.3, 1.3, 1.3], \"low\": [1.2, 1.3, 1.3, 1.2], \"name\": \"CMC Mkts\", \"open\": [1.2, 1.3, 1.3, 1.3], \"type\": \"candlestick\", \"x\": [\"1/6/2021\", \"2/6/2021\", \"15/06/2021\", \"17/06/2021\"], \"xaxis\": \"x\", \"yaxis\": \"y\"}, {\"close\": [1.186330013, 1.2873448159999998, 1.3, 1.3, 1.3, 1.3, 1.2, 1.3, 1.3, 1.3, 1.2, 1.3, 111.0, 110.38053959999999, 107.9496472, 107.17529820000001, 109.9038101, 110.12690359999999, 113.0001101], \"high\": [1.186330013, 1.320954965, 1.3, 1.3, 1.3, 1.298263544, 1.280963817, 1.3, 1.3, 1.300006567, 1.2, 1.3, 113.9012479, 108.3928125, 107.7329077, 107.05931399999999, 113.04599499999999, 110.12690359999999, 111.14438600000001], \"low\": [1.186330013, 1.2873448159999998, 1.3, 1.3, 1.3, 1.3, 1.2, 1.3, 1.3, 1.3, 1.2, 1.3, 111.0, 110.38053959999999, 107.9496472, 107.17529820000001, 109.9038101, 110.12690359999999, 113.0001101], \"name\": \"Commonwealth\", \"open\": [1.186330013, 1.320954965, 1.3, 1.3, 1.3, 1.298263544, 1.280963817, 1.3, 1.3, 1.300006567, 1.2, 1.3, 113.9012479, 108.3928125, 107.7329077, 107.05931399999999, 113.04599499999999, 110.12690359999999, 111.14438600000001], \"type\": \"candlestick\", \"x\": [\"1/6/2021\", \"2/6/2021\", \"3/6/2021\", \"4/6/2021\", \"7/6/2021\", \"8/6/2021\", \"9/6/2021\", \"10/6/2021\", \"11/6/2021\", \"15/06/2021\", \"16/06/2021\", \"17/06/2021\", \"18/06/2021\", \"21/06/2021\", \"22/06/2021\", \"23/06/2021\", \"24/06/2021\", \"25/06/2021\", \"28/06/2021\"], \"xaxis\": \"x\", \"yaxis\": \"y\"}, {\"close\": [1.1, 115.0], \"high\": [1.1, 115.0], \"low\": [1.1, 115.0], \"name\": \"Macquarie Insto\", \"open\": [1.1, 115.0], \"type\": \"candlestick\", \"x\": [\"1/6/2021\", \"18/06/2021\"], \"xaxis\": \"x\", \"yaxis\": \"y\"}, {\"close\": [1.2, 1.3, 1.3, 1.2, 115.0, 107.5, 107.29919679999999, 107.0, 110.0, 110.0], \"high\": [1.26097561, 1.3, 1.3, 1.2, 111.0, 106.5, 107.5, 107.0, 109.0, 110.0], \"low\": [1.2, 1.3, 1.3, 1.2, 115.0, 107.5, 107.29919679999999, 107.0, 110.0, 110.0], \"name\": \"AIEX\", \"open\": [1.26097561, 1.3, 1.3, 1.2, 111.0, 106.5, 107.5, 107.0, 109.0, 110.0], \"type\": \"candlestick\", \"x\": [\"2/6/2021\", \"3/6/2021\", \"11/6/2021\", \"16/06/2021\", \"18/06/2021\", \"21/06/2021\", \"22/06/2021\", \"23/06/2021\", \"24/06/2021\", \"25/06/2021\"], \"xaxis\": \"x\", \"yaxis\": \"y\"}, {\"close\": [1.284414427, 1.3, 1.3, 1.3, 1.3, 1.3, 1.3, 1.3], \"high\": [1.320984985, 1.3, 1.3, 1.3, 1.3, 1.3, 1.3, 1.3], \"low\": [1.284414427, 1.3, 1.3, 1.3, 1.3, 1.3, 1.3, 1.3], \"name\": \"Barclays Investment Bank\", \"open\": [1.320984985, 1.3, 1.3, 1.3, 1.3, 1.3, 1.3, 1.3], \"type\": \"candlestick\", \"x\": [\"2/6/2021\", \"3/6/2021\", \"4/6/2021\", \"7/6/2021\", \"8/6/2021\", \"9/6/2021\", \"10/6/2021\", \"15/06/2021\"], \"xaxis\": \"x\", \"yaxis\": \"y\"}, {\"close\": [1.2, 1.3, 1.2, 1.3, 108.0], \"high\": [1.2385663059999998, 1.3, 1.2, 1.3, 108.0], \"low\": [1.2, 1.3, 1.2, 1.3, 108.0], \"name\": \"Bell Potter\", \"open\": [1.2385663059999998, 1.3, 1.2, 1.3, 108.0], \"type\": \"candlestick\", \"x\": [\"2/6/2021\", \"8/6/2021\", \"9/6/2021\", \"15/06/2021\", \"21/06/2021\"], \"xaxis\": \"x\", \"yaxis\": \"y\"}, {\"close\": [1.268407644, 1.3, 1.3, 1.3, 1.3, 1.3, 115.0, 108.5, 107.02974170000002, 115.7241379, 110.0, 110.0], \"high\": [1.287224186, 1.3, 1.3, 1.3, 1.3, 1.3, 115.0, 111.0, 107.02974170000002, 111.0, 110.0, 110.0], \"low\": [1.268407644, 1.3, 1.3, 1.3, 1.3, 1.3, 115.0, 108.5, 107.02974170000002, 115.7241379, 110.0, 110.0], \"name\": \"CMC Markets\", \"open\": [1.287224186, 1.3, 1.3, 1.3, 1.3, 1.3, 115.0, 111.0, 107.02974170000002, 111.0, 110.0, 110.0], \"type\": \"candlestick\", \"x\": [\"2/6/2021\", \"3/6/2021\", \"4/6/2021\", \"7/6/2021\", \"8/6/2021\", \"9/6/2021\", \"18/06/2021\", \"21/06/2021\", \"22/06/2021\", \"24/06/2021\", \"25/06/2021\", \"28/06/2021\"], \"xaxis\": \"x\", \"yaxis\": \"y\"}, {\"close\": [1.3, 1.3, 1.3, 1.3, 1.29968736, 1.3, 1.3, 1.25, 1.3, 115.0, 107.96999890000001, 109.9999983, 112.81643840000001], \"high\": [1.266051071, 1.3, 1.3, 1.3, 1.29968736, 1.3, 1.3, 1.25, 1.3, 115.0, 107.96999890000001, 110.0, 112.81643840000001], \"low\": [1.3, 1.3, 1.3, 1.3, 1.29968736, 1.3, 1.3, 1.25, 1.3, 115.0, 107.96999890000001, 109.9999983, 112.81643840000001], \"name\": \"Credit Suisse\", \"open\": [1.266051071, 1.3, 1.3, 1.3, 1.29968736, 1.3, 1.3, 1.25, 1.3, 115.0, 107.96999890000001, 110.0, 112.81643840000001], \"type\": \"candlestick\", \"x\": [\"2/6/2021\", \"3/6/2021\", \"7/6/2021\", \"9/6/2021\", \"10/6/2021\", \"11/6/2021\", \"15/06/2021\", \"16/06/2021\", \"17/06/2021\", \"18/06/2021\", \"21/06/2021\", \"24/06/2021\", \"28/06/2021\"], \"xaxis\": \"x\", \"yaxis\": \"y\"}, {\"close\": [1.3, 1.300063241, 1.225, 107.5], \"high\": [1.3, 1.300063241, 1.225, 107.5], \"low\": [1.3, 1.300063241, 1.225, 107.5], \"name\": \"IBA\", \"open\": [1.3, 1.300063241, 1.225, 107.5], \"type\": \"candlestick\", \"x\": [\"2/6/2021\", \"15/06/2021\", \"16/06/2021\", \"23/06/2021\"], \"xaxis\": \"x\", \"yaxis\": \"y\"}, {\"close\": [1.2, 1.3, 1.3, 1.3, 1.3, 114.5, 107.0, 110.0], \"high\": [1.25, 1.3, 1.3, 1.3, 1.3, 114.5, 107.0, 110.0], \"low\": [1.2, 1.3, 1.3, 1.3, 1.3, 114.5, 107.0, 110.0], \"name\": \"Merrill Lynch\", \"open\": [1.25, 1.3, 1.3, 1.3, 1.3, 114.5, 107.0, 110.0], \"type\": \"candlestick\", \"x\": [\"2/6/2021\", \"8/6/2021\", \"10/6/2021\", \"11/6/2021\", \"15/06/2021\", \"18/06/2021\", \"23/06/2021\", \"28/06/2021\"], \"xaxis\": \"x\", \"yaxis\": \"y\"}, {\"close\": [1.3], \"high\": [1.3], \"low\": [1.3], \"name\": \"Morgans\", \"open\": [1.3], \"type\": \"candlestick\", \"x\": [\"2/6/2021\"], \"xaxis\": \"x\", \"yaxis\": \"y\"}, {\"close\": [1.2, 1.3, 1.3, 1.3, 1.3, 1.3, 1.3, 1.2, 108.5], \"high\": [1.274169758, 1.3, 1.3, 1.3, 1.3, 1.3, 1.3, 1.2, 108.5], \"low\": [1.2, 1.3, 1.3, 1.3, 1.3, 1.3, 1.3, 1.2, 108.5], \"name\": \"OpenMarkets\", \"open\": [1.274169758, 1.3, 1.3, 1.3, 1.3, 1.3, 1.3, 1.2, 108.5], \"type\": \"candlestick\", \"x\": [\"2/6/2021\", \"3/6/2021\", \"4/6/2021\", \"7/6/2021\", \"9/6/2021\", \"10/6/2021\", \"15/06/2021\", \"17/06/2021\", \"22/06/2021\"], \"xaxis\": \"x\", \"yaxis\": \"y\"}, {\"close\": [1.2, 1.2], \"high\": [1.2, 1.2], \"low\": [1.2, 1.2], \"name\": \"Pershing\", \"open\": [1.2, 1.2], \"type\": \"candlestick\", \"x\": [\"2/6/2021\", \"17/06/2021\"], \"xaxis\": \"x\", \"yaxis\": \"y\"}, {\"close\": [1.3, 1.3, 1.3, 1.3, 107.0], \"high\": [1.3, 1.3, 1.3, 1.3, 107.0], \"low\": [1.3, 1.3, 1.3, 1.3, 107.0], \"name\": \"State One Stock\", \"open\": [1.3, 1.3, 1.3, 1.3, 107.0], \"type\": \"candlestick\", \"x\": [\"2/6/2021\", \"7/6/2021\", \"8/6/2021\", \"9/6/2021\", \"23/06/2021\"], \"xaxis\": \"x\", \"yaxis\": \"y\"}, {\"close\": [1.37711617, 1.3, 106.0, 110.0], \"high\": [1.229030176, 1.3, 106.0, 110.0], \"low\": [1.37711617, 1.3, 106.0, 110.0], \"name\": \"Third Party\", \"open\": [1.229030176, 1.3, 106.0, 110.0], \"type\": \"candlestick\", \"x\": [\"2/6/2021\", \"4/6/2021\", \"21/06/2021\", \"28/06/2021\"], \"xaxis\": \"x\", \"yaxis\": \"y\"}, {\"close\": [1.2, 1.3, 1.3, 1.3, 1.2, 1.2, 1.3, 1.3, 1.2], \"high\": [1.3, 1.3, 1.3, 1.3, 1.3, 1.3, 1.3, 1.3, 1.2], \"low\": [1.2, 1.3, 1.3, 1.3, 1.2, 1.2, 1.3, 1.3, 1.2], \"name\": \"Virtu Financial\", \"open\": [1.3, 1.3, 1.3, 1.3, 1.3, 1.3, 1.3, 1.3, 1.2], \"type\": \"candlestick\", \"x\": [\"2/6/2021\", \"3/6/2021\", \"4/6/2021\", \"7/6/2021\", \"8/6/2021\", \"9/6/2021\", \"10/6/2021\", \"15/06/2021\", \"17/06/2021\"], \"xaxis\": \"x\", \"yaxis\": \"y\"}, {\"close\": [1.4, 1.3, 1.3, 1.3, 1.3, 116.34254609999999, 111.0, 107.0274084, 109.0], \"high\": [1.4, 1.3, 1.3, 1.3, 1.3, 120.0, 108.5, 107.5, 109.0], \"low\": [1.4, 1.3, 1.3, 1.3, 1.3, 116.34254609999999, 111.0, 107.0274084, 109.0], \"name\": \"Wealthhub Sec\", \"open\": [1.4, 1.3, 1.3, 1.3, 1.3, 120.0, 108.5, 107.5, 109.0], \"type\": \"candlestick\", \"x\": [\"2/6/2021\", \"3/6/2021\", \"10/6/2021\", \"11/6/2021\", \"15/06/2021\", \"18/06/2021\", \"21/06/2021\", \"23/06/2021\", \"24/06/2021\"], \"xaxis\": \"x\", \"yaxis\": \"y\"}, {\"close\": [1.3, 1.3], \"high\": [1.3, 1.3], \"low\": [1.3, 1.3], \"name\": \"InstinetNomura\", \"open\": [1.3, 1.3], \"type\": \"candlestick\", \"x\": [\"4/6/2021\", \"9/6/2021\"], \"xaxis\": \"x\", \"yaxis\": \"y\"}, {\"close\": [1.3, 108.0], \"high\": [1.3, 108.0], \"low\": [1.3, 108.0], \"name\": \"Morrison\", \"open\": [1.3, 108.0], \"type\": \"candlestick\", \"x\": [\"7/6/2021\", \"22/06/2021\"], \"xaxis\": \"x\", \"yaxis\": \"y\"}, {\"close\": [1.225244494, 1.3, 1.3, 108.0, 107.0, 107.5, 109.68958740000001, 110.4360465], \"high\": [1.225244494, 1.3, 1.3, 108.0, 107.0, 107.5, 109.68958740000001, 110.4360465], \"low\": [1.225244494, 1.3, 1.3, 108.0, 107.0, 107.5, 109.68958740000001, 110.4360465], \"name\": \"Patersons\", \"open\": [1.225244494, 1.3, 1.3, 108.0, 107.0, 107.5, 109.68958740000001, 110.4360465], \"type\": \"candlestick\", \"x\": [\"8/6/2021\", \"9/6/2021\", \"11/6/2021\", \"21/06/2021\", \"22/06/2021\", \"23/06/2021\", \"24/06/2021\", \"25/06/2021\"], \"xaxis\": \"x\", \"yaxis\": \"y\"}, {\"close\": [1.25, 115.0], \"high\": [1.25, 115.0], \"low\": [1.25, 115.0], \"name\": \"Citigroup\", \"open\": [1.25, 115.0], \"type\": \"candlestick\", \"x\": [\"10/6/2021\", \"18/06/2021\"], \"xaxis\": \"x\", \"yaxis\": \"y\"}, {\"close\": [1.2, 108.07705290000001, 110.0, 110.0], \"high\": [1.2, 108.07705290000001, 110.0, 110.0], \"low\": [1.2, 108.07705290000001, 110.0, 110.0], \"name\": \"Shaw\", \"open\": [1.2, 108.07705290000001, 110.0, 110.0], \"type\": \"candlestick\", \"x\": [\"17/06/2021\", \"22/06/2021\", \"25/06/2021\", \"28/06/2021\"], \"xaxis\": \"x\", \"yaxis\": \"y\"}, {\"close\": [108.0], \"high\": [108.0], \"low\": [108.0], \"name\": \"Morgan Stanley\", \"open\": [108.0], \"type\": \"candlestick\", \"x\": [\"24/06/2021\"], \"xaxis\": \"x\", \"yaxis\": \"y\"}, {\"close\": [116.44076880000001, 121.18325290000001], \"high\": [116.44076880000001, 121.18325290000001], \"low\": [116.44076880000001, 121.18325290000001], \"name\": \"Unassigned Transactions\", \"open\": [116.44076880000001, 121.18325290000001], \"type\": \"candlestick\", \"x\": [\"29/06/2021\", \"30/06/2021\"], \"xaxis\": \"x\", \"yaxis\": \"y\"}],                        {\"annotations\": [{\"font\": {\"size\": 16}, \"showarrow\": false, \"text\": \"High-Low\", \"x\": 0.5, \"xanchor\": \"center\", \"xref\": \"paper\", \"y\": 1.0, \"yanchor\": \"bottom\", \"yref\": \"paper\"}], \"template\": {\"data\": {\"bar\": [{\"error_x\": {\"color\": \"#2a3f5f\"}, \"error_y\": {\"color\": \"#2a3f5f\"}, \"marker\": {\"line\": {\"color\": \"#E5ECF6\", \"width\": 0.5}}, \"type\": \"bar\"}], \"barpolar\": [{\"marker\": {\"line\": {\"color\": \"#E5ECF6\", \"width\": 0.5}}, \"type\": \"barpolar\"}], \"carpet\": [{\"aaxis\": {\"endlinecolor\": \"#2a3f5f\", \"gridcolor\": \"white\", \"linecolor\": \"white\", \"minorgridcolor\": \"white\", \"startlinecolor\": \"#2a3f5f\"}, \"baxis\": {\"endlinecolor\": \"#2a3f5f\", \"gridcolor\": \"white\", \"linecolor\": \"white\", \"minorgridcolor\": \"white\", \"startlinecolor\": \"#2a3f5f\"}, \"type\": \"carpet\"}], \"choropleth\": [{\"colorbar\": {\"outlinewidth\": 0, \"ticks\": \"\"}, \"type\": \"choropleth\"}], \"contour\": [{\"colorbar\": {\"outlinewidth\": 0, \"ticks\": \"\"}, \"colorscale\": [[0.0, \"#0d0887\"], [0.1111111111111111, \"#46039f\"], [0.2222222222222222, \"#7201a8\"], [0.3333333333333333, \"#9c179e\"], [0.4444444444444444, \"#bd3786\"], [0.5555555555555556, \"#d8576b\"], [0.6666666666666666, \"#ed7953\"], [0.7777777777777778, \"#fb9f3a\"], [0.8888888888888888, \"#fdca26\"], [1.0, \"#f0f921\"]], \"type\": \"contour\"}], \"contourcarpet\": [{\"colorbar\": {\"outlinewidth\": 0, \"ticks\": \"\"}, \"type\": \"contourcarpet\"}], \"heatmap\": [{\"colorbar\": {\"outlinewidth\": 0, \"ticks\": \"\"}, \"colorscale\": [[0.0, \"#0d0887\"], [0.1111111111111111, \"#46039f\"], [0.2222222222222222, \"#7201a8\"], [0.3333333333333333, \"#9c179e\"], [0.4444444444444444, \"#bd3786\"], [0.5555555555555556, \"#d8576b\"], [0.6666666666666666, \"#ed7953\"], [0.7777777777777778, \"#fb9f3a\"], [0.8888888888888888, \"#fdca26\"], [1.0, \"#f0f921\"]], \"type\": \"heatmap\"}], \"heatmapgl\": [{\"colorbar\": {\"outlinewidth\": 0, \"ticks\": \"\"}, \"colorscale\": [[0.0, \"#0d0887\"], [0.1111111111111111, \"#46039f\"], [0.2222222222222222, \"#7201a8\"], [0.3333333333333333, \"#9c179e\"], [0.4444444444444444, \"#bd3786\"], [0.5555555555555556, \"#d8576b\"], [0.6666666666666666, \"#ed7953\"], [0.7777777777777778, \"#fb9f3a\"], [0.8888888888888888, \"#fdca26\"], [1.0, \"#f0f921\"]], \"type\": \"heatmapgl\"}], \"histogram\": [{\"marker\": {\"colorbar\": {\"outlinewidth\": 0, \"ticks\": \"\"}}, \"type\": \"histogram\"}], \"histogram2d\": [{\"colorbar\": {\"outlinewidth\": 0, \"ticks\": \"\"}, \"colorscale\": [[0.0, \"#0d0887\"], [0.1111111111111111, \"#46039f\"], [0.2222222222222222, \"#7201a8\"], [0.3333333333333333, \"#9c179e\"], [0.4444444444444444, \"#bd3786\"], [0.5555555555555556, \"#d8576b\"], [0.6666666666666666, \"#ed7953\"], [0.7777777777777778, \"#fb9f3a\"], [0.8888888888888888, \"#fdca26\"], [1.0, \"#f0f921\"]], \"type\": \"histogram2d\"}], \"histogram2dcontour\": [{\"colorbar\": {\"outlinewidth\": 0, \"ticks\": \"\"}, \"colorscale\": [[0.0, \"#0d0887\"], [0.1111111111111111, \"#46039f\"], [0.2222222222222222, \"#7201a8\"], [0.3333333333333333, \"#9c179e\"], [0.4444444444444444, \"#bd3786\"], [0.5555555555555556, \"#d8576b\"], [0.6666666666666666, \"#ed7953\"], [0.7777777777777778, \"#fb9f3a\"], [0.8888888888888888, \"#fdca26\"], [1.0, \"#f0f921\"]], \"type\": \"histogram2dcontour\"}], \"mesh3d\": [{\"colorbar\": {\"outlinewidth\": 0, \"ticks\": \"\"}, \"type\": \"mesh3d\"}], \"parcoords\": [{\"line\": {\"colorbar\": {\"outlinewidth\": 0, \"ticks\": \"\"}}, \"type\": \"parcoords\"}], \"pie\": [{\"automargin\": true, \"type\": \"pie\"}], \"scatter\": [{\"marker\": {\"colorbar\": {\"outlinewidth\": 0, \"ticks\": \"\"}}, \"type\": \"scatter\"}], \"scatter3d\": [{\"line\": {\"colorbar\": {\"outlinewidth\": 0, \"ticks\": \"\"}}, \"marker\": {\"colorbar\": {\"outlinewidth\": 0, \"ticks\": \"\"}}, \"type\": \"scatter3d\"}], \"scattercarpet\": [{\"marker\": {\"colorbar\": {\"outlinewidth\": 0, \"ticks\": \"\"}}, \"type\": \"scattercarpet\"}], \"scattergeo\": [{\"marker\": {\"colorbar\": {\"outlinewidth\": 0, \"ticks\": \"\"}}, \"type\": \"scattergeo\"}], \"scattergl\": [{\"marker\": {\"colorbar\": {\"outlinewidth\": 0, \"ticks\": \"\"}}, \"type\": \"scattergl\"}], \"scattermapbox\": [{\"marker\": {\"colorbar\": {\"outlinewidth\": 0, \"ticks\": \"\"}}, \"type\": \"scattermapbox\"}], \"scatterpolar\": [{\"marker\": {\"colorbar\": {\"outlinewidth\": 0, \"ticks\": \"\"}}, \"type\": \"scatterpolar\"}], \"scatterpolargl\": [{\"marker\": {\"colorbar\": {\"outlinewidth\": 0, \"ticks\": \"\"}}, \"type\": \"scatterpolargl\"}], \"scatterternary\": [{\"marker\": {\"colorbar\": {\"outlinewidth\": 0, \"ticks\": \"\"}}, \"type\": \"scatterternary\"}], \"surface\": [{\"colorbar\": {\"outlinewidth\": 0, \"ticks\": \"\"}, \"colorscale\": [[0.0, \"#0d0887\"], [0.1111111111111111, \"#46039f\"], [0.2222222222222222, \"#7201a8\"], [0.3333333333333333, \"#9c179e\"], [0.4444444444444444, \"#bd3786\"], [0.5555555555555556, \"#d8576b\"], [0.6666666666666666, \"#ed7953\"], [0.7777777777777778, \"#fb9f3a\"], [0.8888888888888888, \"#fdca26\"], [1.0, \"#f0f921\"]], \"type\": \"surface\"}], \"table\": [{\"cells\": {\"fill\": {\"color\": \"#EBF0F8\"}, \"line\": {\"color\": \"white\"}}, \"header\": {\"fill\": {\"color\": \"#C8D4E3\"}, \"line\": {\"color\": \"white\"}}, \"type\": \"table\"}]}, \"layout\": {\"annotationdefaults\": {\"arrowcolor\": \"#2a3f5f\", \"arrowhead\": 0, \"arrowwidth\": 1}, \"autotypenumbers\": \"strict\", \"coloraxis\": {\"colorbar\": {\"outlinewidth\": 0, \"ticks\": \"\"}}, \"colorscale\": {\"diverging\": [[0, \"#8e0152\"], [0.1, \"#c51b7d\"], [0.2, \"#de77ae\"], [0.3, \"#f1b6da\"], [0.4, \"#fde0ef\"], [0.5, \"#f7f7f7\"], [0.6, \"#e6f5d0\"], [0.7, \"#b8e186\"], [0.8, \"#7fbc41\"], [0.9, \"#4d9221\"], [1, \"#276419\"]], \"sequential\": [[0.0, \"#0d0887\"], [0.1111111111111111, \"#46039f\"], [0.2222222222222222, \"#7201a8\"], [0.3333333333333333, \"#9c179e\"], [0.4444444444444444, \"#bd3786\"], [0.5555555555555556, \"#d8576b\"], [0.6666666666666666, \"#ed7953\"], [0.7777777777777778, \"#fb9f3a\"], [0.8888888888888888, \"#fdca26\"], [1.0, \"#f0f921\"]], \"sequentialminus\": [[0.0, \"#0d0887\"], [0.1111111111111111, \"#46039f\"], [0.2222222222222222, \"#7201a8\"], [0.3333333333333333, \"#9c179e\"], [0.4444444444444444, \"#bd3786\"], [0.5555555555555556, \"#d8576b\"], [0.6666666666666666, \"#ed7953\"], [0.7777777777777778, \"#fb9f3a\"], [0.8888888888888888, \"#fdca26\"], [1.0, \"#f0f921\"]]}, \"colorway\": [\"#636efa\", \"#EF553B\", \"#00cc96\", \"#ab63fa\", \"#FFA15A\", \"#19d3f3\", \"#FF6692\", \"#B6E880\", \"#FF97FF\", \"#FECB52\"], \"font\": {\"color\": \"#2a3f5f\"}, \"geo\": {\"bgcolor\": \"white\", \"lakecolor\": \"white\", \"landcolor\": \"#E5ECF6\", \"showlakes\": true, \"showland\": true, \"subunitcolor\": \"white\"}, \"hoverlabel\": {\"align\": \"left\"}, \"hovermode\": \"closest\", \"mapbox\": {\"style\": \"light\"}, \"paper_bgcolor\": \"white\", \"plot_bgcolor\": \"#E5ECF6\", \"polar\": {\"angularaxis\": {\"gridcolor\": \"white\", \"linecolor\": \"white\", \"ticks\": \"\"}, \"bgcolor\": \"#E5ECF6\", \"radialaxis\": {\"gridcolor\": \"white\", \"linecolor\": \"white\", \"ticks\": \"\"}}, \"scene\": {\"xaxis\": {\"backgroundcolor\": \"#E5ECF6\", \"gridcolor\": \"white\", \"gridwidth\": 2, \"linecolor\": \"white\", \"showbackground\": true, \"ticks\": \"\", \"zerolinecolor\": \"white\"}, \"yaxis\": {\"backgroundcolor\": \"#E5ECF6\", \"gridcolor\": \"white\", \"gridwidth\": 2, \"linecolor\": \"white\", \"showbackground\": true, \"ticks\": \"\", \"zerolinecolor\": \"white\"}, \"zaxis\": {\"backgroundcolor\": \"#E5ECF6\", \"gridcolor\": \"white\", \"gridwidth\": 2, \"linecolor\": \"white\", \"showbackground\": true, \"ticks\": \"\", \"zerolinecolor\": \"white\"}}, \"shapedefaults\": {\"line\": {\"color\": \"#2a3f5f\"}}, \"ternary\": {\"aaxis\": {\"gridcolor\": \"white\", \"linecolor\": \"white\", \"ticks\": \"\"}, \"baxis\": {\"gridcolor\": \"white\", \"linecolor\": \"white\", \"ticks\": \"\"}, \"bgcolor\": \"#E5ECF6\", \"caxis\": {\"gridcolor\": \"white\", \"linecolor\": \"white\", \"ticks\": \"\"}}, \"title\": {\"x\": 0.05}, \"xaxis\": {\"automargin\": true, \"gridcolor\": \"white\", \"linecolor\": \"white\", \"ticks\": \"\", \"title\": {\"standoff\": 15}, \"zerolinecolor\": \"white\", \"zerolinewidth\": 2}, \"yaxis\": {\"automargin\": true, \"gridcolor\": \"white\", \"linecolor\": \"white\", \"ticks\": \"\", \"title\": {\"standoff\": 15}, \"zerolinecolor\": \"white\", \"zerolinewidth\": 2}}}, \"xaxis\": {\"anchor\": \"y\", \"domain\": [0.0, 1.0], \"rangeslider\": {\"visible\": false}}, \"xaxis2\": {\"anchor\": \"y2\", \"domain\": [0.0, 1.0]}, \"yaxis\": {\"anchor\": \"x\", \"domain\": [0.24555555555555558, 1.0]}, \"yaxis2\": {\"anchor\": \"x2\", \"domain\": [0.0, 0.21555555555555558]}},                        {\"responsive\": true}                    ).then(function(){\n",
       "                            \n",
       "var gd = document.getElementById('0d4c6b37-97c3-43a3-9884-5579b5921cdc');\n",
       "var x = new MutationObserver(function (mutations, observer) {{\n",
       "        var display = window.getComputedStyle(gd).display;\n",
       "        if (!display || display === 'none') {{\n",
       "            console.log([gd, 'removed!']);\n",
       "            Plotly.purge(gd);\n",
       "            observer.disconnect();\n",
       "        }}\n",
       "}});\n",
       "\n",
       "// Listen for the removal of the full notebook cells\n",
       "var notebookContainer = gd.closest('#notebook-container');\n",
       "if (notebookContainer) {{\n",
       "    x.observe(notebookContainer, {childList: true});\n",
       "}}\n",
       "\n",
       "// Listen for the clearing of the current output cell\n",
       "var outputEl = gd.closest('.output');\n",
       "if (outputEl) {{\n",
       "    x.observe(outputEl, {childList: true});\n",
       "}}\n",
       "\n",
       "                        })                };                });            </script>        </div>"
      ]
     },
     "metadata": {},
     "output_type": "display_data"
    }
   ],
   "source": [
    "pd.options.mode.chained_assignment = None  # default='warn'\n",
    "\n",
    "def process_df(df):\n",
    "    df['Sell Price'] = np.where(df['Sell Price'] == 0,df['Buy Price'],df['Sell Price'])\n",
    "    df['Buy Price'] = np.where(df['Buy Price'] == 0,df['Sell Price'],df['Buy Price'])\n",
    "\n",
    "def overlay_plotting():\n",
    "    global file_name\n",
    "    \n",
    "    graph1_df = pd.read_csv(file_name)\n",
    "    df = graph1_df[graph1_df['Broker'] != 'Total']\n",
    "    lob = df['Broker'].unique().tolist()\n",
    "    \n",
    "    process_df(df)\n",
    "    \n",
    "    fig = make_subplots(rows=2, cols=1, shared_xaxes=False, vertical_spacing=0.03, subplot_titles=('High-Low',''), row_width=[0.2, 0.7])\n",
    "    for i in lob:\n",
    "        temp_df = df[df['Broker'] == i]\n",
    "        fig.add_trace(go.Candlestick(x=temp_df['Date (DD/MM/YYYY)'], open=temp_df['Sell Price'], high=temp_df['Sell Price'], low=temp_df['Buy Price'], close=temp_df['Buy Price'], name=i),row=1, col=1)\n",
    "\n",
    "    fig.update(layout_xaxis_rangeslider_visible=False)\n",
    "\n",
    "    fig.show()\n",
    "\n",
    "overlay_plotting()"
   ]
  },
  {
   "cell_type": "code",
   "execution_count": 49,
   "metadata": {},
   "outputs": [],
   "source": [
    "# if __name__==\"__main__\":\n",
    "#     main()"
   ]
  },
  {
   "cell_type": "code",
   "execution_count": 50,
   "metadata": {},
   "outputs": [],
   "source": [
    "# from openpyxl import Workbook\n",
    "# from openpyxl.drawing.image import Image\n",
    "\n",
    "# def graph1_plotting():\n",
    "#     global graph1_df\n",
    "#     fig = go.Figure(data=[go.Candlestick(x=graph1_df['Date (DD/MM/YYYY)'], open=graph1_df['Sell Price'], high=graph1_df['Sell Price'], low=graph1_df['Buy Price'], close=graph1_df['Buy Price'])])\n",
    "#     fig.show()\n",
    "    \n",
    "#     fig.write_image(\"fig.png\")\n",
    "# #     wb = Workbook()\n",
    "# #     sheet1 = wb.create_sheet('sheet1',0)\n",
    "# #     active = wb['sheet1']\n",
    "# #     active.add_image(Image('fig.png'),'E1')\n",
    "\n",
    "# #     wb.save('total.xlsx')\n",
    "    \n",
    "# graph1_plotting()"
   ]
  },
  {
   "cell_type": "code",
   "execution_count": null,
   "metadata": {},
   "outputs": [],
   "source": []
  },
  {
   "cell_type": "code",
   "execution_count": null,
   "metadata": {},
   "outputs": [],
   "source": []
  }
 ],
 "metadata": {
  "kernelspec": {
   "display_name": "Python 3",
   "language": "python",
   "name": "python3"
  },
  "language_info": {
   "codemirror_mode": {
    "name": "ipython",
    "version": 3
   },
   "file_extension": ".py",
   "mimetype": "text/x-python",
   "name": "python",
   "nbconvert_exporter": "python",
   "pygments_lexer": "ipython3",
   "version": "3.8.5"
  }
 },
 "nbformat": 4,
 "nbformat_minor": 4
}
